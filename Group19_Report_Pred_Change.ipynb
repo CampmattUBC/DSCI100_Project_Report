{
 "cells": [
  {
   "cell_type": "markdown",
   "metadata": {},
   "source": [
    "# Predicting Heart Disease - A Classification Problem for Cleveland Patients\n",
    "\n",
    "##### Group 19: Matthew Campbell, Andy Li, Fang Peian, Pedro Vieira Sodre"
   ]
  },
  {
   "cell_type": "markdown",
   "metadata": {},
   "source": [
    "### A) Introduction:\n",
    "\n",
    "All over the world, developed nations provide a comfortable and safe quality of life. However, this has led their populations to trend towards more sedentary, high caloric lifestyles that have been proven to play a major role in the increased incidence of heart disease (Ornish et al., 1990). Heart disease is one of the leading causes of mortality in the Western world, and therefore, factors that might contribute to its diagnosis are under constant study.\n",
    "\n",
    "In this project, our team will analyze various factors that are believed to play some role in the development of heart disease. We will use a heart disease data set from the [UCI Machine Learning Repository](https://archive.ics.uci.edu/ml/datasets/Heart+Disease) to accomplish this. We will be analyzing the processed data from Cleveland consisting of 14 different variables collected from patients entering the hospital and complaining of their chest pain. We will tidy this dataset and determine the optimal number of predictor variables for a K-nearest neighbors (KNN) classification that will answer the following question:\n",
    "    \n",
    "    In Cleveland, are there predictors that nicely segregate patients with heart disease from patients without heart disease. And, can we use these factors to accurately predict whether or not new patients are likely to have advanced heart disease?  \n",
    "***\n",
    "   "
   ]
  },
  {
   "cell_type": "markdown",
   "metadata": {},
   "source": [
    " "
   ]
  },
  {
   "cell_type": "markdown",
   "metadata": {},
   "source": [
    "### B) Preliminary Exploratory Data Analysis:\n",
    "\n",
    "For this project we will load the following three library packages:\n",
    "* tidyverse - to collect, tidy and wrangle our dataset\n",
    "* repr - for plotting our visualizations\n",
    "* tidymodels - to streamline our KNN calculations\n",
    "* cowplot - to aid in visualizations"
   ]
  },
  {
   "cell_type": "code",
   "execution_count": 20,
   "metadata": {},
   "outputs": [],
   "source": [
    "library(tidyverse)\n",
    "library(repr)\n",
    "library(tidymodels)\n",
    "library(cowplot)"
   ]
  },
  {
   "cell_type": "markdown",
   "metadata": {},
   "source": [
    " \n",
    " \n",
    " \n"
   ]
  },
  {
   "cell_type": "markdown",
   "metadata": {},
   "source": [
    "Next, we will download our dataset from the web and rename all of the variable columns with the names given in the original website. We have included a list describing all the predictors in an appendix at the end of this proposal. The data set contains 303 observations."
   ]
  },
  {
   "cell_type": "code",
   "execution_count": 21,
   "metadata": {},
   "outputs": [
    {
     "name": "stderr",
     "output_type": "stream",
     "text": [
      "Parsed with column specification:\n",
      "cols(\n",
      "  X1 = \u001b[32mcol_double()\u001b[39m,\n",
      "  X2 = \u001b[32mcol_double()\u001b[39m,\n",
      "  X3 = \u001b[32mcol_double()\u001b[39m,\n",
      "  X4 = \u001b[32mcol_double()\u001b[39m,\n",
      "  X5 = \u001b[32mcol_double()\u001b[39m,\n",
      "  X6 = \u001b[32mcol_double()\u001b[39m,\n",
      "  X7 = \u001b[32mcol_double()\u001b[39m,\n",
      "  X8 = \u001b[32mcol_double()\u001b[39m,\n",
      "  X9 = \u001b[32mcol_double()\u001b[39m,\n",
      "  X10 = \u001b[32mcol_double()\u001b[39m,\n",
      "  X11 = \u001b[32mcol_double()\u001b[39m,\n",
      "  X12 = \u001b[31mcol_character()\u001b[39m,\n",
      "  X13 = \u001b[31mcol_character()\u001b[39m,\n",
      "  X14 = \u001b[32mcol_double()\u001b[39m\n",
      ")\n",
      "\n"
     ]
    },
    {
     "data": {
      "text/html": [
       "<table>\n",
       "<caption>A tibble: 6 × 14</caption>\n",
       "<thead>\n",
       "\t<tr><th scope=col>age</th><th scope=col>sex</th><th scope=col>chest_pain_type</th><th scope=col>resting_bp</th><th scope=col>cholesterol</th><th scope=col>fasting_bs</th><th scope=col>resting_ecg</th><th scope=col>heartrate_max</th><th scope=col>exang</th><th scope=col>oldpeak</th><th scope=col>slope</th><th scope=col>ca</th><th scope=col>thal</th><th scope=col>disease_status</th></tr>\n",
       "\t<tr><th scope=col>&lt;dbl&gt;</th><th scope=col>&lt;dbl&gt;</th><th scope=col>&lt;dbl&gt;</th><th scope=col>&lt;dbl&gt;</th><th scope=col>&lt;dbl&gt;</th><th scope=col>&lt;dbl&gt;</th><th scope=col>&lt;dbl&gt;</th><th scope=col>&lt;dbl&gt;</th><th scope=col>&lt;dbl&gt;</th><th scope=col>&lt;dbl&gt;</th><th scope=col>&lt;dbl&gt;</th><th scope=col>&lt;chr&gt;</th><th scope=col>&lt;chr&gt;</th><th scope=col>&lt;dbl&gt;</th></tr>\n",
       "</thead>\n",
       "<tbody>\n",
       "\t<tr><td>63</td><td>1</td><td>1</td><td>145</td><td>233</td><td>1</td><td>2</td><td>150</td><td>0</td><td>2.3</td><td>3</td><td>0.0</td><td>6.0</td><td>0</td></tr>\n",
       "\t<tr><td>67</td><td>1</td><td>4</td><td>160</td><td>286</td><td>0</td><td>2</td><td>108</td><td>1</td><td>1.5</td><td>2</td><td>3.0</td><td>3.0</td><td>2</td></tr>\n",
       "\t<tr><td>67</td><td>1</td><td>4</td><td>120</td><td>229</td><td>0</td><td>2</td><td>129</td><td>1</td><td>2.6</td><td>2</td><td>2.0</td><td>7.0</td><td>1</td></tr>\n",
       "\t<tr><td>37</td><td>1</td><td>3</td><td>130</td><td>250</td><td>0</td><td>0</td><td>187</td><td>0</td><td>3.5</td><td>3</td><td>0.0</td><td>3.0</td><td>0</td></tr>\n",
       "\t<tr><td>41</td><td>0</td><td>2</td><td>130</td><td>204</td><td>0</td><td>2</td><td>172</td><td>0</td><td>1.4</td><td>1</td><td>0.0</td><td>3.0</td><td>0</td></tr>\n",
       "\t<tr><td>56</td><td>1</td><td>2</td><td>120</td><td>236</td><td>0</td><td>0</td><td>178</td><td>0</td><td>0.8</td><td>1</td><td>0.0</td><td>3.0</td><td>0</td></tr>\n",
       "</tbody>\n",
       "</table>\n"
      ],
      "text/latex": [
       "A tibble: 6 × 14\n",
       "\\begin{tabular}{llllllllllllll}\n",
       " age & sex & chest\\_pain\\_type & resting\\_bp & cholesterol & fasting\\_bs & resting\\_ecg & heartrate\\_max & exang & oldpeak & slope & ca & thal & disease\\_status\\\\\n",
       " <dbl> & <dbl> & <dbl> & <dbl> & <dbl> & <dbl> & <dbl> & <dbl> & <dbl> & <dbl> & <dbl> & <chr> & <chr> & <dbl>\\\\\n",
       "\\hline\n",
       "\t 63 & 1 & 1 & 145 & 233 & 1 & 2 & 150 & 0 & 2.3 & 3 & 0.0 & 6.0 & 0\\\\\n",
       "\t 67 & 1 & 4 & 160 & 286 & 0 & 2 & 108 & 1 & 1.5 & 2 & 3.0 & 3.0 & 2\\\\\n",
       "\t 67 & 1 & 4 & 120 & 229 & 0 & 2 & 129 & 1 & 2.6 & 2 & 2.0 & 7.0 & 1\\\\\n",
       "\t 37 & 1 & 3 & 130 & 250 & 0 & 0 & 187 & 0 & 3.5 & 3 & 0.0 & 3.0 & 0\\\\\n",
       "\t 41 & 0 & 2 & 130 & 204 & 0 & 2 & 172 & 0 & 1.4 & 1 & 0.0 & 3.0 & 0\\\\\n",
       "\t 56 & 1 & 2 & 120 & 236 & 0 & 0 & 178 & 0 & 0.8 & 1 & 0.0 & 3.0 & 0\\\\\n",
       "\\end{tabular}\n"
      ],
      "text/markdown": [
       "\n",
       "A tibble: 6 × 14\n",
       "\n",
       "| age &lt;dbl&gt; | sex &lt;dbl&gt; | chest_pain_type &lt;dbl&gt; | resting_bp &lt;dbl&gt; | cholesterol &lt;dbl&gt; | fasting_bs &lt;dbl&gt; | resting_ecg &lt;dbl&gt; | heartrate_max &lt;dbl&gt; | exang &lt;dbl&gt; | oldpeak &lt;dbl&gt; | slope &lt;dbl&gt; | ca &lt;chr&gt; | thal &lt;chr&gt; | disease_status &lt;dbl&gt; |\n",
       "|---|---|---|---|---|---|---|---|---|---|---|---|---|---|\n",
       "| 63 | 1 | 1 | 145 | 233 | 1 | 2 | 150 | 0 | 2.3 | 3 | 0.0 | 6.0 | 0 |\n",
       "| 67 | 1 | 4 | 160 | 286 | 0 | 2 | 108 | 1 | 1.5 | 2 | 3.0 | 3.0 | 2 |\n",
       "| 67 | 1 | 4 | 120 | 229 | 0 | 2 | 129 | 1 | 2.6 | 2 | 2.0 | 7.0 | 1 |\n",
       "| 37 | 1 | 3 | 130 | 250 | 0 | 0 | 187 | 0 | 3.5 | 3 | 0.0 | 3.0 | 0 |\n",
       "| 41 | 0 | 2 | 130 | 204 | 0 | 2 | 172 | 0 | 1.4 | 1 | 0.0 | 3.0 | 0 |\n",
       "| 56 | 1 | 2 | 120 | 236 | 0 | 0 | 178 | 0 | 0.8 | 1 | 0.0 | 3.0 | 0 |\n",
       "\n"
      ],
      "text/plain": [
       "  age sex chest_pain_type resting_bp cholesterol fasting_bs resting_ecg\n",
       "1 63  1   1               145        233         1          2          \n",
       "2 67  1   4               160        286         0          2          \n",
       "3 67  1   4               120        229         0          2          \n",
       "4 37  1   3               130        250         0          0          \n",
       "5 41  0   2               130        204         0          2          \n",
       "6 56  1   2               120        236         0          0          \n",
       "  heartrate_max exang oldpeak slope ca  thal disease_status\n",
       "1 150           0     2.3     3     0.0 6.0  0             \n",
       "2 108           1     1.5     2     3.0 3.0  2             \n",
       "3 129           1     2.6     2     2.0 7.0  1             \n",
       "4 187           0     3.5     3     0.0 3.0  0             \n",
       "5 172           0     1.4     1     0.0 3.0  0             \n",
       "6 178           0     0.8     1     0.0 3.0  0             "
      ]
     },
     "metadata": {},
     "output_type": "display_data"
    },
    {
     "data": {
      "text/html": [
       "303"
      ],
      "text/latex": [
       "303"
      ],
      "text/markdown": [
       "303"
      ],
      "text/plain": [
       "[1] 303"
      ]
     },
     "metadata": {},
     "output_type": "display_data"
    }
   ],
   "source": [
    "cleveland_heart_data <- read_csv(file = \"https://archive.ics.uci.edu/ml/machine-learning-databases/heart-disease/processed.cleveland.data\", \n",
    "                                 col_names = FALSE) %>%\n",
    "                        rename(age = \"X1\",\n",
    "                                sex = \"X2\",\n",
    "                                chest_pain_type = \"X3\",\n",
    "                                resting_bp = \"X4\",\n",
    "                                cholesterol = \"X5\",\n",
    "                                fasting_bs = \"X6\",\n",
    "                                resting_ecg = \"X7\",\n",
    "                                heartrate_max = \"X8\",\n",
    "                                exang = \"X9\",\n",
    "                                oldpeak = \"X10\",\n",
    "                                slope = \"X11\",\n",
    "                                ca = \"X12\",\n",
    "                                thal = \"X13\",\n",
    "                                disease_status = \"X14\")\n",
    "\n",
    "head(cleveland_heart_data)\n",
    "nrow(cleveland_heart_data)"
   ]
  },
  {
   "cell_type": "markdown",
   "metadata": {},
   "source": [
    "Upon examination of the original data set in a text editor, we discovered that there are missing measurements represented by question marks (?), and that there are 6 total. We will filter for (?) to make sure this is true for our loaded data."
   ]
  },
  {
   "cell_type": "markdown",
   "metadata": {},
   "source": [
    " \n",
    " "
   ]
  },
  {
   "cell_type": "code",
   "execution_count": 22,
   "metadata": {},
   "outputs": [
    {
     "data": {
      "text/html": [
       "<table>\n",
       "<caption>A spec_tbl_df: 6 × 14</caption>\n",
       "<thead>\n",
       "\t<tr><th scope=col>age</th><th scope=col>sex</th><th scope=col>chest_pain_type</th><th scope=col>resting_bp</th><th scope=col>cholesterol</th><th scope=col>fasting_bs</th><th scope=col>resting_ecg</th><th scope=col>heartrate_max</th><th scope=col>exang</th><th scope=col>oldpeak</th><th scope=col>slope</th><th scope=col>ca</th><th scope=col>thal</th><th scope=col>disease_status</th></tr>\n",
       "\t<tr><th scope=col>&lt;dbl&gt;</th><th scope=col>&lt;dbl&gt;</th><th scope=col>&lt;dbl&gt;</th><th scope=col>&lt;dbl&gt;</th><th scope=col>&lt;dbl&gt;</th><th scope=col>&lt;dbl&gt;</th><th scope=col>&lt;dbl&gt;</th><th scope=col>&lt;dbl&gt;</th><th scope=col>&lt;dbl&gt;</th><th scope=col>&lt;dbl&gt;</th><th scope=col>&lt;dbl&gt;</th><th scope=col>&lt;chr&gt;</th><th scope=col>&lt;chr&gt;</th><th scope=col>&lt;dbl&gt;</th></tr>\n",
       "</thead>\n",
       "<tbody>\n",
       "\t<tr><td>53</td><td>0</td><td>3</td><td>128</td><td>216</td><td>0</td><td>2</td><td>115</td><td>0</td><td>0.0</td><td>1</td><td>0.0</td><td>?  </td><td>0</td></tr>\n",
       "\t<tr><td>52</td><td>1</td><td>3</td><td>138</td><td>223</td><td>0</td><td>0</td><td>169</td><td>0</td><td>0.0</td><td>1</td><td>?  </td><td>3.0</td><td>0</td></tr>\n",
       "\t<tr><td>43</td><td>1</td><td>4</td><td>132</td><td>247</td><td>1</td><td>2</td><td>143</td><td>1</td><td>0.1</td><td>2</td><td>?  </td><td>7.0</td><td>1</td></tr>\n",
       "\t<tr><td>52</td><td>1</td><td>4</td><td>128</td><td>204</td><td>1</td><td>0</td><td>156</td><td>1</td><td>1.0</td><td>2</td><td>0.0</td><td>?  </td><td>2</td></tr>\n",
       "\t<tr><td>58</td><td>1</td><td>2</td><td>125</td><td>220</td><td>0</td><td>0</td><td>144</td><td>0</td><td>0.4</td><td>2</td><td>?  </td><td>7.0</td><td>0</td></tr>\n",
       "\t<tr><td>38</td><td>1</td><td>3</td><td>138</td><td>175</td><td>0</td><td>0</td><td>173</td><td>0</td><td>0.0</td><td>1</td><td>?  </td><td>3.0</td><td>0</td></tr>\n",
       "</tbody>\n",
       "</table>\n"
      ],
      "text/latex": [
       "A spec\\_tbl\\_df: 6 × 14\n",
       "\\begin{tabular}{llllllllllllll}\n",
       " age & sex & chest\\_pain\\_type & resting\\_bp & cholesterol & fasting\\_bs & resting\\_ecg & heartrate\\_max & exang & oldpeak & slope & ca & thal & disease\\_status\\\\\n",
       " <dbl> & <dbl> & <dbl> & <dbl> & <dbl> & <dbl> & <dbl> & <dbl> & <dbl> & <dbl> & <dbl> & <chr> & <chr> & <dbl>\\\\\n",
       "\\hline\n",
       "\t 53 & 0 & 3 & 128 & 216 & 0 & 2 & 115 & 0 & 0.0 & 1 & 0.0 & ?   & 0\\\\\n",
       "\t 52 & 1 & 3 & 138 & 223 & 0 & 0 & 169 & 0 & 0.0 & 1 & ?   & 3.0 & 0\\\\\n",
       "\t 43 & 1 & 4 & 132 & 247 & 1 & 2 & 143 & 1 & 0.1 & 2 & ?   & 7.0 & 1\\\\\n",
       "\t 52 & 1 & 4 & 128 & 204 & 1 & 0 & 156 & 1 & 1.0 & 2 & 0.0 & ?   & 2\\\\\n",
       "\t 58 & 1 & 2 & 125 & 220 & 0 & 0 & 144 & 0 & 0.4 & 2 & ?   & 7.0 & 0\\\\\n",
       "\t 38 & 1 & 3 & 138 & 175 & 0 & 0 & 173 & 0 & 0.0 & 1 & ?   & 3.0 & 0\\\\\n",
       "\\end{tabular}\n"
      ],
      "text/markdown": [
       "\n",
       "A spec_tbl_df: 6 × 14\n",
       "\n",
       "| age &lt;dbl&gt; | sex &lt;dbl&gt; | chest_pain_type &lt;dbl&gt; | resting_bp &lt;dbl&gt; | cholesterol &lt;dbl&gt; | fasting_bs &lt;dbl&gt; | resting_ecg &lt;dbl&gt; | heartrate_max &lt;dbl&gt; | exang &lt;dbl&gt; | oldpeak &lt;dbl&gt; | slope &lt;dbl&gt; | ca &lt;chr&gt; | thal &lt;chr&gt; | disease_status &lt;dbl&gt; |\n",
       "|---|---|---|---|---|---|---|---|---|---|---|---|---|---|\n",
       "| 53 | 0 | 3 | 128 | 216 | 0 | 2 | 115 | 0 | 0.0 | 1 | 0.0 | ?   | 0 |\n",
       "| 52 | 1 | 3 | 138 | 223 | 0 | 0 | 169 | 0 | 0.0 | 1 | ?   | 3.0 | 0 |\n",
       "| 43 | 1 | 4 | 132 | 247 | 1 | 2 | 143 | 1 | 0.1 | 2 | ?   | 7.0 | 1 |\n",
       "| 52 | 1 | 4 | 128 | 204 | 1 | 0 | 156 | 1 | 1.0 | 2 | 0.0 | ?   | 2 |\n",
       "| 58 | 1 | 2 | 125 | 220 | 0 | 0 | 144 | 0 | 0.4 | 2 | ?   | 7.0 | 0 |\n",
       "| 38 | 1 | 3 | 138 | 175 | 0 | 0 | 173 | 0 | 0.0 | 1 | ?   | 3.0 | 0 |\n",
       "\n"
      ],
      "text/plain": [
       "  age sex chest_pain_type resting_bp cholesterol fasting_bs resting_ecg\n",
       "1 53  0   3               128        216         0          2          \n",
       "2 52  1   3               138        223         0          0          \n",
       "3 43  1   4               132        247         1          2          \n",
       "4 52  1   4               128        204         1          0          \n",
       "5 58  1   2               125        220         0          0          \n",
       "6 38  1   3               138        175         0          0          \n",
       "  heartrate_max exang oldpeak slope ca  thal disease_status\n",
       "1 115           0     0.0     1     0.0 ?    0             \n",
       "2 169           0     0.0     1     ?   3.0  0             \n",
       "3 143           1     0.1     2     ?   7.0  1             \n",
       "4 156           1     1.0     2     0.0 ?    2             \n",
       "5 144           0     0.4     2     ?   7.0  0             \n",
       "6 173           0     0.0     1     ?   3.0  0             "
      ]
     },
     "metadata": {},
     "output_type": "display_data"
    }
   ],
   "source": [
    "question_check <- cleveland_heart_data %>%\n",
    "    filter(age == \"?\" |\n",
    "           sex == \"?\" |\n",
    "           chest_pain_type == \"?\" |\n",
    "           resting_bp == \"?\" |\n",
    "           cholesterol == \"?\" |\n",
    "           fasting_bs == \"?\" |\n",
    "           resting_ecg == \"?\" |\n",
    "           heartrate_max == \"?\" |\n",
    "           exang == \"?\" |\n",
    "           oldpeak == \"?\" |\n",
    "           slope == \"?\" |\n",
    "           ca == \"?\" |\n",
    "           thal == \"?\")\n",
    "question_check"
   ]
  },
  {
   "cell_type": "markdown",
   "metadata": {},
   "source": [
    "We can see that there are indeed 6 total missing measurements located in the ca and thal columns. We will proceed after removing these observations so they don't have an impact on any future analysis we perform."
   ]
  },
  {
   "cell_type": "code",
   "execution_count": 23,
   "metadata": {},
   "outputs": [
    {
     "data": {
      "text/html": [
       "<table>\n",
       "<caption>A tibble: 6 × 14</caption>\n",
       "<thead>\n",
       "\t<tr><th scope=col>age</th><th scope=col>sex</th><th scope=col>chest_pain_type</th><th scope=col>resting_bp</th><th scope=col>cholesterol</th><th scope=col>fasting_bs</th><th scope=col>resting_ecg</th><th scope=col>heartrate_max</th><th scope=col>exang</th><th scope=col>oldpeak</th><th scope=col>slope</th><th scope=col>ca</th><th scope=col>thal</th><th scope=col>disease_status</th></tr>\n",
       "\t<tr><th scope=col>&lt;dbl&gt;</th><th scope=col>&lt;dbl&gt;</th><th scope=col>&lt;dbl&gt;</th><th scope=col>&lt;dbl&gt;</th><th scope=col>&lt;dbl&gt;</th><th scope=col>&lt;dbl&gt;</th><th scope=col>&lt;dbl&gt;</th><th scope=col>&lt;dbl&gt;</th><th scope=col>&lt;dbl&gt;</th><th scope=col>&lt;dbl&gt;</th><th scope=col>&lt;dbl&gt;</th><th scope=col>&lt;chr&gt;</th><th scope=col>&lt;chr&gt;</th><th scope=col>&lt;dbl&gt;</th></tr>\n",
       "</thead>\n",
       "<tbody>\n",
       "\t<tr><td>63</td><td>1</td><td>1</td><td>145</td><td>233</td><td>1</td><td>2</td><td>150</td><td>0</td><td>2.3</td><td>3</td><td>0.0</td><td>6.0</td><td>0</td></tr>\n",
       "\t<tr><td>67</td><td>1</td><td>4</td><td>160</td><td>286</td><td>0</td><td>2</td><td>108</td><td>1</td><td>1.5</td><td>2</td><td>3.0</td><td>3.0</td><td>2</td></tr>\n",
       "\t<tr><td>67</td><td>1</td><td>4</td><td>120</td><td>229</td><td>0</td><td>2</td><td>129</td><td>1</td><td>2.6</td><td>2</td><td>2.0</td><td>7.0</td><td>1</td></tr>\n",
       "\t<tr><td>37</td><td>1</td><td>3</td><td>130</td><td>250</td><td>0</td><td>0</td><td>187</td><td>0</td><td>3.5</td><td>3</td><td>0.0</td><td>3.0</td><td>0</td></tr>\n",
       "\t<tr><td>41</td><td>0</td><td>2</td><td>130</td><td>204</td><td>0</td><td>2</td><td>172</td><td>0</td><td>1.4</td><td>1</td><td>0.0</td><td>3.0</td><td>0</td></tr>\n",
       "\t<tr><td>56</td><td>1</td><td>2</td><td>120</td><td>236</td><td>0</td><td>0</td><td>178</td><td>0</td><td>0.8</td><td>1</td><td>0.0</td><td>3.0</td><td>0</td></tr>\n",
       "</tbody>\n",
       "</table>\n"
      ],
      "text/latex": [
       "A tibble: 6 × 14\n",
       "\\begin{tabular}{llllllllllllll}\n",
       " age & sex & chest\\_pain\\_type & resting\\_bp & cholesterol & fasting\\_bs & resting\\_ecg & heartrate\\_max & exang & oldpeak & slope & ca & thal & disease\\_status\\\\\n",
       " <dbl> & <dbl> & <dbl> & <dbl> & <dbl> & <dbl> & <dbl> & <dbl> & <dbl> & <dbl> & <dbl> & <chr> & <chr> & <dbl>\\\\\n",
       "\\hline\n",
       "\t 63 & 1 & 1 & 145 & 233 & 1 & 2 & 150 & 0 & 2.3 & 3 & 0.0 & 6.0 & 0\\\\\n",
       "\t 67 & 1 & 4 & 160 & 286 & 0 & 2 & 108 & 1 & 1.5 & 2 & 3.0 & 3.0 & 2\\\\\n",
       "\t 67 & 1 & 4 & 120 & 229 & 0 & 2 & 129 & 1 & 2.6 & 2 & 2.0 & 7.0 & 1\\\\\n",
       "\t 37 & 1 & 3 & 130 & 250 & 0 & 0 & 187 & 0 & 3.5 & 3 & 0.0 & 3.0 & 0\\\\\n",
       "\t 41 & 0 & 2 & 130 & 204 & 0 & 2 & 172 & 0 & 1.4 & 1 & 0.0 & 3.0 & 0\\\\\n",
       "\t 56 & 1 & 2 & 120 & 236 & 0 & 0 & 178 & 0 & 0.8 & 1 & 0.0 & 3.0 & 0\\\\\n",
       "\\end{tabular}\n"
      ],
      "text/markdown": [
       "\n",
       "A tibble: 6 × 14\n",
       "\n",
       "| age &lt;dbl&gt; | sex &lt;dbl&gt; | chest_pain_type &lt;dbl&gt; | resting_bp &lt;dbl&gt; | cholesterol &lt;dbl&gt; | fasting_bs &lt;dbl&gt; | resting_ecg &lt;dbl&gt; | heartrate_max &lt;dbl&gt; | exang &lt;dbl&gt; | oldpeak &lt;dbl&gt; | slope &lt;dbl&gt; | ca &lt;chr&gt; | thal &lt;chr&gt; | disease_status &lt;dbl&gt; |\n",
       "|---|---|---|---|---|---|---|---|---|---|---|---|---|---|\n",
       "| 63 | 1 | 1 | 145 | 233 | 1 | 2 | 150 | 0 | 2.3 | 3 | 0.0 | 6.0 | 0 |\n",
       "| 67 | 1 | 4 | 160 | 286 | 0 | 2 | 108 | 1 | 1.5 | 2 | 3.0 | 3.0 | 2 |\n",
       "| 67 | 1 | 4 | 120 | 229 | 0 | 2 | 129 | 1 | 2.6 | 2 | 2.0 | 7.0 | 1 |\n",
       "| 37 | 1 | 3 | 130 | 250 | 0 | 0 | 187 | 0 | 3.5 | 3 | 0.0 | 3.0 | 0 |\n",
       "| 41 | 0 | 2 | 130 | 204 | 0 | 2 | 172 | 0 | 1.4 | 1 | 0.0 | 3.0 | 0 |\n",
       "| 56 | 1 | 2 | 120 | 236 | 0 | 0 | 178 | 0 | 0.8 | 1 | 0.0 | 3.0 | 0 |\n",
       "\n"
      ],
      "text/plain": [
       "  age sex chest_pain_type resting_bp cholesterol fasting_bs resting_ecg\n",
       "1 63  1   1               145        233         1          2          \n",
       "2 67  1   4               160        286         0          2          \n",
       "3 67  1   4               120        229         0          2          \n",
       "4 37  1   3               130        250         0          0          \n",
       "5 41  0   2               130        204         0          2          \n",
       "6 56  1   2               120        236         0          0          \n",
       "  heartrate_max exang oldpeak slope ca  thal disease_status\n",
       "1 150           0     2.3     3     0.0 6.0  0             \n",
       "2 108           1     1.5     2     3.0 3.0  2             \n",
       "3 129           1     2.6     2     2.0 7.0  1             \n",
       "4 187           0     3.5     3     0.0 3.0  0             \n",
       "5 172           0     1.4     1     0.0 3.0  0             \n",
       "6 178           0     0.8     1     0.0 3.0  0             "
      ]
     },
     "metadata": {},
     "output_type": "display_data"
    },
    {
     "data": {
      "text/html": [
       "297"
      ],
      "text/latex": [
       "297"
      ],
      "text/markdown": [
       "297"
      ],
      "text/plain": [
       "[1] 297"
      ]
     },
     "metadata": {},
     "output_type": "display_data"
    }
   ],
   "source": [
    "no_miss_heart_data <- cleveland_heart_data %>%\n",
    "    filter(thal != \"?\", ca != \"?\")\n",
    "\n",
    "head(no_miss_heart_data)\n",
    "nrow(no_miss_heart_data)"
   ]
  },
  {
   "cell_type": "markdown",
   "metadata": {},
   "source": [
    "We have successfully downloaded our dataset and removed the 6 missing values, bringing our total data set down to 297 observations. Now we must tidy it so it is easier to use.  \n",
    "\n",
    "Firstly, we need to make sure every variable has the correct data type. For example, we can see that some clearly numerical variables have erroneously been assigned the character data type. The appendix has information on the variables that will tell us what data type each variable should be. In addition, the following variables SHOULD be changed to factor data type, but we will need to change them to integers to include them as possible predictors in our future KNN classification analysis:\n",
    "1) sex  \n",
    "2) chest_pain_type  \n",
    "3) fasting_bs  \n",
    "4) resting_ecg  \n",
    "5) exang  \n",
    "6) slope  \n",
    "7) ca  \n",
    "8) thal  "
   ]
  },
  {
   "cell_type": "code",
   "execution_count": 24,
   "metadata": {},
   "outputs": [
    {
     "data": {
      "text/html": [
       "<table>\n",
       "<caption>A tibble: 6 × 14</caption>\n",
       "<thead>\n",
       "\t<tr><th scope=col>age</th><th scope=col>sex</th><th scope=col>chest_pain_type</th><th scope=col>resting_bp</th><th scope=col>cholesterol</th><th scope=col>fasting_bs</th><th scope=col>resting_ecg</th><th scope=col>heartrate_max</th><th scope=col>exang</th><th scope=col>oldpeak</th><th scope=col>slope</th><th scope=col>ca</th><th scope=col>thal</th><th scope=col>disease_status</th></tr>\n",
       "\t<tr><th scope=col>&lt;int&gt;</th><th scope=col>&lt;int&gt;</th><th scope=col>&lt;int&gt;</th><th scope=col>&lt;int&gt;</th><th scope=col>&lt;int&gt;</th><th scope=col>&lt;int&gt;</th><th scope=col>&lt;int&gt;</th><th scope=col>&lt;int&gt;</th><th scope=col>&lt;int&gt;</th><th scope=col>&lt;dbl&gt;</th><th scope=col>&lt;int&gt;</th><th scope=col>&lt;int&gt;</th><th scope=col>&lt;int&gt;</th><th scope=col>&lt;dbl&gt;</th></tr>\n",
       "</thead>\n",
       "<tbody>\n",
       "\t<tr><td>63</td><td>1</td><td>1</td><td>145</td><td>233</td><td>1</td><td>2</td><td>150</td><td>0</td><td>2.3</td><td>3</td><td>0</td><td>6</td><td>0</td></tr>\n",
       "\t<tr><td>67</td><td>1</td><td>4</td><td>160</td><td>286</td><td>0</td><td>2</td><td>108</td><td>1</td><td>1.5</td><td>2</td><td>3</td><td>3</td><td>2</td></tr>\n",
       "\t<tr><td>67</td><td>1</td><td>4</td><td>120</td><td>229</td><td>0</td><td>2</td><td>129</td><td>1</td><td>2.6</td><td>2</td><td>2</td><td>7</td><td>1</td></tr>\n",
       "\t<tr><td>37</td><td>1</td><td>3</td><td>130</td><td>250</td><td>0</td><td>0</td><td>187</td><td>0</td><td>3.5</td><td>3</td><td>0</td><td>3</td><td>0</td></tr>\n",
       "\t<tr><td>41</td><td>0</td><td>2</td><td>130</td><td>204</td><td>0</td><td>2</td><td>172</td><td>0</td><td>1.4</td><td>1</td><td>0</td><td>3</td><td>0</td></tr>\n",
       "\t<tr><td>56</td><td>1</td><td>2</td><td>120</td><td>236</td><td>0</td><td>0</td><td>178</td><td>0</td><td>0.8</td><td>1</td><td>0</td><td>3</td><td>0</td></tr>\n",
       "</tbody>\n",
       "</table>\n"
      ],
      "text/latex": [
       "A tibble: 6 × 14\n",
       "\\begin{tabular}{llllllllllllll}\n",
       " age & sex & chest\\_pain\\_type & resting\\_bp & cholesterol & fasting\\_bs & resting\\_ecg & heartrate\\_max & exang & oldpeak & slope & ca & thal & disease\\_status\\\\\n",
       " <int> & <int> & <int> & <int> & <int> & <int> & <int> & <int> & <int> & <dbl> & <int> & <int> & <int> & <dbl>\\\\\n",
       "\\hline\n",
       "\t 63 & 1 & 1 & 145 & 233 & 1 & 2 & 150 & 0 & 2.3 & 3 & 0 & 6 & 0\\\\\n",
       "\t 67 & 1 & 4 & 160 & 286 & 0 & 2 & 108 & 1 & 1.5 & 2 & 3 & 3 & 2\\\\\n",
       "\t 67 & 1 & 4 & 120 & 229 & 0 & 2 & 129 & 1 & 2.6 & 2 & 2 & 7 & 1\\\\\n",
       "\t 37 & 1 & 3 & 130 & 250 & 0 & 0 & 187 & 0 & 3.5 & 3 & 0 & 3 & 0\\\\\n",
       "\t 41 & 0 & 2 & 130 & 204 & 0 & 2 & 172 & 0 & 1.4 & 1 & 0 & 3 & 0\\\\\n",
       "\t 56 & 1 & 2 & 120 & 236 & 0 & 0 & 178 & 0 & 0.8 & 1 & 0 & 3 & 0\\\\\n",
       "\\end{tabular}\n"
      ],
      "text/markdown": [
       "\n",
       "A tibble: 6 × 14\n",
       "\n",
       "| age &lt;int&gt; | sex &lt;int&gt; | chest_pain_type &lt;int&gt; | resting_bp &lt;int&gt; | cholesterol &lt;int&gt; | fasting_bs &lt;int&gt; | resting_ecg &lt;int&gt; | heartrate_max &lt;int&gt; | exang &lt;int&gt; | oldpeak &lt;dbl&gt; | slope &lt;int&gt; | ca &lt;int&gt; | thal &lt;int&gt; | disease_status &lt;dbl&gt; |\n",
       "|---|---|---|---|---|---|---|---|---|---|---|---|---|---|\n",
       "| 63 | 1 | 1 | 145 | 233 | 1 | 2 | 150 | 0 | 2.3 | 3 | 0 | 6 | 0 |\n",
       "| 67 | 1 | 4 | 160 | 286 | 0 | 2 | 108 | 1 | 1.5 | 2 | 3 | 3 | 2 |\n",
       "| 67 | 1 | 4 | 120 | 229 | 0 | 2 | 129 | 1 | 2.6 | 2 | 2 | 7 | 1 |\n",
       "| 37 | 1 | 3 | 130 | 250 | 0 | 0 | 187 | 0 | 3.5 | 3 | 0 | 3 | 0 |\n",
       "| 41 | 0 | 2 | 130 | 204 | 0 | 2 | 172 | 0 | 1.4 | 1 | 0 | 3 | 0 |\n",
       "| 56 | 1 | 2 | 120 | 236 | 0 | 0 | 178 | 0 | 0.8 | 1 | 0 | 3 | 0 |\n",
       "\n"
      ],
      "text/plain": [
       "  age sex chest_pain_type resting_bp cholesterol fasting_bs resting_ecg\n",
       "1 63  1   1               145        233         1          2          \n",
       "2 67  1   4               160        286         0          2          \n",
       "3 67  1   4               120        229         0          2          \n",
       "4 37  1   3               130        250         0          0          \n",
       "5 41  0   2               130        204         0          2          \n",
       "6 56  1   2               120        236         0          0          \n",
       "  heartrate_max exang oldpeak slope ca thal disease_status\n",
       "1 150           0     2.3     3     0  6    0             \n",
       "2 108           1     1.5     2     3  3    2             \n",
       "3 129           1     2.6     2     2  7    1             \n",
       "4 187           0     3.5     3     0  3    0             \n",
       "5 172           0     1.4     1     0  3    0             \n",
       "6 178           0     0.8     1     0  3    0             "
      ]
     },
     "metadata": {},
     "output_type": "display_data"
    }
   ],
   "source": [
    "labelled_heart_data <- no_miss_heart_data %>%\n",
    "    mutate(age = as.integer(age),\n",
    "           sex = as.integer(sex),\n",
    "           chest_pain_type = as.integer(chest_pain_type),\n",
    "           resting_bp = as.integer(resting_bp),\n",
    "           cholesterol = as.integer(cholesterol),\n",
    "           fasting_bs = as.integer(fasting_bs),\n",
    "           resting_ecg = as.integer(resting_ecg),\n",
    "           heartrate_max = as.integer(heartrate_max),\n",
    "           exang = as.integer(exang),\n",
    "           slope = as.integer(slope),\n",
    "           ca = as.integer(ca),\n",
    "           thal = as.integer(thal))\n",
    "\n",
    "head(labelled_heart_data)"
   ]
  },
  {
   "cell_type": "markdown",
   "metadata": {},
   "source": [
    " "
   ]
  },
  {
   "cell_type": "markdown",
   "metadata": {},
   "source": [
    "Now all our variables are the correct data type, with the exception of disease status. This variable is a little strange. In the file notes it states that 0 means the patient has no disease, and anything greater than 0 means the patient has heart disease. Therefore, we need to reclassify this variable so:\n",
    "* 0 = no heart disease\n",
    "* 1 =< heart disease is present"
   ]
  },
  {
   "cell_type": "code",
   "execution_count": 25,
   "metadata": {},
   "outputs": [
    {
     "data": {
      "text/html": [
       "<table>\n",
       "<caption>A tibble: 6 × 14</caption>\n",
       "<thead>\n",
       "\t<tr><th scope=col>age</th><th scope=col>sex</th><th scope=col>chest_pain_type</th><th scope=col>resting_bp</th><th scope=col>cholesterol</th><th scope=col>fasting_bs</th><th scope=col>resting_ecg</th><th scope=col>heartrate_max</th><th scope=col>exang</th><th scope=col>oldpeak</th><th scope=col>slope</th><th scope=col>ca</th><th scope=col>thal</th><th scope=col>disease_status</th></tr>\n",
       "\t<tr><th scope=col>&lt;int&gt;</th><th scope=col>&lt;int&gt;</th><th scope=col>&lt;int&gt;</th><th scope=col>&lt;int&gt;</th><th scope=col>&lt;int&gt;</th><th scope=col>&lt;int&gt;</th><th scope=col>&lt;int&gt;</th><th scope=col>&lt;int&gt;</th><th scope=col>&lt;int&gt;</th><th scope=col>&lt;dbl&gt;</th><th scope=col>&lt;int&gt;</th><th scope=col>&lt;int&gt;</th><th scope=col>&lt;int&gt;</th><th scope=col>&lt;fct&gt;</th></tr>\n",
       "</thead>\n",
       "<tbody>\n",
       "\t<tr><td>63</td><td>1</td><td>1</td><td>145</td><td>233</td><td>1</td><td>2</td><td>150</td><td>0</td><td>2.3</td><td>3</td><td>0</td><td>6</td><td>0</td></tr>\n",
       "\t<tr><td>67</td><td>1</td><td>4</td><td>160</td><td>286</td><td>0</td><td>2</td><td>108</td><td>1</td><td>1.5</td><td>2</td><td>3</td><td>3</td><td>1</td></tr>\n",
       "\t<tr><td>67</td><td>1</td><td>4</td><td>120</td><td>229</td><td>0</td><td>2</td><td>129</td><td>1</td><td>2.6</td><td>2</td><td>2</td><td>7</td><td>1</td></tr>\n",
       "\t<tr><td>37</td><td>1</td><td>3</td><td>130</td><td>250</td><td>0</td><td>0</td><td>187</td><td>0</td><td>3.5</td><td>3</td><td>0</td><td>3</td><td>0</td></tr>\n",
       "\t<tr><td>41</td><td>0</td><td>2</td><td>130</td><td>204</td><td>0</td><td>2</td><td>172</td><td>0</td><td>1.4</td><td>1</td><td>0</td><td>3</td><td>0</td></tr>\n",
       "\t<tr><td>56</td><td>1</td><td>2</td><td>120</td><td>236</td><td>0</td><td>0</td><td>178</td><td>0</td><td>0.8</td><td>1</td><td>0</td><td>3</td><td>0</td></tr>\n",
       "</tbody>\n",
       "</table>\n"
      ],
      "text/latex": [
       "A tibble: 6 × 14\n",
       "\\begin{tabular}{llllllllllllll}\n",
       " age & sex & chest\\_pain\\_type & resting\\_bp & cholesterol & fasting\\_bs & resting\\_ecg & heartrate\\_max & exang & oldpeak & slope & ca & thal & disease\\_status\\\\\n",
       " <int> & <int> & <int> & <int> & <int> & <int> & <int> & <int> & <int> & <dbl> & <int> & <int> & <int> & <fct>\\\\\n",
       "\\hline\n",
       "\t 63 & 1 & 1 & 145 & 233 & 1 & 2 & 150 & 0 & 2.3 & 3 & 0 & 6 & 0\\\\\n",
       "\t 67 & 1 & 4 & 160 & 286 & 0 & 2 & 108 & 1 & 1.5 & 2 & 3 & 3 & 1\\\\\n",
       "\t 67 & 1 & 4 & 120 & 229 & 0 & 2 & 129 & 1 & 2.6 & 2 & 2 & 7 & 1\\\\\n",
       "\t 37 & 1 & 3 & 130 & 250 & 0 & 0 & 187 & 0 & 3.5 & 3 & 0 & 3 & 0\\\\\n",
       "\t 41 & 0 & 2 & 130 & 204 & 0 & 2 & 172 & 0 & 1.4 & 1 & 0 & 3 & 0\\\\\n",
       "\t 56 & 1 & 2 & 120 & 236 & 0 & 0 & 178 & 0 & 0.8 & 1 & 0 & 3 & 0\\\\\n",
       "\\end{tabular}\n"
      ],
      "text/markdown": [
       "\n",
       "A tibble: 6 × 14\n",
       "\n",
       "| age &lt;int&gt; | sex &lt;int&gt; | chest_pain_type &lt;int&gt; | resting_bp &lt;int&gt; | cholesterol &lt;int&gt; | fasting_bs &lt;int&gt; | resting_ecg &lt;int&gt; | heartrate_max &lt;int&gt; | exang &lt;int&gt; | oldpeak &lt;dbl&gt; | slope &lt;int&gt; | ca &lt;int&gt; | thal &lt;int&gt; | disease_status &lt;fct&gt; |\n",
       "|---|---|---|---|---|---|---|---|---|---|---|---|---|---|\n",
       "| 63 | 1 | 1 | 145 | 233 | 1 | 2 | 150 | 0 | 2.3 | 3 | 0 | 6 | 0 |\n",
       "| 67 | 1 | 4 | 160 | 286 | 0 | 2 | 108 | 1 | 1.5 | 2 | 3 | 3 | 1 |\n",
       "| 67 | 1 | 4 | 120 | 229 | 0 | 2 | 129 | 1 | 2.6 | 2 | 2 | 7 | 1 |\n",
       "| 37 | 1 | 3 | 130 | 250 | 0 | 0 | 187 | 0 | 3.5 | 3 | 0 | 3 | 0 |\n",
       "| 41 | 0 | 2 | 130 | 204 | 0 | 2 | 172 | 0 | 1.4 | 1 | 0 | 3 | 0 |\n",
       "| 56 | 1 | 2 | 120 | 236 | 0 | 0 | 178 | 0 | 0.8 | 1 | 0 | 3 | 0 |\n",
       "\n"
      ],
      "text/plain": [
       "  age sex chest_pain_type resting_bp cholesterol fasting_bs resting_ecg\n",
       "1 63  1   1               145        233         1          2          \n",
       "2 67  1   4               160        286         0          2          \n",
       "3 67  1   4               120        229         0          2          \n",
       "4 37  1   3               130        250         0          0          \n",
       "5 41  0   2               130        204         0          2          \n",
       "6 56  1   2               120        236         0          0          \n",
       "  heartrate_max exang oldpeak slope ca thal disease_status\n",
       "1 150           0     2.3     3     0  6    0             \n",
       "2 108           1     1.5     2     3  3    1             \n",
       "3 129           1     2.6     2     2  7    1             \n",
       "4 187           0     3.5     3     0  3    0             \n",
       "5 172           0     1.4     1     0  3    0             \n",
       "6 178           0     0.8     1     0  3    0             "
      ]
     },
     "metadata": {},
     "output_type": "display_data"
    }
   ],
   "source": [
    "labelled_heart_data[\"disease_status\"][labelled_heart_data[\"disease_status\"] == 1] <- 5\n",
    "labelled_heart_data[\"disease_status\"][labelled_heart_data[\"disease_status\"] == 2] <- 5\n",
    "labelled_heart_data[\"disease_status\"][labelled_heart_data[\"disease_status\"] == 3] <- 5\n",
    "labelled_heart_data[\"disease_status\"][labelled_heart_data[\"disease_status\"] == 4] <- 5\n",
    "labelled_heart_data[\"disease_status\"][labelled_heart_data[\"disease_status\"] == 5] <- 1\n",
    "\n",
    "clean_heart_data <- labelled_heart_data %>%\n",
    "    mutate(disease_status = as_factor(disease_status))\n",
    "    head(clean_heart_data)"
   ]
  },
  {
   "cell_type": "markdown",
   "metadata": {},
   "source": [
    " "
   ]
  },
  {
   "cell_type": "markdown",
   "metadata": {},
   "source": [
    "Now all our variables have the correct data type, and our data is tidy.  \n",
    "\n",
    "Since we are trying to answer a prediction problem that involves assigning a class, we know that we must use a KNN classification instead of a regression analysis. KNN classification is useful because it is an intuitive algorithm, and it doesn't have any specific requirements about what the data must look like (linearity). However, it does have the following three weaknesses that we must try and address during our exploration and preprocessing:  \n",
    "\n",
    "* Problem #1 - It may not perform well when classes are imbalanced  \n",
    "* Problem #2 - The data must be scaled and centered if ranges and means are too different between predictors  \n",
    "* Problem #3 - It may not work well with large numbers of predictors  \n",
    "\n",
    "We must account for these problems to ensure our analysis is as accurate as possible. We will examine the predictor's ranges and means to see if they require scaling. We will compare the proportion of each class to see if they require balancing. Finally, we will perform a forward selection to determine what predictors we should include in our analysis.  \n",
    "\n",
    "To begin, we must set a seed to guarantee reproducibility of any steps that require random numbers to be generated. Next, we must split our data into training and testing datasets. The training dataset is usually about 75% of the total dataset. This way we have enough training data to train an accurate classifier, while also having enough testing data to get an accurate evaluation of its performance."
   ]
  },
  {
   "cell_type": "code",
   "execution_count": 26,
   "metadata": {},
   "outputs": [
    {
     "data": {
      "text/html": [
       "<table>\n",
       "<caption>A tibble: 6 × 14</caption>\n",
       "<thead>\n",
       "\t<tr><th scope=col>age</th><th scope=col>sex</th><th scope=col>chest_pain_type</th><th scope=col>resting_bp</th><th scope=col>cholesterol</th><th scope=col>fasting_bs</th><th scope=col>resting_ecg</th><th scope=col>heartrate_max</th><th scope=col>exang</th><th scope=col>oldpeak</th><th scope=col>slope</th><th scope=col>ca</th><th scope=col>thal</th><th scope=col>disease_status</th></tr>\n",
       "\t<tr><th scope=col>&lt;int&gt;</th><th scope=col>&lt;int&gt;</th><th scope=col>&lt;int&gt;</th><th scope=col>&lt;int&gt;</th><th scope=col>&lt;int&gt;</th><th scope=col>&lt;int&gt;</th><th scope=col>&lt;int&gt;</th><th scope=col>&lt;int&gt;</th><th scope=col>&lt;int&gt;</th><th scope=col>&lt;dbl&gt;</th><th scope=col>&lt;int&gt;</th><th scope=col>&lt;int&gt;</th><th scope=col>&lt;int&gt;</th><th scope=col>&lt;fct&gt;</th></tr>\n",
       "</thead>\n",
       "<tbody>\n",
       "\t<tr><td>63</td><td>1</td><td>1</td><td>145</td><td>233</td><td>1</td><td>2</td><td>150</td><td>0</td><td>2.3</td><td>3</td><td>0</td><td>6</td><td>0</td></tr>\n",
       "\t<tr><td>67</td><td>1</td><td>4</td><td>160</td><td>286</td><td>0</td><td>2</td><td>108</td><td>1</td><td>1.5</td><td>2</td><td>3</td><td>3</td><td>1</td></tr>\n",
       "\t<tr><td>41</td><td>0</td><td>2</td><td>130</td><td>204</td><td>0</td><td>2</td><td>172</td><td>0</td><td>1.4</td><td>1</td><td>0</td><td>3</td><td>0</td></tr>\n",
       "\t<tr><td>56</td><td>1</td><td>2</td><td>120</td><td>236</td><td>0</td><td>0</td><td>178</td><td>0</td><td>0.8</td><td>1</td><td>0</td><td>3</td><td>0</td></tr>\n",
       "\t<tr><td>62</td><td>0</td><td>4</td><td>140</td><td>268</td><td>0</td><td>2</td><td>160</td><td>0</td><td>3.6</td><td>3</td><td>2</td><td>3</td><td>1</td></tr>\n",
       "\t<tr><td>57</td><td>0</td><td>4</td><td>120</td><td>354</td><td>0</td><td>0</td><td>163</td><td>1</td><td>0.6</td><td>1</td><td>0</td><td>3</td><td>0</td></tr>\n",
       "</tbody>\n",
       "</table>\n"
      ],
      "text/latex": [
       "A tibble: 6 × 14\n",
       "\\begin{tabular}{llllllllllllll}\n",
       " age & sex & chest\\_pain\\_type & resting\\_bp & cholesterol & fasting\\_bs & resting\\_ecg & heartrate\\_max & exang & oldpeak & slope & ca & thal & disease\\_status\\\\\n",
       " <int> & <int> & <int> & <int> & <int> & <int> & <int> & <int> & <int> & <dbl> & <int> & <int> & <int> & <fct>\\\\\n",
       "\\hline\n",
       "\t 63 & 1 & 1 & 145 & 233 & 1 & 2 & 150 & 0 & 2.3 & 3 & 0 & 6 & 0\\\\\n",
       "\t 67 & 1 & 4 & 160 & 286 & 0 & 2 & 108 & 1 & 1.5 & 2 & 3 & 3 & 1\\\\\n",
       "\t 41 & 0 & 2 & 130 & 204 & 0 & 2 & 172 & 0 & 1.4 & 1 & 0 & 3 & 0\\\\\n",
       "\t 56 & 1 & 2 & 120 & 236 & 0 & 0 & 178 & 0 & 0.8 & 1 & 0 & 3 & 0\\\\\n",
       "\t 62 & 0 & 4 & 140 & 268 & 0 & 2 & 160 & 0 & 3.6 & 3 & 2 & 3 & 1\\\\\n",
       "\t 57 & 0 & 4 & 120 & 354 & 0 & 0 & 163 & 1 & 0.6 & 1 & 0 & 3 & 0\\\\\n",
       "\\end{tabular}\n"
      ],
      "text/markdown": [
       "\n",
       "A tibble: 6 × 14\n",
       "\n",
       "| age &lt;int&gt; | sex &lt;int&gt; | chest_pain_type &lt;int&gt; | resting_bp &lt;int&gt; | cholesterol &lt;int&gt; | fasting_bs &lt;int&gt; | resting_ecg &lt;int&gt; | heartrate_max &lt;int&gt; | exang &lt;int&gt; | oldpeak &lt;dbl&gt; | slope &lt;int&gt; | ca &lt;int&gt; | thal &lt;int&gt; | disease_status &lt;fct&gt; |\n",
       "|---|---|---|---|---|---|---|---|---|---|---|---|---|---|\n",
       "| 63 | 1 | 1 | 145 | 233 | 1 | 2 | 150 | 0 | 2.3 | 3 | 0 | 6 | 0 |\n",
       "| 67 | 1 | 4 | 160 | 286 | 0 | 2 | 108 | 1 | 1.5 | 2 | 3 | 3 | 1 |\n",
       "| 41 | 0 | 2 | 130 | 204 | 0 | 2 | 172 | 0 | 1.4 | 1 | 0 | 3 | 0 |\n",
       "| 56 | 1 | 2 | 120 | 236 | 0 | 0 | 178 | 0 | 0.8 | 1 | 0 | 3 | 0 |\n",
       "| 62 | 0 | 4 | 140 | 268 | 0 | 2 | 160 | 0 | 3.6 | 3 | 2 | 3 | 1 |\n",
       "| 57 | 0 | 4 | 120 | 354 | 0 | 0 | 163 | 1 | 0.6 | 1 | 0 | 3 | 0 |\n",
       "\n"
      ],
      "text/plain": [
       "  age sex chest_pain_type resting_bp cholesterol fasting_bs resting_ecg\n",
       "1 63  1   1               145        233         1          2          \n",
       "2 67  1   4               160        286         0          2          \n",
       "3 41  0   2               130        204         0          2          \n",
       "4 56  1   2               120        236         0          0          \n",
       "5 62  0   4               140        268         0          2          \n",
       "6 57  0   4               120        354         0          0          \n",
       "  heartrate_max exang oldpeak slope ca thal disease_status\n",
       "1 150           0     2.3     3     0  6    0             \n",
       "2 108           1     1.5     2     3  3    1             \n",
       "3 172           0     1.4     1     0  3    0             \n",
       "4 178           0     0.8     1     0  3    0             \n",
       "5 160           0     3.6     3     2  3    1             \n",
       "6 163           1     0.6     1     0  3    0             "
      ]
     },
     "metadata": {},
     "output_type": "display_data"
    },
    {
     "data": {
      "text/html": [
       "223"
      ],
      "text/latex": [
       "223"
      ],
      "text/markdown": [
       "223"
      ],
      "text/plain": [
       "[1] 223"
      ]
     },
     "metadata": {},
     "output_type": "display_data"
    },
    {
     "data": {
      "text/html": [
       "<table>\n",
       "<caption>A tibble: 6 × 14</caption>\n",
       "<thead>\n",
       "\t<tr><th scope=col>age</th><th scope=col>sex</th><th scope=col>chest_pain_type</th><th scope=col>resting_bp</th><th scope=col>cholesterol</th><th scope=col>fasting_bs</th><th scope=col>resting_ecg</th><th scope=col>heartrate_max</th><th scope=col>exang</th><th scope=col>oldpeak</th><th scope=col>slope</th><th scope=col>ca</th><th scope=col>thal</th><th scope=col>disease_status</th></tr>\n",
       "\t<tr><th scope=col>&lt;int&gt;</th><th scope=col>&lt;int&gt;</th><th scope=col>&lt;int&gt;</th><th scope=col>&lt;int&gt;</th><th scope=col>&lt;int&gt;</th><th scope=col>&lt;int&gt;</th><th scope=col>&lt;int&gt;</th><th scope=col>&lt;int&gt;</th><th scope=col>&lt;int&gt;</th><th scope=col>&lt;dbl&gt;</th><th scope=col>&lt;int&gt;</th><th scope=col>&lt;int&gt;</th><th scope=col>&lt;int&gt;</th><th scope=col>&lt;fct&gt;</th></tr>\n",
       "</thead>\n",
       "<tbody>\n",
       "\t<tr><td>67</td><td>1</td><td>4</td><td>120</td><td>229</td><td>0</td><td>2</td><td>129</td><td>1</td><td>2.6</td><td>2</td><td>2</td><td>7</td><td>1</td></tr>\n",
       "\t<tr><td>37</td><td>1</td><td>3</td><td>130</td><td>250</td><td>0</td><td>0</td><td>187</td><td>0</td><td>3.5</td><td>3</td><td>0</td><td>3</td><td>0</td></tr>\n",
       "\t<tr><td>63</td><td>1</td><td>4</td><td>130</td><td>254</td><td>0</td><td>2</td><td>147</td><td>0</td><td>1.4</td><td>2</td><td>1</td><td>7</td><td>1</td></tr>\n",
       "\t<tr><td>52</td><td>1</td><td>3</td><td>172</td><td>199</td><td>1</td><td>0</td><td>162</td><td>0</td><td>0.5</td><td>1</td><td>0</td><td>7</td><td>0</td></tr>\n",
       "\t<tr><td>57</td><td>1</td><td>3</td><td>150</td><td>168</td><td>0</td><td>0</td><td>174</td><td>0</td><td>1.6</td><td>1</td><td>0</td><td>3</td><td>0</td></tr>\n",
       "\t<tr><td>49</td><td>1</td><td>2</td><td>130</td><td>266</td><td>0</td><td>0</td><td>171</td><td>0</td><td>0.6</td><td>1</td><td>0</td><td>3</td><td>0</td></tr>\n",
       "</tbody>\n",
       "</table>\n"
      ],
      "text/latex": [
       "A tibble: 6 × 14\n",
       "\\begin{tabular}{llllllllllllll}\n",
       " age & sex & chest\\_pain\\_type & resting\\_bp & cholesterol & fasting\\_bs & resting\\_ecg & heartrate\\_max & exang & oldpeak & slope & ca & thal & disease\\_status\\\\\n",
       " <int> & <int> & <int> & <int> & <int> & <int> & <int> & <int> & <int> & <dbl> & <int> & <int> & <int> & <fct>\\\\\n",
       "\\hline\n",
       "\t 67 & 1 & 4 & 120 & 229 & 0 & 2 & 129 & 1 & 2.6 & 2 & 2 & 7 & 1\\\\\n",
       "\t 37 & 1 & 3 & 130 & 250 & 0 & 0 & 187 & 0 & 3.5 & 3 & 0 & 3 & 0\\\\\n",
       "\t 63 & 1 & 4 & 130 & 254 & 0 & 2 & 147 & 0 & 1.4 & 2 & 1 & 7 & 1\\\\\n",
       "\t 52 & 1 & 3 & 172 & 199 & 1 & 0 & 162 & 0 & 0.5 & 1 & 0 & 7 & 0\\\\\n",
       "\t 57 & 1 & 3 & 150 & 168 & 0 & 0 & 174 & 0 & 1.6 & 1 & 0 & 3 & 0\\\\\n",
       "\t 49 & 1 & 2 & 130 & 266 & 0 & 0 & 171 & 0 & 0.6 & 1 & 0 & 3 & 0\\\\\n",
       "\\end{tabular}\n"
      ],
      "text/markdown": [
       "\n",
       "A tibble: 6 × 14\n",
       "\n",
       "| age &lt;int&gt; | sex &lt;int&gt; | chest_pain_type &lt;int&gt; | resting_bp &lt;int&gt; | cholesterol &lt;int&gt; | fasting_bs &lt;int&gt; | resting_ecg &lt;int&gt; | heartrate_max &lt;int&gt; | exang &lt;int&gt; | oldpeak &lt;dbl&gt; | slope &lt;int&gt; | ca &lt;int&gt; | thal &lt;int&gt; | disease_status &lt;fct&gt; |\n",
       "|---|---|---|---|---|---|---|---|---|---|---|---|---|---|\n",
       "| 67 | 1 | 4 | 120 | 229 | 0 | 2 | 129 | 1 | 2.6 | 2 | 2 | 7 | 1 |\n",
       "| 37 | 1 | 3 | 130 | 250 | 0 | 0 | 187 | 0 | 3.5 | 3 | 0 | 3 | 0 |\n",
       "| 63 | 1 | 4 | 130 | 254 | 0 | 2 | 147 | 0 | 1.4 | 2 | 1 | 7 | 1 |\n",
       "| 52 | 1 | 3 | 172 | 199 | 1 | 0 | 162 | 0 | 0.5 | 1 | 0 | 7 | 0 |\n",
       "| 57 | 1 | 3 | 150 | 168 | 0 | 0 | 174 | 0 | 1.6 | 1 | 0 | 3 | 0 |\n",
       "| 49 | 1 | 2 | 130 | 266 | 0 | 0 | 171 | 0 | 0.6 | 1 | 0 | 3 | 0 |\n",
       "\n"
      ],
      "text/plain": [
       "  age sex chest_pain_type resting_bp cholesterol fasting_bs resting_ecg\n",
       "1 67  1   4               120        229         0          2          \n",
       "2 37  1   3               130        250         0          0          \n",
       "3 63  1   4               130        254         0          2          \n",
       "4 52  1   3               172        199         1          0          \n",
       "5 57  1   3               150        168         0          0          \n",
       "6 49  1   2               130        266         0          0          \n",
       "  heartrate_max exang oldpeak slope ca thal disease_status\n",
       "1 129           1     2.6     2     2  7    1             \n",
       "2 187           0     3.5     3     0  3    0             \n",
       "3 147           0     1.4     2     1  7    1             \n",
       "4 162           0     0.5     1     0  7    0             \n",
       "5 174           0     1.6     1     0  3    0             \n",
       "6 171           0     0.6     1     0  3    0             "
      ]
     },
     "metadata": {},
     "output_type": "display_data"
    },
    {
     "data": {
      "text/html": [
       "74"
      ],
      "text/latex": [
       "74"
      ],
      "text/markdown": [
       "74"
      ],
      "text/plain": [
       "[1] 74"
      ]
     },
     "metadata": {},
     "output_type": "display_data"
    }
   ],
   "source": [
    "set.seed(999)\n",
    "\n",
    "heart_split <- initial_split(clean_heart_data, prop = .75, strata = disease_status)  \n",
    "heart_train <- training(heart_split)   \n",
    "heart_test <- testing(heart_split)\n",
    "\n",
    "\n",
    "head(heart_train) \n",
    "nrow(heart_train)\n",
    "\n",
    "head(heart_test)\n",
    "nrow(heart_test)"
   ]
  },
  {
   "cell_type": "markdown",
   "metadata": {},
   "source": [
    " "
   ]
  },
  {
   "cell_type": "markdown",
   "metadata": {},
   "source": [
    "We now have our training and testing data. Now we will summarize and visualize some important information about our variables so that we know how much preprocessing is necessary."
   ]
  },
  {
   "cell_type": "code",
   "execution_count": 27,
   "metadata": {},
   "outputs": [
    {
     "name": "stderr",
     "output_type": "stream",
     "text": [
      "`summarise()` ungrouping output (override with `.groups` argument)\n",
      "\n"
     ]
    },
    {
     "data": {
      "text/html": [
       "<table>\n",
       "<caption>A tibble: 2 × 3</caption>\n",
       "<thead>\n",
       "\t<tr><th scope=col>disease_status</th><th scope=col>n</th><th scope=col>proportion</th></tr>\n",
       "\t<tr><th scope=col>&lt;fct&gt;</th><th scope=col>&lt;int&gt;</th><th scope=col>&lt;dbl&gt;</th></tr>\n",
       "</thead>\n",
       "<tbody>\n",
       "\t<tr><td>0</td><td>120</td><td>0.5381166</td></tr>\n",
       "\t<tr><td>1</td><td>103</td><td>0.4618834</td></tr>\n",
       "</tbody>\n",
       "</table>\n"
      ],
      "text/latex": [
       "A tibble: 2 × 3\n",
       "\\begin{tabular}{lll}\n",
       " disease\\_status & n & proportion\\\\\n",
       " <fct> & <int> & <dbl>\\\\\n",
       "\\hline\n",
       "\t 0 & 120 & 0.5381166\\\\\n",
       "\t 1 & 103 & 0.4618834\\\\\n",
       "\\end{tabular}\n"
      ],
      "text/markdown": [
       "\n",
       "A tibble: 2 × 3\n",
       "\n",
       "| disease_status &lt;fct&gt; | n &lt;int&gt; | proportion &lt;dbl&gt; |\n",
       "|---|---|---|\n",
       "| 0 | 120 | 0.5381166 |\n",
       "| 1 | 103 | 0.4618834 |\n",
       "\n"
      ],
      "text/plain": [
       "  disease_status n   proportion\n",
       "1 0              120 0.5381166 \n",
       "2 1              103 0.4618834 "
      ]
     },
     "metadata": {},
     "output_type": "display_data"
    }
   ],
   "source": [
    "disease_count <- heart_train %>%\n",
    "    group_by(disease_status) %>%\n",
    "    summarize(n = n(),\n",
    "             proportion = n/nrow(heart_train))\n",
    "disease_count"
   ]
  },
  {
   "cell_type": "markdown",
   "metadata": {},
   "source": [
    "Here we can see that our disease status class has similar proportions of diseased patients (1), and disease-free patients (0). This means that our classes are balanced and do not require manipulation. Therefore, problem #1 does not require any attention.  \n",
    "\n",
    "Next, we will look at the spread of our predictor variables to see if scaling is required."
   ]
  },
  {
   "cell_type": "code",
   "execution_count": 28,
   "metadata": {},
   "outputs": [
    {
     "data": {
      "text/html": [
       "<table>\n",
       "<caption>A tibble: 1 × 13</caption>\n",
       "<thead>\n",
       "\t<tr><th scope=col>age</th><th scope=col>sex</th><th scope=col>chest_pain_type</th><th scope=col>resting_bp</th><th scope=col>cholesterol</th><th scope=col>fasting_bs</th><th scope=col>resting_ecg</th><th scope=col>heartrate_max</th><th scope=col>exang</th><th scope=col>oldpeak</th><th scope=col>slope</th><th scope=col>ca</th><th scope=col>thal</th></tr>\n",
       "\t<tr><th scope=col>&lt;dbl&gt;</th><th scope=col>&lt;dbl&gt;</th><th scope=col>&lt;dbl&gt;</th><th scope=col>&lt;dbl&gt;</th><th scope=col>&lt;dbl&gt;</th><th scope=col>&lt;dbl&gt;</th><th scope=col>&lt;dbl&gt;</th><th scope=col>&lt;dbl&gt;</th><th scope=col>&lt;dbl&gt;</th><th scope=col>&lt;dbl&gt;</th><th scope=col>&lt;dbl&gt;</th><th scope=col>&lt;dbl&gt;</th><th scope=col>&lt;dbl&gt;</th></tr>\n",
       "</thead>\n",
       "<tbody>\n",
       "\t<tr><td>54.09865</td><td>0.67713</td><td>3.116592</td><td>131.9148</td><td>247.9013</td><td>0.1434978</td><td>1.040359</td><td>150.3363</td><td>0.3318386</td><td>1.00852</td><td>1.632287</td><td>0.6098655</td><td>4.686099</td></tr>\n",
       "</tbody>\n",
       "</table>\n"
      ],
      "text/latex": [
       "A tibble: 1 × 13\n",
       "\\begin{tabular}{lllllllllllll}\n",
       " age & sex & chest\\_pain\\_type & resting\\_bp & cholesterol & fasting\\_bs & resting\\_ecg & heartrate\\_max & exang & oldpeak & slope & ca & thal\\\\\n",
       " <dbl> & <dbl> & <dbl> & <dbl> & <dbl> & <dbl> & <dbl> & <dbl> & <dbl> & <dbl> & <dbl> & <dbl> & <dbl>\\\\\n",
       "\\hline\n",
       "\t 54.09865 & 0.67713 & 3.116592 & 131.9148 & 247.9013 & 0.1434978 & 1.040359 & 150.3363 & 0.3318386 & 1.00852 & 1.632287 & 0.6098655 & 4.686099\\\\\n",
       "\\end{tabular}\n"
      ],
      "text/markdown": [
       "\n",
       "A tibble: 1 × 13\n",
       "\n",
       "| age &lt;dbl&gt; | sex &lt;dbl&gt; | chest_pain_type &lt;dbl&gt; | resting_bp &lt;dbl&gt; | cholesterol &lt;dbl&gt; | fasting_bs &lt;dbl&gt; | resting_ecg &lt;dbl&gt; | heartrate_max &lt;dbl&gt; | exang &lt;dbl&gt; | oldpeak &lt;dbl&gt; | slope &lt;dbl&gt; | ca &lt;dbl&gt; | thal &lt;dbl&gt; |\n",
       "|---|---|---|---|---|---|---|---|---|---|---|---|---|\n",
       "| 54.09865 | 0.67713 | 3.116592 | 131.9148 | 247.9013 | 0.1434978 | 1.040359 | 150.3363 | 0.3318386 | 1.00852 | 1.632287 | 0.6098655 | 4.686099 |\n",
       "\n"
      ],
      "text/plain": [
       "  age      sex     chest_pain_type resting_bp cholesterol fasting_bs\n",
       "1 54.09865 0.67713 3.116592        131.9148   247.9013    0.1434978 \n",
       "  resting_ecg heartrate_max exang     oldpeak slope    ca        thal    \n",
       "1 1.040359    150.3363      0.3318386 1.00852 1.632287 0.6098655 4.686099"
      ]
     },
     "metadata": {},
     "output_type": "display_data"
    },
    {
     "name": "stderr",
     "output_type": "stream",
     "text": [
      "Warning message:\n",
      "“Removed 2 rows containing missing values (geom_bar).”\n",
      "Warning message:\n",
      "“Removed 2 rows containing missing values (geom_bar).”\n",
      "Warning message:\n",
      "“Removed 2 rows containing missing values (geom_bar).”\n",
      "Warning message:\n",
      "“Removed 2 rows containing missing values (geom_bar).”\n",
      "Warning message:\n",
      "“Removed 30 rows containing non-finite values (stat_bin).”\n",
      "Warning message:\n",
      "“Removed 2 rows containing missing values (geom_bar).”\n",
      "Warning message:\n",
      "“Removed 2 rows containing missing values (geom_bar).”\n",
      "Warning message:\n",
      "“Removed 2 rows containing missing values (geom_bar).”\n",
      "Warning message:\n",
      "“Removed 2 rows containing missing values (geom_bar).”\n",
      "Warning message:\n",
      "“Removed 2 rows containing missing values (geom_bar).”\n",
      "Warning message:\n",
      "“Removed 2 rows containing missing values (geom_bar).”\n",
      "Warning message:\n",
      "“Removed 2 rows containing missing values (geom_bar).”\n",
      "Warning message:\n",
      "“Removed 2 rows containing missing values (geom_bar).”\n",
      "Warning message:\n",
      "“Removed 2 rows containing missing values (geom_bar).”\n"
     ]
    },
    {
     "data": {
      "image/png": "[encoded data removed]",
      "text/plain": [
       "plot without title"
      ]
     },
     "metadata": {
      "image/png": {
       "height": 420,
       "width": 1200
      }
     },
     "output_type": "display_data"
    }
   ],
   "source": [
    "options(repr.plot.length = 100, repr.plot.width = 20)\n",
    "\n",
    "predictor_means <- heart_train %>%\n",
    "    select(-disease_status) %>%\n",
    "    summarize(across(age:thal, mean))\n",
    "predictor_means\n",
    "\n",
    "age_hist <- heart_train %>%\n",
    "    ggplot(aes(x = age)) +\n",
    "    geom_histogram(fill = \"#CC6666\", bins=30) +\n",
    "    geom_vline(xintercept = pull(predictor_means, age), linetype = \"dashed\", size = .5) +\n",
    "    labs(x = \"Age (years)\", \n",
    "         y = \"Count\") +\n",
    "    theme(text = element_text(size=15)) + \n",
    "    xlim(0, 300) +\n",
    "    scale_fill_brewer(palette = \"Set3\") +\n",
    "    ggtitle(\"Age Distribution\")\n",
    "\n",
    "sex_hist <- heart_train %>%\n",
    "    ggplot(aes(x = sex)) +\n",
    "    geom_histogram(fill = \"darkorange\", bins=30) +\n",
    "    geom_vline(xintercept = pull(predictor_means, sex), linetype = \"dashed\", size = .5) +\n",
    "    labs(x = \"Sex\", \n",
    "         y = \"Count\") +\n",
    "    theme(text = element_text(size=15)) + \n",
    "    xlim(-1, 10) +\n",
    "    scale_fill_brewer(palette = \"Set3\") +\n",
    "    ggtitle(\"Sex Distribution\")\n",
    "\n",
    "cp_hist <- heart_train %>%\n",
    "    ggplot(aes(x = chest_pain_type)) +\n",
    "    geom_histogram(fill = \"darksalmon\", bins=30) +\n",
    "    geom_vline(xintercept = pull(predictor_means, chest_pain_type), linetype = \"dashed\", size = .5) +\n",
    "    labs(x = \"Chest Pain Type\", \n",
    "         y = \"Count\") +\n",
    "    theme(text = element_text(size=15)) + \n",
    "    xlim(-1, 10) +\n",
    "    scale_fill_brewer(palette = \"Set3\") +\n",
    "    ggtitle(\"Chest Pain Distribution\")\n",
    "\n",
    "bp_hist <- heart_train %>%\n",
    "    ggplot(aes(x = resting_bp)) +\n",
    "    geom_histogram(fill = \"#9999CC\", bins=30) +\n",
    "    geom_vline(xintercept = pull(predictor_means, resting_bp), linetype = \"dashed\", size = .5) +\n",
    "    labs(x = \"Resting Blood Pressure (mmHg)\", \n",
    "         y = \"Count\") +\n",
    "    theme(text = element_text(size=15)) + \n",
    "    xlim(0, 300) +\n",
    "    scale_fill_brewer(palette = \"Set3\") +\n",
    "    ggtitle(\"Blood Pressure Distribution\")\n",
    "\n",
    "chl_hist <- heart_train %>%\n",
    "    ggplot(aes(x = cholesterol)) +\n",
    "    geom_histogram(fill = \"darkgoldenrod1\", bins=30) +\n",
    "    geom_vline(xintercept = pull(predictor_means, cholesterol), linetype = \"dashed\", size = .5) +\n",
    "    labs(x = \"Cholesterol (mg/dl)\", \n",
    "         y = \"Count\") +\n",
    "    theme(text = element_text(size=15)) + \n",
    "    xlim(0, 300) +\n",
    "    scale_fill_brewer(palette = \"Set3\") +\n",
    "    ggtitle(\"Cholesterol Distribution\")\n",
    "\n",
    "bs_hist <- heart_train %>%\n",
    "    ggplot(aes(x = fasting_bs)) +\n",
    "    geom_histogram(fill = \"coral1\", bins=30) +\n",
    "    geom_vline(xintercept = pull(predictor_means, fasting_bs), linetype = \"dashed\", size = .5) +\n",
    "    labs(x = \"Fasting Blood Sugar (mg/dl)\", \n",
    "         y = \"Count\") +\n",
    "    theme(text = element_text(size=15)) + \n",
    "    xlim(-1, 10) +\n",
    "    scale_fill_brewer(palette = \"Set3\") +\n",
    "    ggtitle(\"Fasting Blood Sugar Distribution\")\n",
    "\n",
    "ecg_hist <- heart_train %>%\n",
    "    ggplot(aes(x = resting_ecg)) +\n",
    "    geom_histogram(fill = \"deeppink\", bins=30) +\n",
    "    geom_vline(xintercept = pull(predictor_means, resting_ecg), linetype = \"dashed\", size = .5) +\n",
    "    labs(x = \"Resting ECG\", \n",
    "         y = \"Count\") +\n",
    "    theme(text = element_text(size=15)) + \n",
    "    xlim(-1, 10) +\n",
    "    scale_fill_brewer(palette = \"Set3\") +\n",
    "    ggtitle(\"Resting ECG Distribution\")\n",
    "\n",
    "hr_hist <- heart_train %>%\n",
    "    ggplot(aes(x = heartrate_max)) +\n",
    "    geom_histogram(fill = \"#66CC99\", bins=30) +\n",
    "    geom_vline(xintercept = pull(predictor_means, heartrate_max), linetype = \"dashed\", size = .5) +\n",
    "    labs(x = \"Max Heartrate (bpm)\", \n",
    "         y = \"Count\") +\n",
    "    theme(text = element_text(size=15)) + \n",
    "    xlim(0, 300) +\n",
    "    scale_fill_brewer(palette = \"Set3\") +\n",
    "    ggtitle(\"Heartrate Distribution\")\n",
    "\n",
    "ex_hist <- heart_train %>%\n",
    "    ggplot(aes(x = exang)) +\n",
    "    geom_histogram(fill = \"darkorchid3\", bins=30) +\n",
    "    geom_vline(xintercept = pull(predictor_means, exang), linetype = \"dashed\", size = .5) +\n",
    "    labs(x = \"Angina Status\", \n",
    "         y = \"Count\") +\n",
    "    theme(text = element_text(size=15)) + \n",
    "    xlim(-1, 10) +\n",
    "    scale_fill_brewer(palette = \"Set3\") +\n",
    "    ggtitle(\"Exercise Induced Angina Distribution\")\n",
    "\n",
    "op_hist <- heart_train %>%\n",
    "    ggplot(aes(x = oldpeak)) +\n",
    "    geom_histogram(fill = \"antiquewhite3\", bins=30) +\n",
    "    geom_vline(xintercept = pull(predictor_means, oldpeak), linetype = \"dashed\", size = .5) +\n",
    "    labs(x = \"ST Segment Depression\", \n",
    "         y = \"Count\") +\n",
    "    theme(text = element_text(size=15)) + \n",
    "    xlim(-1, 10) +\n",
    "    scale_fill_brewer(palette = \"Set3\") +\n",
    "    ggtitle(\"ST Segment Distribution\")\n",
    "\n",
    "slope_hist <- heart_train %>%\n",
    "    ggplot(aes(x = slope)) +\n",
    "    geom_histogram(fill = \"darkslategray\", bins=30) +\n",
    "    geom_vline(xintercept = pull(predictor_means, slope), linetype = \"dashed\", size = .5) +\n",
    "    labs(x = \"Slope ST Segment\", \n",
    "         y = \"Count\") +\n",
    "    theme(text = element_text(size=15)) + \n",
    "    xlim(-1, 10) +\n",
    "    scale_fill_brewer(palette = \"Set3\") +\n",
    "    ggtitle(\"Slope ST Segment Distribution\")\n",
    "\n",
    "ca_hist <- heart_train %>%\n",
    "    ggplot(aes(x = ca)) +\n",
    "    geom_histogram(fill = \"darkblue\", bins=30) +\n",
    "    geom_vline(xintercept = pull(predictor_means, ca), linetype = \"dashed\", size = .5) +\n",
    "    labs(x = \"Major Vessels Coloured by Fluorscopy\", \n",
    "         y = \"Count\") +\n",
    "    theme(text = element_text(size=15)) + \n",
    "    xlim(-1, 10) +\n",
    "    scale_fill_brewer(palette = \"Set3\") +\n",
    "    ggtitle(\"Vessel Fluorscopy Distribution\")\n",
    "\n",
    "thal_hist <- heart_train %>%\n",
    "    ggplot(aes(x = thal)) +\n",
    "    geom_histogram(fill = \"darkred\", bins=30) +\n",
    "    geom_vline(xintercept = pull(predictor_means, thal), linetype = \"dashed\", size = .5) +\n",
    "    labs(x = \"Defect Status\", \n",
    "         y = \"Count\") +\n",
    "    theme(text = element_text(size=15)) + \n",
    "    xlim(-1, 10) +\n",
    "    scale_fill_brewer(palette = \"Set3\") +\n",
    "    ggtitle(\"Defect Status Distribution\")\n",
    "\n",
    "plot_grid(age_hist,\n",
    "          sex_hist,\n",
    "          cp_hist,\n",
    "          bp_hist,\n",
    "          chl_hist,\n",
    "          bs_hist,\n",
    "          ecg_hist,\n",
    "          hr_hist,\n",
    "          ex_hist,\n",
    "          op_hist,\n",
    "          slope_hist,\n",
    "          ca_hist,\n",
    "          thal_hist, ncol = 4)"
   ]
  },
  {
   "cell_type": "markdown",
   "metadata": {},
   "source": [
    "We can see from the above analysis that our predictors have very different scales and centers. Therefore, we will need to scale and center our data during our preprocessing recipe step to solve problem #2.  \n",
    "\n",
    "The final problem we need to solve is the issue of deciding what predictors to choose. Irrelevant predictors can make our analysis less accurate. Therefore, we need to choose the best subset of predictors that will provide us with the best accuracy. To do this, we will perform a forward selection. This method is faster than if we were to use a best subset selection method, and it still provides us with fairly optimal subset of predictors."
   ]
  },
  {
   "cell_type": "code",
   "execution_count": 29,
   "metadata": {},
   "outputs": [
    {
     "data": {
      "text/html": [
       "<style>\n",
       ".list-inline {list-style: none; margin:0; padding: 0}\n",
       ".list-inline>li {display: inline-block}\n",
       ".list-inline>li:not(:last-child)::after {content: \"\\00b7\"; padding: 0 .5ex}\n",
       "</style>\n",
       "<ol class=list-inline><li>'age'</li><li>'sex'</li><li>'chest_pain_type'</li><li>'resting_bp'</li><li>'cholesterol'</li><li>'fasting_bs'</li><li>'resting_ecg'</li><li>'heartrate_max'</li><li>'exang'</li><li>'oldpeak'</li><li>'slope'</li><li>'ca'</li><li>'thal'</li></ol>\n"
      ],
      "text/latex": [
       "\\begin{enumerate*}\n",
       "\\item 'age'\n",
       "\\item 'sex'\n",
       "\\item 'chest\\_pain\\_type'\n",
       "\\item 'resting\\_bp'\n",
       "\\item 'cholesterol'\n",
       "\\item 'fasting\\_bs'\n",
       "\\item 'resting\\_ecg'\n",
       "\\item 'heartrate\\_max'\n",
       "\\item 'exang'\n",
       "\\item 'oldpeak'\n",
       "\\item 'slope'\n",
       "\\item 'ca'\n",
       "\\item 'thal'\n",
       "\\end{enumerate*}\n"
      ],
      "text/markdown": [
       "1. 'age'\n",
       "2. 'sex'\n",
       "3. 'chest_pain_type'\n",
       "4. 'resting_bp'\n",
       "5. 'cholesterol'\n",
       "6. 'fasting_bs'\n",
       "7. 'resting_ecg'\n",
       "8. 'heartrate_max'\n",
       "9. 'exang'\n",
       "10. 'oldpeak'\n",
       "11. 'slope'\n",
       "12. 'ca'\n",
       "13. 'thal'\n",
       "\n",
       "\n"
      ],
      "text/plain": [
       " [1] \"age\"             \"sex\"             \"chest_pain_type\" \"resting_bp\"     \n",
       " [5] \"cholesterol\"     \"fasting_bs\"      \"resting_ecg\"     \"heartrate_max\"  \n",
       " [9] \"exang\"           \"oldpeak\"         \"slope\"           \"ca\"             \n",
       "[13] \"thal\"           "
      ]
     },
     "metadata": {},
     "output_type": "display_data"
    },
    {
     "data": {
      "text/html": [
       "'disease_status ~ age+sex+chest_pain_type+resting_bp+cholesterol+fasting_bs+resting_ecg+heartrate_max+exang+oldpeak+slope+ca+thal'"
      ],
      "text/latex": [
       "'disease\\_status \\textasciitilde{} age+sex+chest\\_pain\\_type+resting\\_bp+cholesterol+fasting\\_bs+resting\\_ecg+heartrate\\_max+exang+oldpeak+slope+ca+thal'"
      ],
      "text/markdown": [
       "'disease_status ~ age+sex+chest_pain_type+resting_bp+cholesterol+fasting_bs+resting_ecg+heartrate_max+exang+oldpeak+slope+ca+thal'"
      ],
      "text/plain": [
       "[1] \"disease_status ~ age+sex+chest_pain_type+resting_bp+cholesterol+fasting_bs+resting_ecg+heartrate_max+exang+oldpeak+slope+ca+thal\""
      ]
     },
     "metadata": {},
     "output_type": "display_data"
    },
    {
     "data": {
      "text/html": [
       "<table>\n",
       "<caption>A tibble: 13 × 3</caption>\n",
       "<thead>\n",
       "\t<tr><th scope=col>size</th><th scope=col>model_string</th><th scope=col>accuracy</th></tr>\n",
       "\t<tr><th scope=col>&lt;int&gt;</th><th scope=col>&lt;chr&gt;</th><th scope=col>&lt;dbl&gt;</th></tr>\n",
       "</thead>\n",
       "<tbody>\n",
       "\t<tr><td> 1</td><td>disease_status ~ age                                                                                                            </td><td>0.6194949</td></tr>\n",
       "\t<tr><td> 2</td><td>disease_status ~ age+sex                                                                                                        </td><td>0.6635354</td></tr>\n",
       "\t<tr><td> 3</td><td>disease_status ~ age+sex+chest_pain_type                                                                                        </td><td>0.7485859</td></tr>\n",
       "\t<tr><td> 4</td><td>disease_status ~ age+sex+chest_pain_type+resting_bp                                                                             </td><td>0.7574747</td></tr>\n",
       "\t<tr><td> 5</td><td>disease_status ~ age+sex+chest_pain_type+resting_bp+cholesterol                                                                 </td><td>0.7263636</td></tr>\n",
       "\t<tr><td> 6</td><td>disease_status ~ age+sex+chest_pain_type+resting_bp+cholesterol+fasting_bs                                                      </td><td>0.7262626</td></tr>\n",
       "\t<tr><td> 7</td><td>disease_status ~ age+sex+chest_pain_type+resting_bp+cholesterol+fasting_bs+resting_ecg                                          </td><td>0.7266667</td></tr>\n",
       "\t<tr><td> 8</td><td>disease_status ~ age+sex+chest_pain_type+resting_bp+cholesterol+fasting_bs+resting_ecg+heartrate_max                            </td><td>0.6998990</td></tr>\n",
       "\t<tr><td> 9</td><td>disease_status ~ age+sex+chest_pain_type+resting_bp+cholesterol+fasting_bs+resting_ecg+heartrate_max+exang                      </td><td>0.7578788</td></tr>\n",
       "\t<tr><td>10</td><td>disease_status ~ age+sex+chest_pain_type+resting_bp+cholesterol+fasting_bs+resting_ecg+heartrate_max+exang+oldpeak              </td><td>0.7715152</td></tr>\n",
       "\t<tr><td>11</td><td>disease_status ~ age+sex+chest_pain_type+resting_bp+cholesterol+fasting_bs+resting_ecg+heartrate_max+exang+oldpeak+slope        </td><td>0.7711111</td></tr>\n",
       "\t<tr><td>12</td><td>disease_status ~ age+sex+chest_pain_type+resting_bp+cholesterol+fasting_bs+resting_ecg+heartrate_max+exang+oldpeak+slope+ca     </td><td>0.7848485</td></tr>\n",
       "\t<tr><td>13</td><td>disease_status ~ age+sex+chest_pain_type+resting_bp+cholesterol+fasting_bs+resting_ecg+heartrate_max+exang+oldpeak+slope+ca+thal</td><td>0.8382828</td></tr>\n",
       "</tbody>\n",
       "</table>\n"
      ],
      "text/latex": [
       "A tibble: 13 × 3\n",
       "\\begin{tabular}{lll}\n",
       " size & model\\_string & accuracy\\\\\n",
       " <int> & <chr> & <dbl>\\\\\n",
       "\\hline\n",
       "\t  1 & disease\\_status \\textasciitilde{} age                                                                                                             & 0.6194949\\\\\n",
       "\t  2 & disease\\_status \\textasciitilde{} age+sex                                                                                                         & 0.6635354\\\\\n",
       "\t  3 & disease\\_status \\textasciitilde{} age+sex+chest\\_pain\\_type                                                                                         & 0.7485859\\\\\n",
       "\t  4 & disease\\_status \\textasciitilde{} age+sex+chest\\_pain\\_type+resting\\_bp                                                                              & 0.7574747\\\\\n",
       "\t  5 & disease\\_status \\textasciitilde{} age+sex+chest\\_pain\\_type+resting\\_bp+cholesterol                                                                  & 0.7263636\\\\\n",
       "\t  6 & disease\\_status \\textasciitilde{} age+sex+chest\\_pain\\_type+resting\\_bp+cholesterol+fasting\\_bs                                                       & 0.7262626\\\\\n",
       "\t  7 & disease\\_status \\textasciitilde{} age+sex+chest\\_pain\\_type+resting\\_bp+cholesterol+fasting\\_bs+resting\\_ecg                                           & 0.7266667\\\\\n",
       "\t  8 & disease\\_status \\textasciitilde{} age+sex+chest\\_pain\\_type+resting\\_bp+cholesterol+fasting\\_bs+resting\\_ecg+heartrate\\_max                             & 0.6998990\\\\\n",
       "\t  9 & disease\\_status \\textasciitilde{} age+sex+chest\\_pain\\_type+resting\\_bp+cholesterol+fasting\\_bs+resting\\_ecg+heartrate\\_max+exang                       & 0.7578788\\\\\n",
       "\t 10 & disease\\_status \\textasciitilde{} age+sex+chest\\_pain\\_type+resting\\_bp+cholesterol+fasting\\_bs+resting\\_ecg+heartrate\\_max+exang+oldpeak               & 0.7715152\\\\\n",
       "\t 11 & disease\\_status \\textasciitilde{} age+sex+chest\\_pain\\_type+resting\\_bp+cholesterol+fasting\\_bs+resting\\_ecg+heartrate\\_max+exang+oldpeak+slope         & 0.7711111\\\\\n",
       "\t 12 & disease\\_status \\textasciitilde{} age+sex+chest\\_pain\\_type+resting\\_bp+cholesterol+fasting\\_bs+resting\\_ecg+heartrate\\_max+exang+oldpeak+slope+ca      & 0.7848485\\\\\n",
       "\t 13 & disease\\_status \\textasciitilde{} age+sex+chest\\_pain\\_type+resting\\_bp+cholesterol+fasting\\_bs+resting\\_ecg+heartrate\\_max+exang+oldpeak+slope+ca+thal & 0.8382828\\\\\n",
       "\\end{tabular}\n"
      ],
      "text/markdown": [
       "\n",
       "A tibble: 13 × 3\n",
       "\n",
       "| size &lt;int&gt; | model_string &lt;chr&gt; | accuracy &lt;dbl&gt; |\n",
       "|---|---|---|\n",
       "|  1 | disease_status ~ age                                                                                                             | 0.6194949 |\n",
       "|  2 | disease_status ~ age+sex                                                                                                         | 0.6635354 |\n",
       "|  3 | disease_status ~ age+sex+chest_pain_type                                                                                         | 0.7485859 |\n",
       "|  4 | disease_status ~ age+sex+chest_pain_type+resting_bp                                                                              | 0.7574747 |\n",
       "|  5 | disease_status ~ age+sex+chest_pain_type+resting_bp+cholesterol                                                                  | 0.7263636 |\n",
       "|  6 | disease_status ~ age+sex+chest_pain_type+resting_bp+cholesterol+fasting_bs                                                       | 0.7262626 |\n",
       "|  7 | disease_status ~ age+sex+chest_pain_type+resting_bp+cholesterol+fasting_bs+resting_ecg                                           | 0.7266667 |\n",
       "|  8 | disease_status ~ age+sex+chest_pain_type+resting_bp+cholesterol+fasting_bs+resting_ecg+heartrate_max                             | 0.6998990 |\n",
       "|  9 | disease_status ~ age+sex+chest_pain_type+resting_bp+cholesterol+fasting_bs+resting_ecg+heartrate_max+exang                       | 0.7578788 |\n",
       "| 10 | disease_status ~ age+sex+chest_pain_type+resting_bp+cholesterol+fasting_bs+resting_ecg+heartrate_max+exang+oldpeak               | 0.7715152 |\n",
       "| 11 | disease_status ~ age+sex+chest_pain_type+resting_bp+cholesterol+fasting_bs+resting_ecg+heartrate_max+exang+oldpeak+slope         | 0.7711111 |\n",
       "| 12 | disease_status ~ age+sex+chest_pain_type+resting_bp+cholesterol+fasting_bs+resting_ecg+heartrate_max+exang+oldpeak+slope+ca      | 0.7848485 |\n",
       "| 13 | disease_status ~ age+sex+chest_pain_type+resting_bp+cholesterol+fasting_bs+resting_ecg+heartrate_max+exang+oldpeak+slope+ca+thal | 0.8382828 |\n",
       "\n"
      ],
      "text/plain": [
       "   size\n",
       "1   1  \n",
       "2   2  \n",
       "3   3  \n",
       "4   4  \n",
       "5   5  \n",
       "6   6  \n",
       "7   7  \n",
       "8   8  \n",
       "9   9  \n",
       "10 10  \n",
       "11 11  \n",
       "12 12  \n",
       "13 13  \n",
       "   model_string                                                                                                                    \n",
       "1  disease_status ~ age                                                                                                            \n",
       "2  disease_status ~ age+sex                                                                                                        \n",
       "3  disease_status ~ age+sex+chest_pain_type                                                                                        \n",
       "4  disease_status ~ age+sex+chest_pain_type+resting_bp                                                                             \n",
       "5  disease_status ~ age+sex+chest_pain_type+resting_bp+cholesterol                                                                 \n",
       "6  disease_status ~ age+sex+chest_pain_type+resting_bp+cholesterol+fasting_bs                                                      \n",
       "7  disease_status ~ age+sex+chest_pain_type+resting_bp+cholesterol+fasting_bs+resting_ecg                                          \n",
       "8  disease_status ~ age+sex+chest_pain_type+resting_bp+cholesterol+fasting_bs+resting_ecg+heartrate_max                            \n",
       "9  disease_status ~ age+sex+chest_pain_type+resting_bp+cholesterol+fasting_bs+resting_ecg+heartrate_max+exang                      \n",
       "10 disease_status ~ age+sex+chest_pain_type+resting_bp+cholesterol+fasting_bs+resting_ecg+heartrate_max+exang+oldpeak              \n",
       "11 disease_status ~ age+sex+chest_pain_type+resting_bp+cholesterol+fasting_bs+resting_ecg+heartrate_max+exang+oldpeak+slope        \n",
       "12 disease_status ~ age+sex+chest_pain_type+resting_bp+cholesterol+fasting_bs+resting_ecg+heartrate_max+exang+oldpeak+slope+ca     \n",
       "13 disease_status ~ age+sex+chest_pain_type+resting_bp+cholesterol+fasting_bs+resting_ecg+heartrate_max+exang+oldpeak+slope+ca+thal\n",
       "   accuracy \n",
       "1  0.6194949\n",
       "2  0.6635354\n",
       "3  0.7485859\n",
       "4  0.7574747\n",
       "5  0.7263636\n",
       "6  0.7262626\n",
       "7  0.7266667\n",
       "8  0.6998990\n",
       "9  0.7578788\n",
       "10 0.7715152\n",
       "11 0.7711111\n",
       "12 0.7848485\n",
       "13 0.8382828"
      ]
     },
     "metadata": {},
     "output_type": "display_data"
    }
   ],
   "source": [
    "pred_names <- colnames(heart_train %>% select(-disease_status))\n",
    "pred_names\n",
    "\n",
    "pred_formula <- paste(\"disease_status\", \"~\", paste(pred_names, collapse=\"+\"))\n",
    "pred_formula\n",
    "\n",
    "# create an empty tibble to store the results\n",
    "accuracies <- tibble(size = integer(), \n",
    "                     model_string = character(), \n",
    "                     accuracy = numeric())\n",
    "\n",
    "# create a model specification\n",
    "knn_spec <- nearest_neighbor(weight_func = \"rectangular\", \n",
    "                             neighbors = tune()) %>%\n",
    "     set_engine(\"kknn\") %>%\n",
    "     set_mode(\"classification\")\n",
    "\n",
    "# create a 5-fold cross-validation object\n",
    "heart_vfold <- vfold_cv(heart_train, v = 5, strata = disease_status)\n",
    "\n",
    "# store the total number of predictors\n",
    "n_total <- length(pred_names)\n",
    "\n",
    "# stores selected predictors\n",
    "selected <- c()\n",
    "\n",
    "# for every size from 1 to the total number of predictors\n",
    "for (i in 1:n_total) {\n",
    "    # for every predictor still not added yet\n",
    "    accs <- list()\n",
    "    models <- list()\n",
    "    for (j in 1:length(names)) {\n",
    "        # create a model string for this combination of predictors\n",
    "        preds_new <- c(selected, pred_names[[j]])\n",
    "        model_string <- paste(\"disease_status\", \"~\", paste(preds_new, collapse=\"+\"))\n",
    "\n",
    "        # create a recipe from the model string\n",
    "        heart_recipe <- recipe(as.formula(model_string), \n",
    "                                data = heart_train) %>%\n",
    "                          step_scale(all_predictors()) %>%\n",
    "                          step_center(all_predictors())\n",
    "\n",
    "        # tune the KNN classifier with these predictors, \n",
    "        # and collect the accuracy for the best K\n",
    "        acc <- workflow() %>%\n",
    "          add_recipe(heart_recipe) %>%\n",
    "          add_model(knn_spec) %>%\n",
    "          tune_grid(resamples = heart_vfold, grid = 10) %>%\n",
    "          collect_metrics() %>%\n",
    "          filter(.metric == \"accuracy\") %>%\n",
    "          summarize(mx = max(mean))\n",
    "        acc <- acc$mx %>% unlist()\n",
    "\n",
    "        # add this result to the dataframe\n",
    "        accs[[j]] <- acc\n",
    "        models[[j]] <- model_string\n",
    "    }\n",
    "    jstar <- which.max(unlist(accs))\n",
    "    accuracies <- accuracies %>%\n",
    "      add_row(size = i, \n",
    "              model_string = models[[jstar]], \n",
    "              accuracy = accs[[jstar]])\n",
    "    selected <- c(selected, pred_names[[jstar]])\n",
    "    pred_names <- pred_names[-jstar]\n",
    "}\n",
    "accuracies"
   ]
  },
  {
   "cell_type": "markdown",
   "metadata": {},
   "source": [
    "We can see from the 13th row of our forward selection results table that the subset of predictors that produces the highest accuracy is when we use all 13. In light of this we will continue with our analysis using all of our predictors. This solves the final problem of our KNN classification, and we can begin our classification analysis.  \n",
    "***  "
   ]
  },
  {
   "cell_type": "markdown",
   "metadata": {},
   "source": [
    "### C) Analysis Methods:  \n",
    "\n",
    "To begin our classification analysis, we need to tune our classifier so that we know the K value that produces the most accurate classifier. To do this, we must create our model specification. This specification tells the algorithm to do a KNN classification, and that we will be tuning to establish the best parameter value. In addition, the rectangular argument dictates that each point has one vote in the classification."
   ]
  },
  {
   "cell_type": "code",
   "execution_count": 30,
   "metadata": {},
   "outputs": [
    {
     "data": {
      "text/plain": [
       "K-Nearest Neighbor Model Specification (classification)\n",
       "\n",
       "Main Arguments:\n",
       "  neighbors = tune()\n",
       "  weight_func = rectangular\n",
       "\n",
       "Computational engine: kknn \n"
      ]
     },
     "metadata": {},
     "output_type": "display_data"
    }
   ],
   "source": [
    "tune_spec <- nearest_neighbor(weight_func = \"rectangular\", neighbors = tune()) %>%\n",
    "    set_engine(\"kknn\") %>%\n",
    "    set_mode(\"classification\")\n",
    "tune_spec"
   ]
  },
  {
   "cell_type": "markdown",
   "metadata": {},
   "source": [
    "The optimal method of tuning involves using cross-validation. Cross-validation ensures that each observation is used only once, and it allows us to get an average for each K value tested. In addition, by splitting our training data into five folds, it allows us to find the optimal K value for our classifier by validating against other subsets of training data. This way our testing data remains untainted by our training steps."
   ]
  },
  {
   "cell_type": "code",
   "execution_count": 31,
   "metadata": {},
   "outputs": [],
   "source": [
    "heart_vfold <- vfold_cv(data = heart_train, v = 5, strata = disease_status)"
   ]
  },
  {
   "cell_type": "markdown",
   "metadata": {},
   "source": [
    "Now we must create a recipe that will be placed into a workflow. By using a recipe it allows us to scale and center our training data in order to solve problem #2 (that we discussed above) without the potential error of calculation by hand. In addition, we could easily add in other preprocessing steps in the future."
   ]
  },
  {
   "cell_type": "code",
   "execution_count": 32,
   "metadata": {},
   "outputs": [
    {
     "data": {
      "text/plain": [
       "Data Recipe\n",
       "\n",
       "Inputs:\n",
       "\n",
       "      role #variables\n",
       "   outcome          1\n",
       " predictor         13\n",
       "\n",
       "Operations:\n",
       "\n",
       "Scaling for all_predictors()\n",
       "Centering for all_predictors()"
      ]
     },
     "metadata": {},
     "output_type": "display_data"
    }
   ],
   "source": [
    "heart_recipe <- recipe(disease_status ~ . , data = heart_train) %>%\n",
    "    step_scale(all_predictors()) %>%\n",
    "    step_center(all_predictors())\n",
    "heart_recipe"
   ]
  },
  {
   "cell_type": "markdown",
   "metadata": {},
   "source": [
    "In order to test various K values, we need to set up a tibble of all the various possible K values that we'd like our tuning process to check."
   ]
  },
  {
   "cell_type": "code",
   "execution_count": 33,
   "metadata": {},
   "outputs": [
    {
     "data": {
      "text/html": [
       "<table>\n",
       "<caption>A tibble: 6 × 1</caption>\n",
       "<thead>\n",
       "\t<tr><th scope=col>neighbors</th></tr>\n",
       "\t<tr><th scope=col>&lt;dbl&gt;</th></tr>\n",
       "</thead>\n",
       "<tbody>\n",
       "\t<tr><td> 1</td></tr>\n",
       "\t<tr><td> 3</td></tr>\n",
       "\t<tr><td> 5</td></tr>\n",
       "\t<tr><td> 7</td></tr>\n",
       "\t<tr><td> 9</td></tr>\n",
       "\t<tr><td>11</td></tr>\n",
       "</tbody>\n",
       "</table>\n"
      ],
      "text/latex": [
       "A tibble: 6 × 1\n",
       "\\begin{tabular}{l}\n",
       " neighbors\\\\\n",
       " <dbl>\\\\\n",
       "\\hline\n",
       "\t  1\\\\\n",
       "\t  3\\\\\n",
       "\t  5\\\\\n",
       "\t  7\\\\\n",
       "\t  9\\\\\n",
       "\t 11\\\\\n",
       "\\end{tabular}\n"
      ],
      "text/markdown": [
       "\n",
       "A tibble: 6 × 1\n",
       "\n",
       "| neighbors &lt;dbl&gt; |\n",
       "|---|\n",
       "|  1 |\n",
       "|  3 |\n",
       "|  5 |\n",
       "|  7 |\n",
       "|  9 |\n",
       "| 11 |\n",
       "\n"
      ],
      "text/plain": [
       "  neighbors\n",
       "1  1       \n",
       "2  3       \n",
       "3  5       \n",
       "4  7       \n",
       "5  9       \n",
       "6 11       "
      ]
     },
     "metadata": {},
     "output_type": "display_data"
    },
    {
     "data": {
      "text/html": [
       "50"
      ],
      "text/latex": [
       "50"
      ],
      "text/markdown": [
       "50"
      ],
      "text/plain": [
       "[1] 50"
      ]
     },
     "metadata": {},
     "output_type": "display_data"
    }
   ],
   "source": [
    "k_vals <- tibble(neighbors = seq(from = 1, to = 100, by = 2))\n",
    "head(k_vals)\n",
    "nrow(k_vals)"
   ]
  },
  {
   "cell_type": "markdown",
   "metadata": {},
   "source": [
    "Now we have all the pieces to perform our tuning and parameter value selection. We will use a workflow to combine all the work we have so far. A workflow provides a convenient an error-free way of performing our cross validation. By combining this with collect_metrics() function, we will produce an easy-to-read tibble of the various accuracies for each K value."
   ]
  },
  {
   "cell_type": "code",
   "execution_count": 34,
   "metadata": {},
   "outputs": [],
   "source": [
    "cv_heart_results <- workflow() %>%\n",
    "  add_recipe(heart_recipe) %>%\n",
    "  add_model(tune_spec) %>%\n",
    "  tune_grid(resamples = heart_vfold, grid = k_vals) %>%\n",
    "  collect_metrics() "
   ]
  },
  {
   "cell_type": "code",
   "execution_count": 35,
   "metadata": {},
   "outputs": [
    {
     "data": {
      "text/html": [
       "<table>\n",
       "<caption>A tibble: 6 × 7</caption>\n",
       "<thead>\n",
       "\t<tr><th scope=col>neighbors</th><th scope=col>.metric</th><th scope=col>.estimator</th><th scope=col>mean</th><th scope=col>n</th><th scope=col>std_err</th><th scope=col>.config</th></tr>\n",
       "\t<tr><th scope=col>&lt;dbl&gt;</th><th scope=col>&lt;chr&gt;</th><th scope=col>&lt;chr&gt;</th><th scope=col>&lt;dbl&gt;</th><th scope=col>&lt;int&gt;</th><th scope=col>&lt;dbl&gt;</th><th scope=col>&lt;chr&gt;</th></tr>\n",
       "</thead>\n",
       "<tbody>\n",
       "\t<tr><td>25</td><td>accuracy</td><td>binary</td><td>0.8296970</td><td>5</td><td>0.01643581</td><td>Model13</td></tr>\n",
       "\t<tr><td>33</td><td>accuracy</td><td>binary</td><td>0.8254545</td><td>5</td><td>0.03060398</td><td>Model17</td></tr>\n",
       "\t<tr><td>29</td><td>accuracy</td><td>binary</td><td>0.8253535</td><td>5</td><td>0.01876750</td><td>Model15</td></tr>\n",
       "\t<tr><td>45</td><td>accuracy</td><td>binary</td><td>0.8253535</td><td>5</td><td>0.02123640</td><td>Model23</td></tr>\n",
       "\t<tr><td>31</td><td>accuracy</td><td>binary</td><td>0.8210101</td><td>5</td><td>0.02167285</td><td>Model16</td></tr>\n",
       "\t<tr><td>37</td><td>accuracy</td><td>binary</td><td>0.8209091</td><td>5</td><td>0.02492597</td><td>Model19</td></tr>\n",
       "</tbody>\n",
       "</table>\n"
      ],
      "text/latex": [
       "A tibble: 6 × 7\n",
       "\\begin{tabular}{lllllll}\n",
       " neighbors & .metric & .estimator & mean & n & std\\_err & .config\\\\\n",
       " <dbl> & <chr> & <chr> & <dbl> & <int> & <dbl> & <chr>\\\\\n",
       "\\hline\n",
       "\t 25 & accuracy & binary & 0.8296970 & 5 & 0.01643581 & Model13\\\\\n",
       "\t 33 & accuracy & binary & 0.8254545 & 5 & 0.03060398 & Model17\\\\\n",
       "\t 29 & accuracy & binary & 0.8253535 & 5 & 0.01876750 & Model15\\\\\n",
       "\t 45 & accuracy & binary & 0.8253535 & 5 & 0.02123640 & Model23\\\\\n",
       "\t 31 & accuracy & binary & 0.8210101 & 5 & 0.02167285 & Model16\\\\\n",
       "\t 37 & accuracy & binary & 0.8209091 & 5 & 0.02492597 & Model19\\\\\n",
       "\\end{tabular}\n"
      ],
      "text/markdown": [
       "\n",
       "A tibble: 6 × 7\n",
       "\n",
       "| neighbors &lt;dbl&gt; | .metric &lt;chr&gt; | .estimator &lt;chr&gt; | mean &lt;dbl&gt; | n &lt;int&gt; | std_err &lt;dbl&gt; | .config &lt;chr&gt; |\n",
       "|---|---|---|---|---|---|---|\n",
       "| 25 | accuracy | binary | 0.8296970 | 5 | 0.01643581 | Model13 |\n",
       "| 33 | accuracy | binary | 0.8254545 | 5 | 0.03060398 | Model17 |\n",
       "| 29 | accuracy | binary | 0.8253535 | 5 | 0.01876750 | Model15 |\n",
       "| 45 | accuracy | binary | 0.8253535 | 5 | 0.02123640 | Model23 |\n",
       "| 31 | accuracy | binary | 0.8210101 | 5 | 0.02167285 | Model16 |\n",
       "| 37 | accuracy | binary | 0.8209091 | 5 | 0.02492597 | Model19 |\n",
       "\n"
      ],
      "text/plain": [
       "  neighbors .metric  .estimator mean      n std_err    .config\n",
       "1 25        accuracy binary     0.8296970 5 0.01643581 Model13\n",
       "2 33        accuracy binary     0.8254545 5 0.03060398 Model17\n",
       "3 29        accuracy binary     0.8253535 5 0.01876750 Model15\n",
       "4 45        accuracy binary     0.8253535 5 0.02123640 Model23\n",
       "5 31        accuracy binary     0.8210101 5 0.02167285 Model16\n",
       "6 37        accuracy binary     0.8209091 5 0.02492597 Model19"
      ]
     },
     "metadata": {},
     "output_type": "display_data"
    }
   ],
   "source": [
    "accuracies <- cv_heart_results %>%\n",
    "    filter(.metric == \"accuracy\") %>%\n",
    "    arrange(desc(mean))\n",
    "\n",
    "head(accuracies)"
   ]
  },
  {
   "cell_type": "markdown",
   "metadata": {},
   "source": [
    "Now we can see that the K value with the highest accuracy is 25, but we also want a K value that still returns a high accuracy if the value shifts slightly. To determine the best K value we will plot this data frame so that we can easily visualize the best options."
   ]
  },
  {
   "cell_type": "code",
   "execution_count": 36,
   "metadata": {},
   "outputs": [
    {
     "data": {
      "image/png": "[encoded data removed]",
      "text/plain": [
       "plot without title"
      ]
     },
     "metadata": {
      "image/png": {
       "height": 420,
       "width": 900
      }
     },
     "output_type": "display_data"
    }
   ],
   "source": [
    "options(repr.plot.length = 10, repr.plot.width = 15)\n",
    "\n",
    "accuracy_vs_k <- ggplot(accuracies, aes(x = neighbors, y = mean)) +\n",
    "  geom_point() +\n",
    "  geom_line() +\n",
    "  labs(x = \"Neighbors\", y = \"Accuracy Estimate\") + \n",
    "  theme(text = element_text(size = 15)) +\n",
    "    scale_x_continuous(breaks = seq(from = 1,to = 100,by = 2)) +\n",
    "    ggtitle(\"Accuracy Vs. Neighbors\")\n",
    "\n",
    "accuracy_vs_k"
   ]
  },
  {
   "cell_type": "markdown",
   "metadata": {},
   "source": [
    "From the above graph, it appears that any K value between 25 and 45 gives us a high accuracy. However, we will choose K=31 as our optimal parameter value because:  \n",
    "1) It is not too high of a value, so computation won't be exceedingly long.  \n",
    "2) It returns one of the highest accuracies.  \n",
    "3) It is relatively stable on either side if the K value is changed slightly.  \n",
    "\n",
    "Now that we have our optimal parameter, we must re-train our classifier with this parameter. To do this, we must create a new model specification that specifies our newfound optimal parameter for the neighbors argument. Next, we must use the fit function in our workflow with the entire training dataset to produce our classifier."
   ]
  },
  {
   "cell_type": "code",
   "execution_count": 37,
   "metadata": {},
   "outputs": [
    {
     "data": {
      "text/plain": [
       "K-Nearest Neighbor Model Specification (classification)\n",
       "\n",
       "Main Arguments:\n",
       "  neighbors = 31\n",
       "  weight_func = rectangular\n",
       "\n",
       "Computational engine: kknn \n"
      ]
     },
     "metadata": {},
     "output_type": "display_data"
    },
    {
     "data": {
      "text/plain": [
       "══ Workflow [trained] ══════════════════════════════════════════════════════════\n",
       "\u001b[3mPreprocessor:\u001b[23m Recipe\n",
       "\u001b[3mModel:\u001b[23m nearest_neighbor()\n",
       "\n",
       "── Preprocessor ────────────────────────────────────────────────────────────────\n",
       "2 Recipe Steps\n",
       "\n",
       "● step_scale()\n",
       "● step_center()\n",
       "\n",
       "── Model ───────────────────────────────────────────────────────────────────────\n",
       "\n",
       "Call:\n",
       "kknn::train.kknn(formula = ..y ~ ., data = data, ks = ~31, kernel = ~\"rectangular\")\n",
       "\n",
       "Type of response variable: nominal\n",
       "Minimal misclassification: 0.1973094\n",
       "Best kernel: rectangular\n",
       "Best k: 31"
      ]
     },
     "metadata": {},
     "output_type": "display_data"
    }
   ],
   "source": [
    "heart_spec <- nearest_neighbor(weight_func = \"rectangular\", neighbors = 31) %>%\n",
    "    set_engine(\"kknn\") %>%\n",
    "    set_mode(\"classification\")\n",
    "heart_spec\n",
    "\n",
    "heart_fit <- workflow() %>%\n",
    "    add_recipe(heart_recipe) %>%\n",
    "    add_model(heart_spec) %>%\n",
    "    fit(heart_train)\n",
    "heart_fit"
   ]
  },
  {
   "cell_type": "markdown",
   "metadata": {},
   "source": [
    "Now we can predict the classes of our testing data by using our training classifier. We do this by using the predict function. Once we have these class predictions, we must bind the predictions to the original testing data. This will allow us to calculate the accuracy of our classifier with the metrics function."
   ]
  },
  {
   "cell_type": "code",
   "execution_count": 38,
   "metadata": {},
   "outputs": [
    {
     "data": {
      "text/html": [
       "<table>\n",
       "<caption>A tibble: 1 × 3</caption>\n",
       "<thead>\n",
       "\t<tr><th scope=col>.metric</th><th scope=col>.estimator</th><th scope=col>.estimate</th></tr>\n",
       "\t<tr><th scope=col>&lt;chr&gt;</th><th scope=col>&lt;chr&gt;</th><th scope=col>&lt;dbl&gt;</th></tr>\n",
       "</thead>\n",
       "<tbody>\n",
       "\t<tr><td>accuracy</td><td>binary</td><td>0.9054054</td></tr>\n",
       "</tbody>\n",
       "</table>\n"
      ],
      "text/latex": [
       "A tibble: 1 × 3\n",
       "\\begin{tabular}{lll}\n",
       " .metric & .estimator & .estimate\\\\\n",
       " <chr> & <chr> & <dbl>\\\\\n",
       "\\hline\n",
       "\t accuracy & binary & 0.9054054\\\\\n",
       "\\end{tabular}\n"
      ],
      "text/markdown": [
       "\n",
       "A tibble: 1 × 3\n",
       "\n",
       "| .metric &lt;chr&gt; | .estimator &lt;chr&gt; | .estimate &lt;dbl&gt; |\n",
       "|---|---|---|\n",
       "| accuracy | binary | 0.9054054 |\n",
       "\n"
      ],
      "text/plain": [
       "  .metric  .estimator .estimate\n",
       "1 accuracy binary     0.9054054"
      ]
     },
     "metadata": {},
     "output_type": "display_data"
    }
   ],
   "source": [
    "prediction <- predict(heart_fit, heart_test) %>%\n",
    "    bind_cols(heart_test) %>%\n",
    "    metrics(truth = disease_status, estimate = .pred_class) %>%\n",
    "    filter(.metric == \"accuracy\")\n",
    "prediction"
   ]
  },
  {
   "cell_type": "markdown",
   "metadata": {},
   "source": [
    "We have found the accuracy of our classifier to be approximately 90.54%!  \n",
    "***"
   ]
  },
  {
   "cell_type": "markdown",
   "metadata": {},
   "source": [
    "### D) Discussion:  \n",
    "\n",
    "Over the course of this analysis we found that:  \n",
    "1) Our predictor forward selection showed that the combination of all 13 possible predictors returned the highest accuracy.  \n",
    "2) Using cross-validation we tuned our parameter value and found a K value of 31 provides the most accuracy and stability while tuning.  \n",
    "3) We fit our training data with the KNN algorithm and the optimal K value to produce our classifier.  \n",
    "4) When we predicted classes of our testing data, we found our classifier to be approximately 90.54% accurate at predicting heart disease.  \n",
    "\n",
    "We found these results to be very interesting. Firstly, we did not expect to have so many predictors that increased the accuracy of our classifier during our forward selection. K-nn classification has a weakness of potentially not working well with many predictors. Therefore, it will punish the use of irrelevant predictors. This suggests that all available predictors provide some meaningful increase in accuracy. In addition, we were pleasantly surprised with the accuracy of our classifier on the testing data. Since the majority classifier is approximately 54%, the use of our classifier provides a significant improvement.  \n",
    "\n",
    "Unfortunately, we do not think that the accuracy of our model is robust enough to cause significant changes/ impacts to how hospitals treat new admissions with chest pain. Even though this classifier is better than the majority classifier, the penalty for an incorrect diagnosis could be disastrous to a patient with heart disease. However, depending on how this tool is used, it could offer physicians a hint about a new patient's possible prognosis and allow them the ability to modify their treatments accordingly.  \n",
    "\n",
    "We believe that the potential of our classifier will spark the interest for future studies. Currently, researchers testing various predictive models to answer the exact question we have asked here. There are even neural networks that are up to 95% accurate with similar heart datasets from Cleveland (Hassan et al., 2020). While our predictors are not this accurate, perhaps our work can help guide future studies with different subsets of predictors. Our hope is that this work will improve the outcomes of patients struggling with heart disease.  \n",
    "***"
   ]
  },
  {
   "cell_type": "markdown",
   "metadata": {},
   "source": [
    "### E) Appendix\n",
    "\n",
    "\n",
    "#### References:\n",
    "\n",
    "1) Ornish, D., Brown, B.E., Billings, J.H., Scherwitz, L.W., Armstrong, W.T., Ports, T.A., McLanahan, S.M., Kirkeeide, R.L, Gould, K.l. & Brand, R.J. (1990). Can lifestyle changes reverse coronary heart disease?: The Lifestyle Heart Trial. _The Lancet, 336_(8708), 129-133. https://doi.org/10.1016/0140-6736(90)91656-U.  \n",
    "  \n",
    "2) Hassan, M.I., Osman, A.H. & Hussein, E.M. (2020). Heart disease diagnosis using diverse neural network categories. _Emerging Trends in Intelligent Computing and Informatics. IRICT 2019: Advances in Intelligent Systems and Computing, 1073_(1), 373-385. https://doi.org/10.1007/978-3-030-33582-3\n",
    "\n",
    "3) UCI Machine Learning Repository (1988). _Heart Disease Data Set_. Retrieved from: https://archive.ics.uci.edu/ml/datasets/Heart+Disease  \n",
    "#### Complete attribute documentation:\n",
    "\n",
    "* X1 age: age in years\n",
    "* X2 sex: sex (1 = male; 0 = female)\n",
    "* X3 chest_pain_type:\n",
    "-- Value 1: typical angina\n",
    "-- Value 2: atypical angina\n",
    "-- Value 3: non-anginal pain\n",
    "-- Value 4: asymptomatic\n",
    "* X4 resting_bp: resting blood pressure (in mm Hg on admission to the hospital)\n",
    "* X5 cholesterol: serum cholesterol in mg/dl\n",
    "* X6 fasting_bs: (fasting blood sugar > 120 mg/dl) (1 = true; 0 = false)\n",
    "* X7 resting_ecg: resting electrocardiographic results\n",
    "-- Value 0: normal\n",
    "-- Value 1: having ST-T wave abnormality (T wave inversions and/or ST elevation or depression of > 0.05 mV)\n",
    "-- Value 2: showing probable or definite left ventricular hypertrophy by Estes' criteria\n",
    "* X8 heartrate_max: maximum heart rate achieved\n",
    "* X9 exang: exercise induced angina (1 = yes; 0 = no)\n",
    "* X10 oldpeak = ST depression induced by exercise relative to rest\n",
    "* X11 slope: the slope of the peak exercise ST segment\n",
    "-- Value 1: upsloping\n",
    "-- Value 2: flat\n",
    "-- Value 3: downsloping\n",
    "* X12 ca: number of major vessels (0-3) colored by flourosopy\n",
    "* X13 thal: 3 = normal; 6 = fixed defect; 7 = reversable defect\n",
    "* X14 disease_status: diagnosis of heart disease (angiographic disease status)\n",
    "-- Value 0: < 50% diameter narrowing\n",
    "-- Value 1: > 50% diameter narrowing"
   ]
  },
  {
   "cell_type": "code",
   "execution_count": null,
   "metadata": {},
   "outputs": [],
   "source": []
  }
 ],
 "metadata": {
  "kernelspec": {
   "display_name": "R",
   "language": "R",
   "name": "ir"
  },
  "language_info": {
   "codemirror_mode": "r",
   "file_extension": ".r",
   "mimetype": "text/x-r-source",
   "name": "R",
   "pygments_lexer": "r",
   "version": "4.0.0"
  }
 },
 "nbformat": 4,
 "nbformat_minor": 4
}
