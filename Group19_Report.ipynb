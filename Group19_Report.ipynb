{
 "cells": [
  {
   "cell_type": "markdown",
   "metadata": {},
   "source": [
    "# Predicting Heart Disease - A Classification Problem for Cleveland Patients\n",
    "\n",
    "##### Group 19: Matthew Campbell, Andy Li, Fang Peian, Pedro Vieira Sodre"
   ]
  },
  {
   "cell_type": "markdown",
   "metadata": {},
   "source": [
    "### A) Introduction:\n",
    "\n",
    "All over the world, developed nations provide a comfortable and safe quality of life. However, this has led their populations to trend towards more sedentary, high caloric lifestyles that have been proven to play a major role in the increased incidence of heart disease (Ornish et al., 1990). It is one of the leading causes of mortality in the Western world, and therefore, factors that might contribute to this diagnosis are under constant study.\n",
    "\n",
    "In this project, our team will analyze various factors that are believed to play some role in the development of heart disease. We will use a heart disease data set from the [UCI Machine Learning Repository](https://archive.ics.uci.edu/ml/datasets/Heart+Disease) to accomplish this. We will be analyzing the processed data from Cleveland consisting of 14 different variables collected from patients entering the hospital and complaining of their chest pain. To begin we will visualize any potential trends between age, heart rate, cholesterol, and blood pressure. Our question will be:\n",
    "    \n",
    "    In Cleveland, are there predictors that nicely segregate patients with heart disease from patients without heart disease. And, can we use these factors to accurately predict whether or not new patients are likely to have advanced heart disease?  \n",
    "***\n",
    "   "
   ]
  },
  {
   "cell_type": "markdown",
   "metadata": {},
   "source": [
    " "
   ]
  },
  {
   "cell_type": "markdown",
   "metadata": {},
   "source": [
    "### B) Preliminary exploratory data analysis:\n",
    "\n",
    "For this project we will need the following three library packages\n",
    "* tidyverse - to collect, tidy and wrangle our dataset\n",
    "* repr - for plotting our visualizations\n",
    "* tidymodels - to streamline our Knn calculations\n",
    "* cowplot - to aid in visualizations"
   ]
  },
  {
   "cell_type": "code",
   "execution_count": 1,
   "metadata": {},
   "outputs": [
    {
     "name": "stderr",
     "output_type": "stream",
     "text": [
      "── \u001b[1mAttaching packages\u001b[22m ─────────────────────────────────────── tidyverse 1.3.0 ──\n",
      "\n",
      "\u001b[32m✔\u001b[39m \u001b[34mggplot2\u001b[39m 3.3.2     \u001b[32m✔\u001b[39m \u001b[34mpurrr  \u001b[39m 0.3.4\n",
      "\u001b[32m✔\u001b[39m \u001b[34mtibble \u001b[39m 3.0.3     \u001b[32m✔\u001b[39m \u001b[34mdplyr  \u001b[39m 1.0.2\n",
      "\u001b[32m✔\u001b[39m \u001b[34mtidyr  \u001b[39m 1.1.2     \u001b[32m✔\u001b[39m \u001b[34mstringr\u001b[39m 1.4.0\n",
      "\u001b[32m✔\u001b[39m \u001b[34mreadr  \u001b[39m 1.3.1     \u001b[32m✔\u001b[39m \u001b[34mforcats\u001b[39m 0.5.0\n",
      "\n",
      "Warning message:\n",
      "“package ‘ggplot2’ was built under R version 4.0.1”\n",
      "Warning message:\n",
      "“package ‘tibble’ was built under R version 4.0.2”\n",
      "Warning message:\n",
      "“package ‘tidyr’ was built under R version 4.0.2”\n",
      "Warning message:\n",
      "“package ‘dplyr’ was built under R version 4.0.2”\n",
      "── \u001b[1mConflicts\u001b[22m ────────────────────────────────────────── tidyverse_conflicts() ──\n",
      "\u001b[31m✖\u001b[39m \u001b[34mdplyr\u001b[39m::\u001b[32mfilter()\u001b[39m masks \u001b[34mstats\u001b[39m::filter()\n",
      "\u001b[31m✖\u001b[39m \u001b[34mdplyr\u001b[39m::\u001b[32mlag()\u001b[39m    masks \u001b[34mstats\u001b[39m::lag()\n",
      "\n",
      "Warning message:\n",
      "“package ‘tidymodels’ was built under R version 4.0.2”\n",
      "── \u001b[1mAttaching packages\u001b[22m ────────────────────────────────────── tidymodels 0.1.1 ──\n",
      "\n",
      "\u001b[32m✔\u001b[39m \u001b[34mbroom    \u001b[39m 0.7.0      \u001b[32m✔\u001b[39m \u001b[34mrecipes  \u001b[39m 0.1.13\n",
      "\u001b[32m✔\u001b[39m \u001b[34mdials    \u001b[39m 0.0.9      \u001b[32m✔\u001b[39m \u001b[34mrsample  \u001b[39m 0.0.7 \n",
      "\u001b[32m✔\u001b[39m \u001b[34minfer    \u001b[39m 0.5.4      \u001b[32m✔\u001b[39m \u001b[34mtune     \u001b[39m 0.1.1 \n",
      "\u001b[32m✔\u001b[39m \u001b[34mmodeldata\u001b[39m 0.0.2      \u001b[32m✔\u001b[39m \u001b[34mworkflows\u001b[39m 0.2.0 \n",
      "\u001b[32m✔\u001b[39m \u001b[34mparsnip  \u001b[39m 0.1.3      \u001b[32m✔\u001b[39m \u001b[34myardstick\u001b[39m 0.0.7 \n",
      "\n",
      "Warning message:\n",
      "“package ‘broom’ was built under R version 4.0.2”\n",
      "Warning message:\n",
      "“package ‘dials’ was built under R version 4.0.2”\n",
      "Warning message:\n",
      "“package ‘infer’ was built under R version 4.0.3”\n",
      "Warning message:\n",
      "“package ‘modeldata’ was built under R version 4.0.1”\n",
      "Warning message:\n",
      "“package ‘parsnip’ was built under R version 4.0.2”\n",
      "Warning message:\n",
      "“package ‘recipes’ was built under R version 4.0.1”\n",
      "Warning message:\n",
      "“package ‘tune’ was built under R version 4.0.2”\n",
      "Warning message:\n",
      "“package ‘workflows’ was built under R version 4.0.2”\n",
      "Warning message:\n",
      "“package ‘yardstick’ was built under R version 4.0.2”\n",
      "── \u001b[1mConflicts\u001b[22m ───────────────────────────────────────── tidymodels_conflicts() ──\n",
      "\u001b[31m✖\u001b[39m \u001b[34mscales\u001b[39m::\u001b[32mdiscard()\u001b[39m masks \u001b[34mpurrr\u001b[39m::discard()\n",
      "\u001b[31m✖\u001b[39m \u001b[34mdplyr\u001b[39m::\u001b[32mfilter()\u001b[39m   masks \u001b[34mstats\u001b[39m::filter()\n",
      "\u001b[31m✖\u001b[39m \u001b[34mrecipes\u001b[39m::\u001b[32mfixed()\u001b[39m  masks \u001b[34mstringr\u001b[39m::fixed()\n",
      "\u001b[31m✖\u001b[39m \u001b[34mdplyr\u001b[39m::\u001b[32mlag()\u001b[39m      masks \u001b[34mstats\u001b[39m::lag()\n",
      "\u001b[31m✖\u001b[39m \u001b[34myardstick\u001b[39m::\u001b[32mspec()\u001b[39m masks \u001b[34mreadr\u001b[39m::spec()\n",
      "\u001b[31m✖\u001b[39m \u001b[34mrecipes\u001b[39m::\u001b[32mstep()\u001b[39m   masks \u001b[34mstats\u001b[39m::step()\n",
      "\n",
      "Warning message:\n",
      "“package ‘cowplot’ was built under R version 4.0.3”\n"
     ]
    }
   ],
   "source": [
    "library(tidyverse)\n",
    "library(repr)\n",
    "library(tidymodels)\n",
    "library(cowplot)"
   ]
  },
  {
   "cell_type": "markdown",
   "metadata": {},
   "source": [
    " \n",
    " \n",
    " \n"
   ]
  },
  {
   "cell_type": "markdown",
   "metadata": {},
   "source": [
    "Next, we will download our dataset from the web and rename all of the variable columns with the names given in the original website. We have included a list describing all the predictors in an appendix at the end of this proposal."
   ]
  },
  {
   "cell_type": "code",
   "execution_count": 2,
   "metadata": {},
   "outputs": [
    {
     "name": "stderr",
     "output_type": "stream",
     "text": [
      "Parsed with column specification:\n",
      "cols(\n",
      "  X1 = \u001b[32mcol_double()\u001b[39m,\n",
      "  X2 = \u001b[32mcol_double()\u001b[39m,\n",
      "  X3 = \u001b[32mcol_double()\u001b[39m,\n",
      "  X4 = \u001b[32mcol_double()\u001b[39m,\n",
      "  X5 = \u001b[32mcol_double()\u001b[39m,\n",
      "  X6 = \u001b[32mcol_double()\u001b[39m,\n",
      "  X7 = \u001b[32mcol_double()\u001b[39m,\n",
      "  X8 = \u001b[32mcol_double()\u001b[39m,\n",
      "  X9 = \u001b[32mcol_double()\u001b[39m,\n",
      "  X10 = \u001b[32mcol_double()\u001b[39m,\n",
      "  X11 = \u001b[32mcol_double()\u001b[39m,\n",
      "  X12 = \u001b[31mcol_character()\u001b[39m,\n",
      "  X13 = \u001b[31mcol_character()\u001b[39m,\n",
      "  X14 = \u001b[32mcol_double()\u001b[39m\n",
      ")\n",
      "\n"
     ]
    },
    {
     "data": {
      "text/html": [
       "<table>\n",
       "<caption>A tibble: 6 × 14</caption>\n",
       "<thead>\n",
       "\t<tr><th scope=col>age</th><th scope=col>sex</th><th scope=col>chest_pain_type</th><th scope=col>resting_bp</th><th scope=col>cholesterol</th><th scope=col>fasting_bs</th><th scope=col>resting_ecg</th><th scope=col>heartrate_max</th><th scope=col>exang</th><th scope=col>oldpeak</th><th scope=col>slope</th><th scope=col>ca</th><th scope=col>thal</th><th scope=col>disease_status</th></tr>\n",
       "\t<tr><th scope=col>&lt;dbl&gt;</th><th scope=col>&lt;dbl&gt;</th><th scope=col>&lt;dbl&gt;</th><th scope=col>&lt;dbl&gt;</th><th scope=col>&lt;dbl&gt;</th><th scope=col>&lt;dbl&gt;</th><th scope=col>&lt;dbl&gt;</th><th scope=col>&lt;dbl&gt;</th><th scope=col>&lt;dbl&gt;</th><th scope=col>&lt;dbl&gt;</th><th scope=col>&lt;dbl&gt;</th><th scope=col>&lt;chr&gt;</th><th scope=col>&lt;chr&gt;</th><th scope=col>&lt;dbl&gt;</th></tr>\n",
       "</thead>\n",
       "<tbody>\n",
       "\t<tr><td>63</td><td>1</td><td>1</td><td>145</td><td>233</td><td>1</td><td>2</td><td>150</td><td>0</td><td>2.3</td><td>3</td><td>0.0</td><td>6.0</td><td>0</td></tr>\n",
       "\t<tr><td>67</td><td>1</td><td>4</td><td>160</td><td>286</td><td>0</td><td>2</td><td>108</td><td>1</td><td>1.5</td><td>2</td><td>3.0</td><td>3.0</td><td>2</td></tr>\n",
       "\t<tr><td>67</td><td>1</td><td>4</td><td>120</td><td>229</td><td>0</td><td>2</td><td>129</td><td>1</td><td>2.6</td><td>2</td><td>2.0</td><td>7.0</td><td>1</td></tr>\n",
       "\t<tr><td>37</td><td>1</td><td>3</td><td>130</td><td>250</td><td>0</td><td>0</td><td>187</td><td>0</td><td>3.5</td><td>3</td><td>0.0</td><td>3.0</td><td>0</td></tr>\n",
       "\t<tr><td>41</td><td>0</td><td>2</td><td>130</td><td>204</td><td>0</td><td>2</td><td>172</td><td>0</td><td>1.4</td><td>1</td><td>0.0</td><td>3.0</td><td>0</td></tr>\n",
       "\t<tr><td>56</td><td>1</td><td>2</td><td>120</td><td>236</td><td>0</td><td>0</td><td>178</td><td>0</td><td>0.8</td><td>1</td><td>0.0</td><td>3.0</td><td>0</td></tr>\n",
       "</tbody>\n",
       "</table>\n"
      ],
      "text/latex": [
       "A tibble: 6 × 14\n",
       "\\begin{tabular}{llllllllllllll}\n",
       " age & sex & chest\\_pain\\_type & resting\\_bp & cholesterol & fasting\\_bs & resting\\_ecg & heartrate\\_max & exang & oldpeak & slope & ca & thal & disease\\_status\\\\\n",
       " <dbl> & <dbl> & <dbl> & <dbl> & <dbl> & <dbl> & <dbl> & <dbl> & <dbl> & <dbl> & <dbl> & <chr> & <chr> & <dbl>\\\\\n",
       "\\hline\n",
       "\t 63 & 1 & 1 & 145 & 233 & 1 & 2 & 150 & 0 & 2.3 & 3 & 0.0 & 6.0 & 0\\\\\n",
       "\t 67 & 1 & 4 & 160 & 286 & 0 & 2 & 108 & 1 & 1.5 & 2 & 3.0 & 3.0 & 2\\\\\n",
       "\t 67 & 1 & 4 & 120 & 229 & 0 & 2 & 129 & 1 & 2.6 & 2 & 2.0 & 7.0 & 1\\\\\n",
       "\t 37 & 1 & 3 & 130 & 250 & 0 & 0 & 187 & 0 & 3.5 & 3 & 0.0 & 3.0 & 0\\\\\n",
       "\t 41 & 0 & 2 & 130 & 204 & 0 & 2 & 172 & 0 & 1.4 & 1 & 0.0 & 3.0 & 0\\\\\n",
       "\t 56 & 1 & 2 & 120 & 236 & 0 & 0 & 178 & 0 & 0.8 & 1 & 0.0 & 3.0 & 0\\\\\n",
       "\\end{tabular}\n"
      ],
      "text/markdown": [
       "\n",
       "A tibble: 6 × 14\n",
       "\n",
       "| age &lt;dbl&gt; | sex &lt;dbl&gt; | chest_pain_type &lt;dbl&gt; | resting_bp &lt;dbl&gt; | cholesterol &lt;dbl&gt; | fasting_bs &lt;dbl&gt; | resting_ecg &lt;dbl&gt; | heartrate_max &lt;dbl&gt; | exang &lt;dbl&gt; | oldpeak &lt;dbl&gt; | slope &lt;dbl&gt; | ca &lt;chr&gt; | thal &lt;chr&gt; | disease_status &lt;dbl&gt; |\n",
       "|---|---|---|---|---|---|---|---|---|---|---|---|---|---|\n",
       "| 63 | 1 | 1 | 145 | 233 | 1 | 2 | 150 | 0 | 2.3 | 3 | 0.0 | 6.0 | 0 |\n",
       "| 67 | 1 | 4 | 160 | 286 | 0 | 2 | 108 | 1 | 1.5 | 2 | 3.0 | 3.0 | 2 |\n",
       "| 67 | 1 | 4 | 120 | 229 | 0 | 2 | 129 | 1 | 2.6 | 2 | 2.0 | 7.0 | 1 |\n",
       "| 37 | 1 | 3 | 130 | 250 | 0 | 0 | 187 | 0 | 3.5 | 3 | 0.0 | 3.0 | 0 |\n",
       "| 41 | 0 | 2 | 130 | 204 | 0 | 2 | 172 | 0 | 1.4 | 1 | 0.0 | 3.0 | 0 |\n",
       "| 56 | 1 | 2 | 120 | 236 | 0 | 0 | 178 | 0 | 0.8 | 1 | 0.0 | 3.0 | 0 |\n",
       "\n"
      ],
      "text/plain": [
       "  age sex chest_pain_type resting_bp cholesterol fasting_bs resting_ecg\n",
       "1 63  1   1               145        233         1          2          \n",
       "2 67  1   4               160        286         0          2          \n",
       "3 67  1   4               120        229         0          2          \n",
       "4 37  1   3               130        250         0          0          \n",
       "5 41  0   2               130        204         0          2          \n",
       "6 56  1   2               120        236         0          0          \n",
       "  heartrate_max exang oldpeak slope ca  thal disease_status\n",
       "1 150           0     2.3     3     0.0 6.0  0             \n",
       "2 108           1     1.5     2     3.0 3.0  2             \n",
       "3 129           1     2.6     2     2.0 7.0  1             \n",
       "4 187           0     3.5     3     0.0 3.0  0             \n",
       "5 172           0     1.4     1     0.0 3.0  0             \n",
       "6 178           0     0.8     1     0.0 3.0  0             "
      ]
     },
     "metadata": {},
     "output_type": "display_data"
    }
   ],
   "source": [
    "cleveland_heart_data <- read_csv(file = \"https://archive.ics.uci.edu/ml/machine-learning-databases/heart-disease/processed.cleveland.data\", col_names = FALSE) %>%\n",
    "    rename(age = \"X1\",\n",
    "            sex = \"X2\",\n",
    "            chest_pain_type = \"X3\",\n",
    "            resting_bp = \"X4\",\n",
    "            cholesterol = \"X5\",\n",
    "            fasting_bs = \"X6\",\n",
    "            resting_ecg = \"X7\",\n",
    "            heartrate_max = \"X8\",\n",
    "            exang = \"X9\",\n",
    "            oldpeak = \"X10\",\n",
    "            slope = \"X11\",\n",
    "            ca = \"X12\",\n",
    "            thal = \"X13\",\n",
    "            disease_status = \"X14\")\n",
    "head(cleveland_heart_data)"
   ]
  },
  {
   "cell_type": "markdown",
   "metadata": {},
   "source": [
    " \n",
    " "
   ]
  },
  {
   "cell_type": "markdown",
   "metadata": {},
   "source": [
    "We have successfully downloaded our dataset, but we must now tidy it so it is easier to work with. Firstly, we need to make sure every variable has the correct data type. We can see that many numerical variables are erroneously <chr> data type for instance."
   ]
  },
  {
   "cell_type": "code",
   "execution_count": 3,
   "metadata": {},
   "outputs": [
    {
     "data": {
      "text/html": [
       "<table>\n",
       "<caption>A tibble: 6 × 14</caption>\n",
       "<thead>\n",
       "\t<tr><th scope=col>age</th><th scope=col>sex</th><th scope=col>chest_pain_type</th><th scope=col>resting_bp</th><th scope=col>cholesterol</th><th scope=col>fasting_bs</th><th scope=col>resting_ecg</th><th scope=col>heartrate_max</th><th scope=col>exang</th><th scope=col>oldpeak</th><th scope=col>slope</th><th scope=col>ca</th><th scope=col>thal</th><th scope=col>disease_status</th></tr>\n",
       "\t<tr><th scope=col>&lt;int&gt;</th><th scope=col>&lt;fct&gt;</th><th scope=col>&lt;fct&gt;</th><th scope=col>&lt;int&gt;</th><th scope=col>&lt;int&gt;</th><th scope=col>&lt;fct&gt;</th><th scope=col>&lt;fct&gt;</th><th scope=col>&lt;int&gt;</th><th scope=col>&lt;fct&gt;</th><th scope=col>&lt;dbl&gt;</th><th scope=col>&lt;fct&gt;</th><th scope=col>&lt;fct&gt;</th><th scope=col>&lt;fct&gt;</th><th scope=col>&lt;dbl&gt;</th></tr>\n",
       "</thead>\n",
       "<tbody>\n",
       "\t<tr><td>63</td><td>1</td><td>1</td><td>145</td><td>233</td><td>1</td><td>2</td><td>150</td><td>0</td><td>2.3</td><td>3</td><td>0.0</td><td>6.0</td><td>0</td></tr>\n",
       "\t<tr><td>67</td><td>1</td><td>4</td><td>160</td><td>286</td><td>0</td><td>2</td><td>108</td><td>1</td><td>1.5</td><td>2</td><td>3.0</td><td>3.0</td><td>2</td></tr>\n",
       "\t<tr><td>67</td><td>1</td><td>4</td><td>120</td><td>229</td><td>0</td><td>2</td><td>129</td><td>1</td><td>2.6</td><td>2</td><td>2.0</td><td>7.0</td><td>1</td></tr>\n",
       "\t<tr><td>37</td><td>1</td><td>3</td><td>130</td><td>250</td><td>0</td><td>0</td><td>187</td><td>0</td><td>3.5</td><td>3</td><td>0.0</td><td>3.0</td><td>0</td></tr>\n",
       "\t<tr><td>41</td><td>0</td><td>2</td><td>130</td><td>204</td><td>0</td><td>2</td><td>172</td><td>0</td><td>1.4</td><td>1</td><td>0.0</td><td>3.0</td><td>0</td></tr>\n",
       "\t<tr><td>56</td><td>1</td><td>2</td><td>120</td><td>236</td><td>0</td><td>0</td><td>178</td><td>0</td><td>0.8</td><td>1</td><td>0.0</td><td>3.0</td><td>0</td></tr>\n",
       "</tbody>\n",
       "</table>\n"
      ],
      "text/latex": [
       "A tibble: 6 × 14\n",
       "\\begin{tabular}{llllllllllllll}\n",
       " age & sex & chest\\_pain\\_type & resting\\_bp & cholesterol & fasting\\_bs & resting\\_ecg & heartrate\\_max & exang & oldpeak & slope & ca & thal & disease\\_status\\\\\n",
       " <int> & <fct> & <fct> & <int> & <int> & <fct> & <fct> & <int> & <fct> & <dbl> & <fct> & <fct> & <fct> & <dbl>\\\\\n",
       "\\hline\n",
       "\t 63 & 1 & 1 & 145 & 233 & 1 & 2 & 150 & 0 & 2.3 & 3 & 0.0 & 6.0 & 0\\\\\n",
       "\t 67 & 1 & 4 & 160 & 286 & 0 & 2 & 108 & 1 & 1.5 & 2 & 3.0 & 3.0 & 2\\\\\n",
       "\t 67 & 1 & 4 & 120 & 229 & 0 & 2 & 129 & 1 & 2.6 & 2 & 2.0 & 7.0 & 1\\\\\n",
       "\t 37 & 1 & 3 & 130 & 250 & 0 & 0 & 187 & 0 & 3.5 & 3 & 0.0 & 3.0 & 0\\\\\n",
       "\t 41 & 0 & 2 & 130 & 204 & 0 & 2 & 172 & 0 & 1.4 & 1 & 0.0 & 3.0 & 0\\\\\n",
       "\t 56 & 1 & 2 & 120 & 236 & 0 & 0 & 178 & 0 & 0.8 & 1 & 0.0 & 3.0 & 0\\\\\n",
       "\\end{tabular}\n"
      ],
      "text/markdown": [
       "\n",
       "A tibble: 6 × 14\n",
       "\n",
       "| age &lt;int&gt; | sex &lt;fct&gt; | chest_pain_type &lt;fct&gt; | resting_bp &lt;int&gt; | cholesterol &lt;int&gt; | fasting_bs &lt;fct&gt; | resting_ecg &lt;fct&gt; | heartrate_max &lt;int&gt; | exang &lt;fct&gt; | oldpeak &lt;dbl&gt; | slope &lt;fct&gt; | ca &lt;fct&gt; | thal &lt;fct&gt; | disease_status &lt;dbl&gt; |\n",
       "|---|---|---|---|---|---|---|---|---|---|---|---|---|---|\n",
       "| 63 | 1 | 1 | 145 | 233 | 1 | 2 | 150 | 0 | 2.3 | 3 | 0.0 | 6.0 | 0 |\n",
       "| 67 | 1 | 4 | 160 | 286 | 0 | 2 | 108 | 1 | 1.5 | 2 | 3.0 | 3.0 | 2 |\n",
       "| 67 | 1 | 4 | 120 | 229 | 0 | 2 | 129 | 1 | 2.6 | 2 | 2.0 | 7.0 | 1 |\n",
       "| 37 | 1 | 3 | 130 | 250 | 0 | 0 | 187 | 0 | 3.5 | 3 | 0.0 | 3.0 | 0 |\n",
       "| 41 | 0 | 2 | 130 | 204 | 0 | 2 | 172 | 0 | 1.4 | 1 | 0.0 | 3.0 | 0 |\n",
       "| 56 | 1 | 2 | 120 | 236 | 0 | 0 | 178 | 0 | 0.8 | 1 | 0.0 | 3.0 | 0 |\n",
       "\n"
      ],
      "text/plain": [
       "  age sex chest_pain_type resting_bp cholesterol fasting_bs resting_ecg\n",
       "1 63  1   1               145        233         1          2          \n",
       "2 67  1   4               160        286         0          2          \n",
       "3 67  1   4               120        229         0          2          \n",
       "4 37  1   3               130        250         0          0          \n",
       "5 41  0   2               130        204         0          2          \n",
       "6 56  1   2               120        236         0          0          \n",
       "  heartrate_max exang oldpeak slope ca  thal disease_status\n",
       "1 150           0     2.3     3     0.0 6.0  0             \n",
       "2 108           1     1.5     2     3.0 3.0  2             \n",
       "3 129           1     2.6     2     2.0 7.0  1             \n",
       "4 187           0     3.5     3     0.0 3.0  0             \n",
       "5 172           0     1.4     1     0.0 3.0  0             \n",
       "6 178           0     0.8     1     0.0 3.0  0             "
      ]
     },
     "metadata": {},
     "output_type": "display_data"
    }
   ],
   "source": [
    "labelled_heart_data <- cleveland_heart_data %>%\n",
    "    mutate(age = as.integer(age),\n",
    "           sex = as.factor(sex),\n",
    "           chest_pain_type = as.factor(chest_pain_type),\n",
    "           resting_bp = as.integer(resting_bp),\n",
    "           cholesterol = as.integer(cholesterol),\n",
    "           fasting_bs = as.factor(fasting_bs),\n",
    "           resting_ecg = as.factor(resting_ecg),\n",
    "           heartrate_max = as.integer(heartrate_max),\n",
    "           exang = as.factor(exang),\n",
    "           slope = as.factor(slope),\n",
    "           ca = as.factor(ca),\n",
    "           thal = as.factor(thal))\n",
    "\n",
    "head(labelled_heart_data)"
   ]
  },
  {
   "cell_type": "markdown",
   "metadata": {},
   "source": [
    " "
   ]
  },
  {
   "cell_type": "markdown",
   "metadata": {},
   "source": [
    "Now all our variables are the correct data type except one. Our disease status variable is a little strange. In the file notes it states that the disease status data means that 0 is no disease and anything greater than 0 is heart disease. Therefore, we need to reclassify this variable so:\n",
    "* 0 = no heart disease\n",
    "* 1 = heart disease present"
   ]
  },
  {
   "cell_type": "code",
   "execution_count": 4,
   "metadata": {},
   "outputs": [
    {
     "data": {
      "text/html": [
       "<table>\n",
       "<caption>A tibble: 6 × 14</caption>\n",
       "<thead>\n",
       "\t<tr><th scope=col>age</th><th scope=col>sex</th><th scope=col>chest_pain_type</th><th scope=col>resting_bp</th><th scope=col>cholesterol</th><th scope=col>fasting_bs</th><th scope=col>resting_ecg</th><th scope=col>heartrate_max</th><th scope=col>exang</th><th scope=col>oldpeak</th><th scope=col>slope</th><th scope=col>ca</th><th scope=col>thal</th><th scope=col>disease_status</th></tr>\n",
       "\t<tr><th scope=col>&lt;int&gt;</th><th scope=col>&lt;fct&gt;</th><th scope=col>&lt;fct&gt;</th><th scope=col>&lt;int&gt;</th><th scope=col>&lt;int&gt;</th><th scope=col>&lt;fct&gt;</th><th scope=col>&lt;fct&gt;</th><th scope=col>&lt;int&gt;</th><th scope=col>&lt;fct&gt;</th><th scope=col>&lt;dbl&gt;</th><th scope=col>&lt;fct&gt;</th><th scope=col>&lt;fct&gt;</th><th scope=col>&lt;fct&gt;</th><th scope=col>&lt;fct&gt;</th></tr>\n",
       "</thead>\n",
       "<tbody>\n",
       "\t<tr><td>63</td><td>1</td><td>1</td><td>145</td><td>233</td><td>1</td><td>2</td><td>150</td><td>0</td><td>2.3</td><td>3</td><td>0.0</td><td>6.0</td><td>0</td></tr>\n",
       "\t<tr><td>67</td><td>1</td><td>4</td><td>160</td><td>286</td><td>0</td><td>2</td><td>108</td><td>1</td><td>1.5</td><td>2</td><td>3.0</td><td>3.0</td><td>1</td></tr>\n",
       "\t<tr><td>67</td><td>1</td><td>4</td><td>120</td><td>229</td><td>0</td><td>2</td><td>129</td><td>1</td><td>2.6</td><td>2</td><td>2.0</td><td>7.0</td><td>1</td></tr>\n",
       "\t<tr><td>37</td><td>1</td><td>3</td><td>130</td><td>250</td><td>0</td><td>0</td><td>187</td><td>0</td><td>3.5</td><td>3</td><td>0.0</td><td>3.0</td><td>0</td></tr>\n",
       "\t<tr><td>41</td><td>0</td><td>2</td><td>130</td><td>204</td><td>0</td><td>2</td><td>172</td><td>0</td><td>1.4</td><td>1</td><td>0.0</td><td>3.0</td><td>0</td></tr>\n",
       "\t<tr><td>56</td><td>1</td><td>2</td><td>120</td><td>236</td><td>0</td><td>0</td><td>178</td><td>0</td><td>0.8</td><td>1</td><td>0.0</td><td>3.0</td><td>0</td></tr>\n",
       "</tbody>\n",
       "</table>\n"
      ],
      "text/latex": [
       "A tibble: 6 × 14\n",
       "\\begin{tabular}{llllllllllllll}\n",
       " age & sex & chest\\_pain\\_type & resting\\_bp & cholesterol & fasting\\_bs & resting\\_ecg & heartrate\\_max & exang & oldpeak & slope & ca & thal & disease\\_status\\\\\n",
       " <int> & <fct> & <fct> & <int> & <int> & <fct> & <fct> & <int> & <fct> & <dbl> & <fct> & <fct> & <fct> & <fct>\\\\\n",
       "\\hline\n",
       "\t 63 & 1 & 1 & 145 & 233 & 1 & 2 & 150 & 0 & 2.3 & 3 & 0.0 & 6.0 & 0\\\\\n",
       "\t 67 & 1 & 4 & 160 & 286 & 0 & 2 & 108 & 1 & 1.5 & 2 & 3.0 & 3.0 & 1\\\\\n",
       "\t 67 & 1 & 4 & 120 & 229 & 0 & 2 & 129 & 1 & 2.6 & 2 & 2.0 & 7.0 & 1\\\\\n",
       "\t 37 & 1 & 3 & 130 & 250 & 0 & 0 & 187 & 0 & 3.5 & 3 & 0.0 & 3.0 & 0\\\\\n",
       "\t 41 & 0 & 2 & 130 & 204 & 0 & 2 & 172 & 0 & 1.4 & 1 & 0.0 & 3.0 & 0\\\\\n",
       "\t 56 & 1 & 2 & 120 & 236 & 0 & 0 & 178 & 0 & 0.8 & 1 & 0.0 & 3.0 & 0\\\\\n",
       "\\end{tabular}\n"
      ],
      "text/markdown": [
       "\n",
       "A tibble: 6 × 14\n",
       "\n",
       "| age &lt;int&gt; | sex &lt;fct&gt; | chest_pain_type &lt;fct&gt; | resting_bp &lt;int&gt; | cholesterol &lt;int&gt; | fasting_bs &lt;fct&gt; | resting_ecg &lt;fct&gt; | heartrate_max &lt;int&gt; | exang &lt;fct&gt; | oldpeak &lt;dbl&gt; | slope &lt;fct&gt; | ca &lt;fct&gt; | thal &lt;fct&gt; | disease_status &lt;fct&gt; |\n",
       "|---|---|---|---|---|---|---|---|---|---|---|---|---|---|\n",
       "| 63 | 1 | 1 | 145 | 233 | 1 | 2 | 150 | 0 | 2.3 | 3 | 0.0 | 6.0 | 0 |\n",
       "| 67 | 1 | 4 | 160 | 286 | 0 | 2 | 108 | 1 | 1.5 | 2 | 3.0 | 3.0 | 1 |\n",
       "| 67 | 1 | 4 | 120 | 229 | 0 | 2 | 129 | 1 | 2.6 | 2 | 2.0 | 7.0 | 1 |\n",
       "| 37 | 1 | 3 | 130 | 250 | 0 | 0 | 187 | 0 | 3.5 | 3 | 0.0 | 3.0 | 0 |\n",
       "| 41 | 0 | 2 | 130 | 204 | 0 | 2 | 172 | 0 | 1.4 | 1 | 0.0 | 3.0 | 0 |\n",
       "| 56 | 1 | 2 | 120 | 236 | 0 | 0 | 178 | 0 | 0.8 | 1 | 0.0 | 3.0 | 0 |\n",
       "\n"
      ],
      "text/plain": [
       "  age sex chest_pain_type resting_bp cholesterol fasting_bs resting_ecg\n",
       "1 63  1   1               145        233         1          2          \n",
       "2 67  1   4               160        286         0          2          \n",
       "3 67  1   4               120        229         0          2          \n",
       "4 37  1   3               130        250         0          0          \n",
       "5 41  0   2               130        204         0          2          \n",
       "6 56  1   2               120        236         0          0          \n",
       "  heartrate_max exang oldpeak slope ca  thal disease_status\n",
       "1 150           0     2.3     3     0.0 6.0  0             \n",
       "2 108           1     1.5     2     3.0 3.0  1             \n",
       "3 129           1     2.6     2     2.0 7.0  1             \n",
       "4 187           0     3.5     3     0.0 3.0  0             \n",
       "5 172           0     1.4     1     0.0 3.0  0             \n",
       "6 178           0     0.8     1     0.0 3.0  0             "
      ]
     },
     "metadata": {},
     "output_type": "display_data"
    }
   ],
   "source": [
    "\n",
    "labelled_heart_data[\"disease_status\"][labelled_heart_data[\"disease_status\"] == 1] <- 5\n",
    "labelled_heart_data[\"disease_status\"][labelled_heart_data[\"disease_status\"] == 2] <- 5\n",
    "labelled_heart_data[\"disease_status\"][labelled_heart_data[\"disease_status\"] == 3] <- 5\n",
    "labelled_heart_data[\"disease_status\"][labelled_heart_data[\"disease_status\"] == 4] <- 5\n",
    "labelled_heart_data[\"disease_status\"][labelled_heart_data[\"disease_status\"] == 5] <- 1\n",
    "\n",
    "labelled_heart_data <- labelled_heart_data %>%\n",
    "    mutate(disease_status = as_factor(disease_status))\n",
    "    head(labelled_heart_data)"
   ]
  },
  {
   "cell_type": "markdown",
   "metadata": {},
   "source": [
    " "
   ]
  },
  {
   "cell_type": "markdown",
   "metadata": {},
   "source": [
    "Now all our variables have the correct data type, But we have some unnecessary variables. We need the disease status variable and then any variables that could potentially be predictors. Therefore, we will keep any double/ integer variables and remove any other factor variables."
   ]
  },
  {
   "cell_type": "code",
   "execution_count": 5,
   "metadata": {},
   "outputs": [
    {
     "data": {
      "text/html": [
       "<table>\n",
       "<caption>A tibble: 6 × 6</caption>\n",
       "<thead>\n",
       "\t<tr><th scope=col>age</th><th scope=col>resting_bp</th><th scope=col>cholesterol</th><th scope=col>heartrate_max</th><th scope=col>oldpeak</th><th scope=col>disease_status</th></tr>\n",
       "\t<tr><th scope=col>&lt;int&gt;</th><th scope=col>&lt;int&gt;</th><th scope=col>&lt;int&gt;</th><th scope=col>&lt;int&gt;</th><th scope=col>&lt;dbl&gt;</th><th scope=col>&lt;fct&gt;</th></tr>\n",
       "</thead>\n",
       "<tbody>\n",
       "\t<tr><td>63</td><td>145</td><td>233</td><td>150</td><td>2.3</td><td>0</td></tr>\n",
       "\t<tr><td>67</td><td>160</td><td>286</td><td>108</td><td>1.5</td><td>1</td></tr>\n",
       "\t<tr><td>67</td><td>120</td><td>229</td><td>129</td><td>2.6</td><td>1</td></tr>\n",
       "\t<tr><td>37</td><td>130</td><td>250</td><td>187</td><td>3.5</td><td>0</td></tr>\n",
       "\t<tr><td>41</td><td>130</td><td>204</td><td>172</td><td>1.4</td><td>0</td></tr>\n",
       "\t<tr><td>56</td><td>120</td><td>236</td><td>178</td><td>0.8</td><td>0</td></tr>\n",
       "</tbody>\n",
       "</table>\n"
      ],
      "text/latex": [
       "A tibble: 6 × 6\n",
       "\\begin{tabular}{llllll}\n",
       " age & resting\\_bp & cholesterol & heartrate\\_max & oldpeak & disease\\_status\\\\\n",
       " <int> & <int> & <int> & <int> & <dbl> & <fct>\\\\\n",
       "\\hline\n",
       "\t 63 & 145 & 233 & 150 & 2.3 & 0\\\\\n",
       "\t 67 & 160 & 286 & 108 & 1.5 & 1\\\\\n",
       "\t 67 & 120 & 229 & 129 & 2.6 & 1\\\\\n",
       "\t 37 & 130 & 250 & 187 & 3.5 & 0\\\\\n",
       "\t 41 & 130 & 204 & 172 & 1.4 & 0\\\\\n",
       "\t 56 & 120 & 236 & 178 & 0.8 & 0\\\\\n",
       "\\end{tabular}\n"
      ],
      "text/markdown": [
       "\n",
       "A tibble: 6 × 6\n",
       "\n",
       "| age &lt;int&gt; | resting_bp &lt;int&gt; | cholesterol &lt;int&gt; | heartrate_max &lt;int&gt; | oldpeak &lt;dbl&gt; | disease_status &lt;fct&gt; |\n",
       "|---|---|---|---|---|---|\n",
       "| 63 | 145 | 233 | 150 | 2.3 | 0 |\n",
       "| 67 | 160 | 286 | 108 | 1.5 | 1 |\n",
       "| 67 | 120 | 229 | 129 | 2.6 | 1 |\n",
       "| 37 | 130 | 250 | 187 | 3.5 | 0 |\n",
       "| 41 | 130 | 204 | 172 | 1.4 | 0 |\n",
       "| 56 | 120 | 236 | 178 | 0.8 | 0 |\n",
       "\n"
      ],
      "text/plain": [
       "  age resting_bp cholesterol heartrate_max oldpeak disease_status\n",
       "1 63  145        233         150           2.3     0             \n",
       "2 67  160        286         108           1.5     1             \n",
       "3 67  120        229         129           2.6     1             \n",
       "4 37  130        250         187           3.5     0             \n",
       "5 41  130        204         172           1.4     0             \n",
       "6 56  120        236         178           0.8     0             "
      ]
     },
     "metadata": {},
     "output_type": "display_data"
    }
   ],
   "source": [
    "smaller_heart_data <- labelled_heart_data %>%\n",
    "    select(age,\n",
    "          resting_bp,\n",
    "          cholesterol,\n",
    "          heartrate_max,\n",
    "          oldpeak,\n",
    "          disease_status)\n",
    "head(smaller_heart_data)"
   ]
  },
  {
   "cell_type": "markdown",
   "metadata": {},
   "source": [
    "To finalize our data as tidy, we need to remove any rows that are missing data. Upon examination of the initial dataset, we can see that missing data is represented as a question mark (?). We will search to see if any measurements have missing data."
   ]
  },
  {
   "cell_type": "code",
   "execution_count": 6,
   "metadata": {},
   "outputs": [
    {
     "data": {
      "text/html": [
       "<table>\n",
       "<caption>A tibble: 0 × 6</caption>\n",
       "<thead>\n",
       "\t<tr><th scope=col>age</th><th scope=col>resting_bp</th><th scope=col>cholesterol</th><th scope=col>heartrate_max</th><th scope=col>oldpeak</th><th scope=col>disease_status</th></tr>\n",
       "\t<tr><th scope=col>&lt;int&gt;</th><th scope=col>&lt;int&gt;</th><th scope=col>&lt;int&gt;</th><th scope=col>&lt;int&gt;</th><th scope=col>&lt;dbl&gt;</th><th scope=col>&lt;fct&gt;</th></tr>\n",
       "</thead>\n",
       "<tbody>\n",
       "</tbody>\n",
       "</table>\n"
      ],
      "text/latex": [
       "A tibble: 0 × 6\n",
       "\\begin{tabular}{llllll}\n",
       " age & resting\\_bp & cholesterol & heartrate\\_max & oldpeak & disease\\_status\\\\\n",
       " <int> & <int> & <int> & <int> & <dbl> & <fct>\\\\\n",
       "\\hline\n",
       "\\end{tabular}\n"
      ],
      "text/markdown": [
       "\n",
       "A tibble: 0 × 6\n",
       "\n",
       "| age &lt;int&gt; | resting_bp &lt;int&gt; | cholesterol &lt;int&gt; | heartrate_max &lt;int&gt; | oldpeak &lt;dbl&gt; | disease_status &lt;fct&gt; |\n",
       "|---|---|---|---|---|---|\n",
       "\n"
      ],
      "text/plain": [
       "     age resting_bp cholesterol heartrate_max oldpeak disease_status"
      ]
     },
     "metadata": {},
     "output_type": "display_data"
    },
    {
     "data": {
      "text/html": [
       "<table>\n",
       "<caption>A tibble: 0 × 6</caption>\n",
       "<thead>\n",
       "\t<tr><th scope=col>age</th><th scope=col>resting_bp</th><th scope=col>cholesterol</th><th scope=col>heartrate_max</th><th scope=col>oldpeak</th><th scope=col>disease_status</th></tr>\n",
       "\t<tr><th scope=col>&lt;int&gt;</th><th scope=col>&lt;int&gt;</th><th scope=col>&lt;int&gt;</th><th scope=col>&lt;int&gt;</th><th scope=col>&lt;dbl&gt;</th><th scope=col>&lt;fct&gt;</th></tr>\n",
       "</thead>\n",
       "<tbody>\n",
       "</tbody>\n",
       "</table>\n"
      ],
      "text/latex": [
       "A tibble: 0 × 6\n",
       "\\begin{tabular}{llllll}\n",
       " age & resting\\_bp & cholesterol & heartrate\\_max & oldpeak & disease\\_status\\\\\n",
       " <int> & <int> & <int> & <int> & <dbl> & <fct>\\\\\n",
       "\\hline\n",
       "\\end{tabular}\n"
      ],
      "text/markdown": [
       "\n",
       "A tibble: 0 × 6\n",
       "\n",
       "| age &lt;int&gt; | resting_bp &lt;int&gt; | cholesterol &lt;int&gt; | heartrate_max &lt;int&gt; | oldpeak &lt;dbl&gt; | disease_status &lt;fct&gt; |\n",
       "|---|---|---|---|---|---|\n",
       "\n"
      ],
      "text/plain": [
       "     age resting_bp cholesterol heartrate_max oldpeak disease_status"
      ]
     },
     "metadata": {},
     "output_type": "display_data"
    },
    {
     "data": {
      "text/html": [
       "<table>\n",
       "<caption>A tibble: 0 × 6</caption>\n",
       "<thead>\n",
       "\t<tr><th scope=col>age</th><th scope=col>resting_bp</th><th scope=col>cholesterol</th><th scope=col>heartrate_max</th><th scope=col>oldpeak</th><th scope=col>disease_status</th></tr>\n",
       "\t<tr><th scope=col>&lt;int&gt;</th><th scope=col>&lt;int&gt;</th><th scope=col>&lt;int&gt;</th><th scope=col>&lt;int&gt;</th><th scope=col>&lt;dbl&gt;</th><th scope=col>&lt;fct&gt;</th></tr>\n",
       "</thead>\n",
       "<tbody>\n",
       "</tbody>\n",
       "</table>\n"
      ],
      "text/latex": [
       "A tibble: 0 × 6\n",
       "\\begin{tabular}{llllll}\n",
       " age & resting\\_bp & cholesterol & heartrate\\_max & oldpeak & disease\\_status\\\\\n",
       " <int> & <int> & <int> & <int> & <dbl> & <fct>\\\\\n",
       "\\hline\n",
       "\\end{tabular}\n"
      ],
      "text/markdown": [
       "\n",
       "A tibble: 0 × 6\n",
       "\n",
       "| age &lt;int&gt; | resting_bp &lt;int&gt; | cholesterol &lt;int&gt; | heartrate_max &lt;int&gt; | oldpeak &lt;dbl&gt; | disease_status &lt;fct&gt; |\n",
       "|---|---|---|---|---|---|\n",
       "\n"
      ],
      "text/plain": [
       "     age resting_bp cholesterol heartrate_max oldpeak disease_status"
      ]
     },
     "metadata": {},
     "output_type": "display_data"
    },
    {
     "data": {
      "text/html": [
       "<table>\n",
       "<caption>A tibble: 0 × 6</caption>\n",
       "<thead>\n",
       "\t<tr><th scope=col>age</th><th scope=col>resting_bp</th><th scope=col>cholesterol</th><th scope=col>heartrate_max</th><th scope=col>oldpeak</th><th scope=col>disease_status</th></tr>\n",
       "\t<tr><th scope=col>&lt;int&gt;</th><th scope=col>&lt;int&gt;</th><th scope=col>&lt;int&gt;</th><th scope=col>&lt;int&gt;</th><th scope=col>&lt;dbl&gt;</th><th scope=col>&lt;fct&gt;</th></tr>\n",
       "</thead>\n",
       "<tbody>\n",
       "</tbody>\n",
       "</table>\n"
      ],
      "text/latex": [
       "A tibble: 0 × 6\n",
       "\\begin{tabular}{llllll}\n",
       " age & resting\\_bp & cholesterol & heartrate\\_max & oldpeak & disease\\_status\\\\\n",
       " <int> & <int> & <int> & <int> & <dbl> & <fct>\\\\\n",
       "\\hline\n",
       "\\end{tabular}\n"
      ],
      "text/markdown": [
       "\n",
       "A tibble: 0 × 6\n",
       "\n",
       "| age &lt;int&gt; | resting_bp &lt;int&gt; | cholesterol &lt;int&gt; | heartrate_max &lt;int&gt; | oldpeak &lt;dbl&gt; | disease_status &lt;fct&gt; |\n",
       "|---|---|---|---|---|---|\n",
       "\n"
      ],
      "text/plain": [
       "     age resting_bp cholesterol heartrate_max oldpeak disease_status"
      ]
     },
     "metadata": {},
     "output_type": "display_data"
    },
    {
     "data": {
      "text/html": [
       "<table>\n",
       "<caption>A tibble: 0 × 6</caption>\n",
       "<thead>\n",
       "\t<tr><th scope=col>age</th><th scope=col>resting_bp</th><th scope=col>cholesterol</th><th scope=col>heartrate_max</th><th scope=col>oldpeak</th><th scope=col>disease_status</th></tr>\n",
       "\t<tr><th scope=col>&lt;int&gt;</th><th scope=col>&lt;int&gt;</th><th scope=col>&lt;int&gt;</th><th scope=col>&lt;int&gt;</th><th scope=col>&lt;dbl&gt;</th><th scope=col>&lt;fct&gt;</th></tr>\n",
       "</thead>\n",
       "<tbody>\n",
       "</tbody>\n",
       "</table>\n"
      ],
      "text/latex": [
       "A tibble: 0 × 6\n",
       "\\begin{tabular}{llllll}\n",
       " age & resting\\_bp & cholesterol & heartrate\\_max & oldpeak & disease\\_status\\\\\n",
       " <int> & <int> & <int> & <int> & <dbl> & <fct>\\\\\n",
       "\\hline\n",
       "\\end{tabular}\n"
      ],
      "text/markdown": [
       "\n",
       "A tibble: 0 × 6\n",
       "\n",
       "| age &lt;int&gt; | resting_bp &lt;int&gt; | cholesterol &lt;int&gt; | heartrate_max &lt;int&gt; | oldpeak &lt;dbl&gt; | disease_status &lt;fct&gt; |\n",
       "|---|---|---|---|---|---|\n",
       "\n"
      ],
      "text/plain": [
       "     age resting_bp cholesterol heartrate_max oldpeak disease_status"
      ]
     },
     "metadata": {},
     "output_type": "display_data"
    },
    {
     "data": {
      "text/html": [
       "<table>\n",
       "<caption>A tibble: 0 × 6</caption>\n",
       "<thead>\n",
       "\t<tr><th scope=col>age</th><th scope=col>resting_bp</th><th scope=col>cholesterol</th><th scope=col>heartrate_max</th><th scope=col>oldpeak</th><th scope=col>disease_status</th></tr>\n",
       "\t<tr><th scope=col>&lt;int&gt;</th><th scope=col>&lt;int&gt;</th><th scope=col>&lt;int&gt;</th><th scope=col>&lt;int&gt;</th><th scope=col>&lt;dbl&gt;</th><th scope=col>&lt;fct&gt;</th></tr>\n",
       "</thead>\n",
       "<tbody>\n",
       "</tbody>\n",
       "</table>\n"
      ],
      "text/latex": [
       "A tibble: 0 × 6\n",
       "\\begin{tabular}{llllll}\n",
       " age & resting\\_bp & cholesterol & heartrate\\_max & oldpeak & disease\\_status\\\\\n",
       " <int> & <int> & <int> & <int> & <dbl> & <fct>\\\\\n",
       "\\hline\n",
       "\\end{tabular}\n"
      ],
      "text/markdown": [
       "\n",
       "A tibble: 0 × 6\n",
       "\n",
       "| age &lt;int&gt; | resting_bp &lt;int&gt; | cholesterol &lt;int&gt; | heartrate_max &lt;int&gt; | oldpeak &lt;dbl&gt; | disease_status &lt;fct&gt; |\n",
       "|---|---|---|---|---|---|\n",
       "\n"
      ],
      "text/plain": [
       "     age resting_bp cholesterol heartrate_max oldpeak disease_status"
      ]
     },
     "metadata": {},
     "output_type": "display_data"
    },
    {
     "data": {
      "text/html": [
       "<table>\n",
       "<caption>A tibble: 6 × 6</caption>\n",
       "<thead>\n",
       "\t<tr><th scope=col>age</th><th scope=col>resting_bp</th><th scope=col>cholesterol</th><th scope=col>heartrate_max</th><th scope=col>oldpeak</th><th scope=col>disease_status</th></tr>\n",
       "\t<tr><th scope=col>&lt;int&gt;</th><th scope=col>&lt;int&gt;</th><th scope=col>&lt;int&gt;</th><th scope=col>&lt;int&gt;</th><th scope=col>&lt;dbl&gt;</th><th scope=col>&lt;fct&gt;</th></tr>\n",
       "</thead>\n",
       "<tbody>\n",
       "\t<tr><td>63</td><td>145</td><td>233</td><td>150</td><td>2.3</td><td>0</td></tr>\n",
       "\t<tr><td>67</td><td>160</td><td>286</td><td>108</td><td>1.5</td><td>1</td></tr>\n",
       "\t<tr><td>67</td><td>120</td><td>229</td><td>129</td><td>2.6</td><td>1</td></tr>\n",
       "\t<tr><td>37</td><td>130</td><td>250</td><td>187</td><td>3.5</td><td>0</td></tr>\n",
       "\t<tr><td>41</td><td>130</td><td>204</td><td>172</td><td>1.4</td><td>0</td></tr>\n",
       "\t<tr><td>56</td><td>120</td><td>236</td><td>178</td><td>0.8</td><td>0</td></tr>\n",
       "</tbody>\n",
       "</table>\n"
      ],
      "text/latex": [
       "A tibble: 6 × 6\n",
       "\\begin{tabular}{llllll}\n",
       " age & resting\\_bp & cholesterol & heartrate\\_max & oldpeak & disease\\_status\\\\\n",
       " <int> & <int> & <int> & <int> & <dbl> & <fct>\\\\\n",
       "\\hline\n",
       "\t 63 & 145 & 233 & 150 & 2.3 & 0\\\\\n",
       "\t 67 & 160 & 286 & 108 & 1.5 & 1\\\\\n",
       "\t 67 & 120 & 229 & 129 & 2.6 & 1\\\\\n",
       "\t 37 & 130 & 250 & 187 & 3.5 & 0\\\\\n",
       "\t 41 & 130 & 204 & 172 & 1.4 & 0\\\\\n",
       "\t 56 & 120 & 236 & 178 & 0.8 & 0\\\\\n",
       "\\end{tabular}\n"
      ],
      "text/markdown": [
       "\n",
       "A tibble: 6 × 6\n",
       "\n",
       "| age &lt;int&gt; | resting_bp &lt;int&gt; | cholesterol &lt;int&gt; | heartrate_max &lt;int&gt; | oldpeak &lt;dbl&gt; | disease_status &lt;fct&gt; |\n",
       "|---|---|---|---|---|---|\n",
       "| 63 | 145 | 233 | 150 | 2.3 | 0 |\n",
       "| 67 | 160 | 286 | 108 | 1.5 | 1 |\n",
       "| 67 | 120 | 229 | 129 | 2.6 | 1 |\n",
       "| 37 | 130 | 250 | 187 | 3.5 | 0 |\n",
       "| 41 | 130 | 204 | 172 | 1.4 | 0 |\n",
       "| 56 | 120 | 236 | 178 | 0.8 | 0 |\n",
       "\n"
      ],
      "text/plain": [
       "  age resting_bp cholesterol heartrate_max oldpeak disease_status\n",
       "1 63  145        233         150           2.3     0             \n",
       "2 67  160        286         108           1.5     1             \n",
       "3 67  120        229         129           2.6     1             \n",
       "4 37  130        250         187           3.5     0             \n",
       "5 41  130        204         172           1.4     0             \n",
       "6 56  120        236         178           0.8     0             "
      ]
     },
     "metadata": {},
     "output_type": "display_data"
    }
   ],
   "source": [
    "heart_test_age <- smaller_heart_data %>%\n",
    "    filter(age == \"?\")\n",
    "heart_test_age\n",
    "\n",
    "heart_test_bp <- smaller_heart_data %>%\n",
    "    filter(resting_bp == \"?\")\n",
    "heart_test_bp\n",
    "\n",
    "heart_test_chl <- smaller_heart_data %>%\n",
    "    filter(cholesterol == \"?\")\n",
    "heart_test_chl\n",
    "\n",
    "heart_test_hr <- smaller_heart_data %>%\n",
    "    filter(heartrate_max == \"?\")\n",
    "heart_test_hr\n",
    "\n",
    "heart_test_old <- smaller_heart_data %>%\n",
    "    filter(oldpeak == \"?\")\n",
    "heart_test_old\n",
    "\n",
    "heart_test_disease <- smaller_heart_data %>%\n",
    "    filter(disease_status == \"?\")\n",
    "heart_test_disease\n",
    "\n",
    "clean_heart_data <- smaller_heart_data\n",
    "\n",
    "head(clean_heart_data)"
   ]
  },
  {
   "cell_type": "markdown",
   "metadata": {},
   "source": [
    "We can see that none of our variables have any missing data, so our data is finally tidy. The next steps will involve decided how to analyze our data."
   ]
  },
  {
   "cell_type": "markdown",
   "metadata": {},
   "source": [
    "Since we are trying to answer a prediction problem that involves assigning a class, we know that we have to use K-nn classification instead of any type of regression analysis. K-nn classification is useful because it is an intuitive alogrithm, and it doesn't have any specific requirements about what the data must look like (linearity). However, it does have its weakneses that we must try and address in three steps:\n",
    "* Problem #1 - It may not perform well when classes are imbalanced\n",
    "* Problem #2 - The data must be scaled if ranges are too different between predictors\n",
    "* Problem #3 - It may not work well with large numbers of predictors"
   ]
  },
  {
   "cell_type": "markdown",
   "metadata": {},
   "source": [
    "We must account for these problems to ensure our analysis is as accurate as possible. We can examine the variables to see if they require scaling and if the classes are imbalanced to solve problems 1 and 2. And, we can perform a forward selection to determine what predictors we should include in our analysis to solve problem 3."
   ]
  },
  {
   "cell_type": "markdown",
   "metadata": {},
   "source": [
    "To begin, we must set a seed to guarantee reproducibility of any steps that require random numbers to be generated. Next, we must split our data into training and testing datasets. The training dataset is usually about 75% of the total dataset. This way we have enough training data to train an accurate classifier, while also having enough testing data to get an accurate evaluation of its performance."
   ]
  },
  {
   "cell_type": "code",
   "execution_count": 7,
   "metadata": {},
   "outputs": [
    {
     "data": {
      "text/html": [
       "<table>\n",
       "<caption>A tibble: 6 × 6</caption>\n",
       "<thead>\n",
       "\t<tr><th scope=col>age</th><th scope=col>resting_bp</th><th scope=col>cholesterol</th><th scope=col>heartrate_max</th><th scope=col>oldpeak</th><th scope=col>disease_status</th></tr>\n",
       "\t<tr><th scope=col>&lt;int&gt;</th><th scope=col>&lt;int&gt;</th><th scope=col>&lt;int&gt;</th><th scope=col>&lt;int&gt;</th><th scope=col>&lt;dbl&gt;</th><th scope=col>&lt;fct&gt;</th></tr>\n",
       "</thead>\n",
       "<tbody>\n",
       "\t<tr><td>63</td><td>145</td><td>233</td><td>150</td><td>2.3</td><td>0</td></tr>\n",
       "\t<tr><td>67</td><td>160</td><td>286</td><td>108</td><td>1.5</td><td>1</td></tr>\n",
       "\t<tr><td>41</td><td>130</td><td>204</td><td>172</td><td>1.4</td><td>0</td></tr>\n",
       "\t<tr><td>56</td><td>120</td><td>236</td><td>178</td><td>0.8</td><td>0</td></tr>\n",
       "\t<tr><td>62</td><td>140</td><td>268</td><td>160</td><td>3.6</td><td>1</td></tr>\n",
       "\t<tr><td>57</td><td>120</td><td>354</td><td>163</td><td>0.6</td><td>0</td></tr>\n",
       "</tbody>\n",
       "</table>\n"
      ],
      "text/latex": [
       "A tibble: 6 × 6\n",
       "\\begin{tabular}{llllll}\n",
       " age & resting\\_bp & cholesterol & heartrate\\_max & oldpeak & disease\\_status\\\\\n",
       " <int> & <int> & <int> & <int> & <dbl> & <fct>\\\\\n",
       "\\hline\n",
       "\t 63 & 145 & 233 & 150 & 2.3 & 0\\\\\n",
       "\t 67 & 160 & 286 & 108 & 1.5 & 1\\\\\n",
       "\t 41 & 130 & 204 & 172 & 1.4 & 0\\\\\n",
       "\t 56 & 120 & 236 & 178 & 0.8 & 0\\\\\n",
       "\t 62 & 140 & 268 & 160 & 3.6 & 1\\\\\n",
       "\t 57 & 120 & 354 & 163 & 0.6 & 0\\\\\n",
       "\\end{tabular}\n"
      ],
      "text/markdown": [
       "\n",
       "A tibble: 6 × 6\n",
       "\n",
       "| age &lt;int&gt; | resting_bp &lt;int&gt; | cholesterol &lt;int&gt; | heartrate_max &lt;int&gt; | oldpeak &lt;dbl&gt; | disease_status &lt;fct&gt; |\n",
       "|---|---|---|---|---|---|\n",
       "| 63 | 145 | 233 | 150 | 2.3 | 0 |\n",
       "| 67 | 160 | 286 | 108 | 1.5 | 1 |\n",
       "| 41 | 130 | 204 | 172 | 1.4 | 0 |\n",
       "| 56 | 120 | 236 | 178 | 0.8 | 0 |\n",
       "| 62 | 140 | 268 | 160 | 3.6 | 1 |\n",
       "| 57 | 120 | 354 | 163 | 0.6 | 0 |\n",
       "\n"
      ],
      "text/plain": [
       "  age resting_bp cholesterol heartrate_max oldpeak disease_status\n",
       "1 63  145        233         150           2.3     0             \n",
       "2 67  160        286         108           1.5     1             \n",
       "3 41  130        204         172           1.4     0             \n",
       "4 56  120        236         178           0.8     0             \n",
       "5 62  140        268         160           3.6     1             \n",
       "6 57  120        354         163           0.6     0             "
      ]
     },
     "metadata": {},
     "output_type": "display_data"
    }
   ],
   "source": [
    "set.seed(999)\n",
    "\n",
    "heart_split <- initial_split(clean_heart_data, prop = .75, strata = disease_status)  \n",
    "heart_train <- training(heart_split)   \n",
    "heart_test <- testing(heart_split)\n",
    "\n",
    "head(heart_train) "
   ]
  },
  {
   "cell_type": "markdown",
   "metadata": {},
   "source": [
    " "
   ]
  },
  {
   "cell_type": "markdown",
   "metadata": {},
   "source": [
    "We have our training and testing data. Now we will summarize and visualize some important information about our variables so that we know how much preprocessing is necessary."
   ]
  },
  {
   "cell_type": "code",
   "execution_count": 8,
   "metadata": {},
   "outputs": [
    {
     "name": "stderr",
     "output_type": "stream",
     "text": [
      "`summarise()` ungrouping output (override with `.groups` argument)\n",
      "\n"
     ]
    },
    {
     "data": {
      "text/html": [
       "<table>\n",
       "<caption>A tibble: 2 × 3</caption>\n",
       "<thead>\n",
       "\t<tr><th scope=col>disease_status</th><th scope=col>n</th><th scope=col>proportion</th></tr>\n",
       "\t<tr><th scope=col>&lt;fct&gt;</th><th scope=col>&lt;int&gt;</th><th scope=col>&lt;dbl&gt;</th></tr>\n",
       "</thead>\n",
       "<tbody>\n",
       "\t<tr><td>0</td><td>123</td><td>0.5394737</td></tr>\n",
       "\t<tr><td>1</td><td>105</td><td>0.4605263</td></tr>\n",
       "</tbody>\n",
       "</table>\n"
      ],
      "text/latex": [
       "A tibble: 2 × 3\n",
       "\\begin{tabular}{lll}\n",
       " disease\\_status & n & proportion\\\\\n",
       " <fct> & <int> & <dbl>\\\\\n",
       "\\hline\n",
       "\t 0 & 123 & 0.5394737\\\\\n",
       "\t 1 & 105 & 0.4605263\\\\\n",
       "\\end{tabular}\n"
      ],
      "text/markdown": [
       "\n",
       "A tibble: 2 × 3\n",
       "\n",
       "| disease_status &lt;fct&gt; | n &lt;int&gt; | proportion &lt;dbl&gt; |\n",
       "|---|---|---|\n",
       "| 0 | 123 | 0.5394737 |\n",
       "| 1 | 105 | 0.4605263 |\n",
       "\n"
      ],
      "text/plain": [
       "  disease_status n   proportion\n",
       "1 0              123 0.5394737 \n",
       "2 1              105 0.4605263 "
      ]
     },
     "metadata": {},
     "output_type": "display_data"
    }
   ],
   "source": [
    "disease_count <- heart_train %>%\n",
    "    group_by(disease_status) %>%\n",
    "    summarize(n = n(),\n",
    "             proportion = n/228)\n",
    "disease_count"
   ]
  },
  {
   "cell_type": "markdown",
   "metadata": {},
   "source": [
    "Here we can see that our disease status class has similar levels of diseased patients (1), and disease-free patients (0). This means that our classes are balanced and do not require manipulation. Therefore, problem #1 does not require any attention."
   ]
  },
  {
   "cell_type": "markdown",
   "metadata": {},
   "source": [
    " "
   ]
  },
  {
   "cell_type": "markdown",
   "metadata": {},
   "source": [
    "Next, we will look at the spread of our predictor variables to see if scaling is required."
   ]
  },
  {
   "cell_type": "code",
   "execution_count": 9,
   "metadata": {},
   "outputs": [
    {
     "data": {
      "text/html": [
       "<table>\n",
       "<caption>A tibble: 1 × 5</caption>\n",
       "<thead>\n",
       "\t<tr><th scope=col>age</th><th scope=col>resting_bp</th><th scope=col>cholesterol</th><th scope=col>heartrate_max</th><th scope=col>oldpeak</th></tr>\n",
       "\t<tr><th scope=col>&lt;dbl&gt;</th><th scope=col>&lt;dbl&gt;</th><th scope=col>&lt;dbl&gt;</th><th scope=col>&lt;dbl&gt;</th><th scope=col>&lt;dbl&gt;</th></tr>\n",
       "</thead>\n",
       "<tbody>\n",
       "\t<tr><td>54.21053</td><td>131.4254</td><td>246.2325</td><td>150.0877</td><td>1.049123</td></tr>\n",
       "</tbody>\n",
       "</table>\n"
      ],
      "text/latex": [
       "A tibble: 1 × 5\n",
       "\\begin{tabular}{lllll}\n",
       " age & resting\\_bp & cholesterol & heartrate\\_max & oldpeak\\\\\n",
       " <dbl> & <dbl> & <dbl> & <dbl> & <dbl>\\\\\n",
       "\\hline\n",
       "\t 54.21053 & 131.4254 & 246.2325 & 150.0877 & 1.049123\\\\\n",
       "\\end{tabular}\n"
      ],
      "text/markdown": [
       "\n",
       "A tibble: 1 × 5\n",
       "\n",
       "| age &lt;dbl&gt; | resting_bp &lt;dbl&gt; | cholesterol &lt;dbl&gt; | heartrate_max &lt;dbl&gt; | oldpeak &lt;dbl&gt; |\n",
       "|---|---|---|---|---|\n",
       "| 54.21053 | 131.4254 | 246.2325 | 150.0877 | 1.049123 |\n",
       "\n"
      ],
      "text/plain": [
       "  age      resting_bp cholesterol heartrate_max oldpeak \n",
       "1 54.21053 131.4254   246.2325    150.0877      1.049123"
      ]
     },
     "metadata": {},
     "output_type": "display_data"
    },
    {
     "name": "stderr",
     "output_type": "stream",
     "text": [
      "`stat_bin()` using `bins = 30`. Pick better value with `binwidth`.\n",
      "\n",
      "Warning message:\n",
      "“Removed 2 rows containing missing values (geom_bar).”\n",
      "`stat_bin()` using `bins = 30`. Pick better value with `binwidth`.\n",
      "\n",
      "Warning message:\n",
      "“Removed 2 rows containing missing values (geom_bar).”\n",
      "`stat_bin()` using `bins = 30`. Pick better value with `binwidth`.\n",
      "\n",
      "Warning message:\n",
      "“Removed 30 rows containing non-finite values (stat_bin).”\n",
      "Warning message:\n",
      "“Removed 2 rows containing missing values (geom_bar).”\n",
      "`stat_bin()` using `bins = 30`. Pick better value with `binwidth`.\n",
      "\n",
      "Warning message:\n",
      "“Removed 2 rows containing missing values (geom_bar).”\n",
      "Warning message:\n",
      "“Removed 2 rows containing missing values (geom_bar).”\n"
     ]
    },
    {
     "data": {
      "image/png": "[encoded data removed]",
      "text/plain": [
       "plot without title"
      ]
     },
     "metadata": {
      "image/png": {
       "height": 420,
       "width": 600
      }
     },
     "output_type": "display_data"
    }
   ],
   "source": [
    "options(repr.plot.length = 20, repr.plot.width = 10)\n",
    "\n",
    "predictor_means <- heart_train %>%\n",
    "    select(-disease_status) %>%\n",
    "    summarize(across(age:oldpeak, mean))\n",
    "predictor_means\n",
    "\n",
    "age_hist <- heart_train %>%\n",
    "    ggplot(aes(x = age)) +\n",
    "    geom_histogram(fill = \"#CC6666\") +\n",
    "    geom_vline(xintercept = 54.21, linetype = \"dashed\", size = 1) +\n",
    "    labs(x = \"Age (years)\", \n",
    "         y = \"Count\") +\n",
    "    theme(text = element_text(size=15)) + \n",
    "    xlim(0, 300) +\n",
    "    scale_fill_brewer(palette = \"Set3\") +\n",
    "    ggtitle(\"Cleveland Patient Age Distribution\")\n",
    "\n",
    "bp_hist <- heart_train %>%\n",
    "    ggplot(aes(x = resting_bp)) +\n",
    "    geom_histogram(fill = \"#9999CC\") +\n",
    "    geom_vline(xintercept = 131.43, linetype = \"dashed\", size = 1) +\n",
    "    labs(x = \"Resting Blood Pressure (mmHg)\", \n",
    "         y = \"Count\") +\n",
    "    theme(text = element_text(size=15)) + \n",
    "    xlim(0, 300) +\n",
    "    scale_fill_brewer(palette = \"Set3\") +\n",
    "    ggtitle(\"Cleveland Patient Blood Pressure Distribution\")\n",
    "\n",
    "chl_hist <- heart_train %>%\n",
    "    ggplot(aes(x = cholesterol)) +\n",
    "    geom_histogram(fill = \"darkgoldenrod1\") +\n",
    "    geom_vline(xintercept = 246.23, linetype = \"dashed\", size = 1) +\n",
    "    labs(x = \"Cholesterol (mg/dl)\", \n",
    "         y = \"Count\") +\n",
    "    theme(text = element_text(size=15)) + \n",
    "    xlim(0, 300) +\n",
    "    scale_fill_brewer(palette = \"Set3\") +\n",
    "    ggtitle(\"Cleveland Patient Cholesterol Distribution\")\n",
    "\n",
    "hr_hist <- heart_train %>%\n",
    "    ggplot(aes(x = heartrate_max)) +\n",
    "    geom_histogram(fill = \"#66CC99\") +\n",
    "    geom_vline(xintercept = 150.09, linetype = \"dashed\", size = 1) +\n",
    "    labs(x = \"Max Heartrate (bpm)\", \n",
    "         y = \"Count\") +\n",
    "    theme(text = element_text(size=15)) + \n",
    "    xlim(0, 300) +\n",
    "    scale_fill_brewer(palette = \"Set3\") +\n",
    "    ggtitle(\"Cleveland Patient Heartrate Distribution\")\n",
    "\n",
    "op_hist <- heart_train %>%\n",
    "    ggplot(aes(x = oldpeak)) +\n",
    "    geom_histogram(fill = \"antiquewhite3\", binwidth = 1) +\n",
    "    geom_vline(xintercept = 1.05, linetype = \"dashed\", size = .1) +\n",
    "    labs(x = \"ST Segment Depression\", \n",
    "         y = \"Count\") +\n",
    "    theme(text = element_text(size=15)) + \n",
    "    xlim(0, 300) +\n",
    "    scale_fill_brewer(palette = \"Set3\") +\n",
    "    ggtitle(\"Cleveland Patient ST Segment Distribution\")\n",
    "\n",
    "plot_grid(age_hist, bp_hist, chl_hist, hr_hist, op_hist, ncol = 1)"
   ]
  },
  {
   "cell_type": "markdown",
   "metadata": {},
   "source": [
    "We can see from the above analysis that although blood pressure and heart rate are relatively close in mean and range, the other predictors have very different scales and centers. Therefore, we will need to scale and center our data in a future step to solve problem #2. "
   ]
  },
  {
   "cell_type": "markdown",
   "metadata": {},
   "source": [
    "The final problem we need to slove is the issue of deciding what predictors to choose. Irrelevant predictors can make our analysis less accurate. Therefore, we need to choose the best subset of predictors that will provide us with the best accuracy. To do this, we will perform a forward selection. This method is faster than if we were to use a best subset selection method, and it still provides us with the optimal subset of predictors."
   ]
  },
  {
   "cell_type": "code",
   "execution_count": 10,
   "metadata": {},
   "outputs": [
    {
     "data": {
      "text/html": [
       "<style>\n",
       ".list-inline {list-style: none; margin:0; padding: 0}\n",
       ".list-inline>li {display: inline-block}\n",
       ".list-inline>li:not(:last-child)::after {content: \"\\00b7\"; padding: 0 .5ex}\n",
       "</style>\n",
       "<ol class=list-inline><li>'age'</li><li>'resting_bp'</li><li>'cholesterol'</li><li>'heartrate_max'</li><li>'oldpeak'</li></ol>\n"
      ],
      "text/latex": [
       "\\begin{enumerate*}\n",
       "\\item 'age'\n",
       "\\item 'resting\\_bp'\n",
       "\\item 'cholesterol'\n",
       "\\item 'heartrate\\_max'\n",
       "\\item 'oldpeak'\n",
       "\\end{enumerate*}\n"
      ],
      "text/markdown": [
       "1. 'age'\n",
       "2. 'resting_bp'\n",
       "3. 'cholesterol'\n",
       "4. 'heartrate_max'\n",
       "5. 'oldpeak'\n",
       "\n",
       "\n"
      ],
      "text/plain": [
       "[1] \"age\"           \"resting_bp\"    \"cholesterol\"   \"heartrate_max\"\n",
       "[5] \"oldpeak\"      "
      ]
     },
     "metadata": {},
     "output_type": "display_data"
    },
    {
     "data": {
      "text/html": [
       "'disease_status ~ age+resting_bp+cholesterol+heartrate_max+oldpeak'"
      ],
      "text/latex": [
       "'disease\\_status \\textasciitilde{} age+resting\\_bp+cholesterol+heartrate\\_max+oldpeak'"
      ],
      "text/markdown": [
       "'disease_status ~ age+resting_bp+cholesterol+heartrate_max+oldpeak'"
      ],
      "text/plain": [
       "[1] \"disease_status ~ age+resting_bp+cholesterol+heartrate_max+oldpeak\""
      ]
     },
     "metadata": {},
     "output_type": "display_data"
    },
    {
     "data": {
      "text/html": [
       "<table>\n",
       "<caption>A tibble: 5 × 3</caption>\n",
       "<thead>\n",
       "\t<tr><th scope=col>size</th><th scope=col>model_string</th><th scope=col>accuracy</th></tr>\n",
       "\t<tr><th scope=col>&lt;int&gt;</th><th scope=col>&lt;chr&gt;</th><th scope=col>&lt;dbl&gt;</th></tr>\n",
       "</thead>\n",
       "<tbody>\n",
       "\t<tr><td>1</td><td>disease_status ~ age                                             </td><td>0.5745894</td></tr>\n",
       "\t<tr><td>2</td><td>disease_status ~ age+resting_bp                                  </td><td>0.5968116</td></tr>\n",
       "\t<tr><td>3</td><td>disease_status ~ age+resting_bp+cholesterol                      </td><td>0.5743961</td></tr>\n",
       "\t<tr><td>4</td><td>disease_status ~ age+resting_bp+cholesterol+heartrate_max        </td><td>0.6665700</td></tr>\n",
       "\t<tr><td>5</td><td>disease_status ~ age+resting_bp+cholesterol+heartrate_max+oldpeak</td><td>0.7152657</td></tr>\n",
       "</tbody>\n",
       "</table>\n"
      ],
      "text/latex": [
       "A tibble: 5 × 3\n",
       "\\begin{tabular}{lll}\n",
       " size & model\\_string & accuracy\\\\\n",
       " <int> & <chr> & <dbl>\\\\\n",
       "\\hline\n",
       "\t 1 & disease\\_status \\textasciitilde{} age                                              & 0.5745894\\\\\n",
       "\t 2 & disease\\_status \\textasciitilde{} age+resting\\_bp                                   & 0.5968116\\\\\n",
       "\t 3 & disease\\_status \\textasciitilde{} age+resting\\_bp+cholesterol                       & 0.5743961\\\\\n",
       "\t 4 & disease\\_status \\textasciitilde{} age+resting\\_bp+cholesterol+heartrate\\_max         & 0.6665700\\\\\n",
       "\t 5 & disease\\_status \\textasciitilde{} age+resting\\_bp+cholesterol+heartrate\\_max+oldpeak & 0.7152657\\\\\n",
       "\\end{tabular}\n"
      ],
      "text/markdown": [
       "\n",
       "A tibble: 5 × 3\n",
       "\n",
       "| size &lt;int&gt; | model_string &lt;chr&gt; | accuracy &lt;dbl&gt; |\n",
       "|---|---|---|\n",
       "| 1 | disease_status ~ age                                              | 0.5745894 |\n",
       "| 2 | disease_status ~ age+resting_bp                                   | 0.5968116 |\n",
       "| 3 | disease_status ~ age+resting_bp+cholesterol                       | 0.5743961 |\n",
       "| 4 | disease_status ~ age+resting_bp+cholesterol+heartrate_max         | 0.6665700 |\n",
       "| 5 | disease_status ~ age+resting_bp+cholesterol+heartrate_max+oldpeak | 0.7152657 |\n",
       "\n"
      ],
      "text/plain": [
       "  size model_string                                                     \n",
       "1 1    disease_status ~ age                                             \n",
       "2 2    disease_status ~ age+resting_bp                                  \n",
       "3 3    disease_status ~ age+resting_bp+cholesterol                      \n",
       "4 4    disease_status ~ age+resting_bp+cholesterol+heartrate_max        \n",
       "5 5    disease_status ~ age+resting_bp+cholesterol+heartrate_max+oldpeak\n",
       "  accuracy \n",
       "1 0.5745894\n",
       "2 0.5968116\n",
       "3 0.5743961\n",
       "4 0.6665700\n",
       "5 0.7152657"
      ]
     },
     "metadata": {},
     "output_type": "display_data"
    }
   ],
   "source": [
    "pred_names <- colnames(heart_train %>% select(-disease_status))\n",
    "pred_names\n",
    "\n",
    "pred_formula <- paste(\"disease_status\", \"~\", paste(pred_names, collapse=\"+\"))\n",
    "pred_formula\n",
    "\n",
    "# create an empty tibble to store the results\n",
    "accuracies <- tibble(size = integer(), \n",
    "                     model_string = character(), \n",
    "                     accuracy = numeric())\n",
    "\n",
    "# create a model specification\n",
    "knn_spec <- nearest_neighbor(weight_func = \"rectangular\", \n",
    "                             neighbors = tune()) %>%\n",
    "     set_engine(\"kknn\") %>%\n",
    "     set_mode(\"classification\")\n",
    "\n",
    "# create a 5-fold cross-validation object\n",
    "heart_vfold <- vfold_cv(heart_train, v = 5, strata = disease_status)\n",
    "\n",
    "# store the total number of predictors\n",
    "n_total <- length(pred_names)\n",
    "\n",
    "# stores selected predictors\n",
    "selected <- c()\n",
    "\n",
    "# for every size from 1 to the total number of predictors\n",
    "for (i in 1:n_total) {\n",
    "    # for every predictor still not added yet\n",
    "    accs <- list()\n",
    "    models <- list()\n",
    "    for (j in 1:length(names)) {\n",
    "        # create a model string for this combination of predictors\n",
    "        preds_new <- c(selected, pred_names[[j]])\n",
    "        model_string <- paste(\"disease_status\", \"~\", paste(preds_new, collapse=\"+\"))\n",
    "\n",
    "        # create a recipe from the model string\n",
    "        heart_recipe <- recipe(as.formula(model_string), \n",
    "                                data = heart_train) %>%\n",
    "                          step_scale(all_predictors()) %>%\n",
    "                          step_center(all_predictors())\n",
    "\n",
    "        # tune the KNN classifier with these predictors, \n",
    "        # and collect the accuracy for the best K\n",
    "        acc <- workflow() %>%\n",
    "          add_recipe(heart_recipe) %>%\n",
    "          add_model(knn_spec) %>%\n",
    "          tune_grid(resamples = heart_vfold, grid = 10) %>%\n",
    "          collect_metrics() %>%\n",
    "          filter(.metric == \"accuracy\") %>%\n",
    "          summarize(mx = max(mean))\n",
    "        acc <- acc$mx %>% unlist()\n",
    "\n",
    "        # add this result to the dataframe\n",
    "        accs[[j]] <- acc\n",
    "        models[[j]] <- model_string\n",
    "    }\n",
    "    jstar <- which.max(unlist(accs))\n",
    "    accuracies <- accuracies %>%\n",
    "      add_row(size = i, \n",
    "              model_string = models[[jstar]], \n",
    "              accuracy = accs[[jstar]])\n",
    "    selected <- c(selected, pred_names[[jstar]])\n",
    "    pred_names <- pred_names[-jstar]\n",
    "}\n",
    "accuracies"
   ]
  },
  {
   "cell_type": "markdown",
   "metadata": {},
   "source": [
    "We can see from the 5th row of the forward selection results table that the subset of predictors that produces the highest accuracy is the when we use all five. In light of this we will continue with our analysis using all five predictors. This solves problem #3 of K-nn classification, and we can begin our classification analysis.  \n",
    "***"
   ]
  },
  {
   "cell_type": "markdown",
   "metadata": {},
   "source": [
    "### C) Methods:"
   ]
  },
  {
   "cell_type": "markdown",
   "metadata": {},
   "source": [
    "To begin our classification analysis, we need to tune our classifier so that we know the number of K values that produces the most accurate classifier. To do this, we must create our model specification. This model will guide our classification by letting it know we intend to do K-nn classification and that we will be tuning."
   ]
  },
  {
   "cell_type": "code",
   "execution_count": 11,
   "metadata": {},
   "outputs": [
    {
     "data": {
      "text/plain": [
       "K-Nearest Neighbor Model Specification (classification)\n",
       "\n",
       "Main Arguments:\n",
       "  neighbors = tune()\n",
       "  weight_func = rectangular\n",
       "\n",
       "Computational engine: kknn \n"
      ]
     },
     "metadata": {},
     "output_type": "display_data"
    }
   ],
   "source": [
    "tune_spec <- nearest_neighbor(weight_func = \"rectangular\", neighbors = tune()) %>%\n",
    "    set_engine(\"kknn\") %>%\n",
    "    set_mode(\"classification\")\n",
    "tune_spec"
   ]
  },
  {
   "cell_type": "markdown",
   "metadata": {},
   "source": [
    "The optimal method of tuning involves using cross-validation. Cross-validation ensures that each observation is used only once and allows us to get an average of for each K value tested. In addition, by splitting our training data into five folds, it allows us to find the optimal K value for our classifier by validating against other subsets of training data. This way our testing data remains untainted in our training steps"
   ]
  },
  {
   "cell_type": "code",
   "execution_count": 12,
   "metadata": {},
   "outputs": [],
   "source": [
    "heart_vfold <- vfold_cv(data = heart_train, v = 5, strata = disease_status)"
   ]
  },
  {
   "cell_type": "markdown",
   "metadata": {},
   "source": [
    "Now we must create a recipe that will be placed into a workflow. By using a recipe it allows us to scale and center our training data in order to solve problem #2 that we discussed above without the potential error of doing this by hand. In addition, we ould add in other pre-processing steps in the future easily if we need to."
   ]
  },
  {
   "cell_type": "code",
   "execution_count": 13,
   "metadata": {},
   "outputs": [
    {
     "data": {
      "text/plain": [
       "Data Recipe\n",
       "\n",
       "Inputs:\n",
       "\n",
       "      role #variables\n",
       "   outcome          1\n",
       " predictor          5\n",
       "\n",
       "Operations:\n",
       "\n",
       "Scaling for all_predictors()\n",
       "Centering for all_predictors()"
      ]
     },
     "metadata": {},
     "output_type": "display_data"
    }
   ],
   "source": [
    "heart_recipe <- recipe(disease_status ~ . , data = heart_train) %>%\n",
    "    step_scale(all_predictors()) %>%\n",
    "    step_center(all_predictors())\n",
    "heart_recipe"
   ]
  },
  {
   "cell_type": "markdown",
   "metadata": {},
   "source": [
    "In order to test various K values, we need to set up a tibble of all the various possible K values that we'd like our tuning process to check."
   ]
  },
  {
   "cell_type": "code",
   "execution_count": 14,
   "metadata": {},
   "outputs": [
    {
     "data": {
      "text/html": [
       "<table>\n",
       "<caption>A tibble: 6 × 1</caption>\n",
       "<thead>\n",
       "\t<tr><th scope=col>neighbors</th></tr>\n",
       "\t<tr><th scope=col>&lt;dbl&gt;</th></tr>\n",
       "</thead>\n",
       "<tbody>\n",
       "\t<tr><td> 1</td></tr>\n",
       "\t<tr><td> 3</td></tr>\n",
       "\t<tr><td> 5</td></tr>\n",
       "\t<tr><td> 7</td></tr>\n",
       "\t<tr><td> 9</td></tr>\n",
       "\t<tr><td>11</td></tr>\n",
       "</tbody>\n",
       "</table>\n"
      ],
      "text/latex": [
       "A tibble: 6 × 1\n",
       "\\begin{tabular}{l}\n",
       " neighbors\\\\\n",
       " <dbl>\\\\\n",
       "\\hline\n",
       "\t  1\\\\\n",
       "\t  3\\\\\n",
       "\t  5\\\\\n",
       "\t  7\\\\\n",
       "\t  9\\\\\n",
       "\t 11\\\\\n",
       "\\end{tabular}\n"
      ],
      "text/markdown": [
       "\n",
       "A tibble: 6 × 1\n",
       "\n",
       "| neighbors &lt;dbl&gt; |\n",
       "|---|\n",
       "|  1 |\n",
       "|  3 |\n",
       "|  5 |\n",
       "|  7 |\n",
       "|  9 |\n",
       "| 11 |\n",
       "\n"
      ],
      "text/plain": [
       "  neighbors\n",
       "1  1       \n",
       "2  3       \n",
       "3  5       \n",
       "4  7       \n",
       "5  9       \n",
       "6 11       "
      ]
     },
     "metadata": {},
     "output_type": "display_data"
    }
   ],
   "source": [
    "k_vals <- tibble(neighbors = seq(from = 1, to = 100, by = 2))\n",
    "head(k_vals)"
   ]
  },
  {
   "cell_type": "markdown",
   "metadata": {},
   "source": [
    "Now we have all the pieces to perform our tuning and parameter value selection. We will use a workflow to combine all the work we have so far. A workflow provides a convenient an error-free way of performing our cross validation. By combining this with collect_metrics() function, we will produce an easy to read tibble of the various accuracies for each K value."
   ]
  },
  {
   "cell_type": "code",
   "execution_count": 15,
   "metadata": {},
   "outputs": [],
   "source": [
    "cv_heart_results <- workflow() %>%\n",
    "  add_recipe(heart_recipe) %>%\n",
    "  add_model(tune_spec) %>%\n",
    "  tune_grid(resamples = heart_vfold, grid = k_vals) %>%\n",
    "  collect_metrics() "
   ]
  },
  {
   "cell_type": "code",
   "execution_count": 16,
   "metadata": {},
   "outputs": [
    {
     "data": {
      "text/html": [
       "<table>\n",
       "<caption>A tibble: 6 × 7</caption>\n",
       "<thead>\n",
       "\t<tr><th scope=col>neighbors</th><th scope=col>.metric</th><th scope=col>.estimator</th><th scope=col>mean</th><th scope=col>n</th><th scope=col>std_err</th><th scope=col>.config</th></tr>\n",
       "\t<tr><th scope=col>&lt;dbl&gt;</th><th scope=col>&lt;chr&gt;</th><th scope=col>&lt;chr&gt;</th><th scope=col>&lt;dbl&gt;</th><th scope=col>&lt;int&gt;</th><th scope=col>&lt;dbl&gt;</th><th scope=col>&lt;chr&gt;</th></tr>\n",
       "</thead>\n",
       "<tbody>\n",
       "\t<tr><td>39</td><td>accuracy</td><td>binary</td><td>0.7194203</td><td>5</td><td>0.01826726</td><td>Model20</td></tr>\n",
       "\t<tr><td>45</td><td>accuracy</td><td>binary</td><td>0.7194203</td><td>5</td><td>0.01385337</td><td>Model23</td></tr>\n",
       "\t<tr><td>51</td><td>accuracy</td><td>binary</td><td>0.7151691</td><td>5</td><td>0.01989294</td><td>Model26</td></tr>\n",
       "\t<tr><td>55</td><td>accuracy</td><td>binary</td><td>0.7151691</td><td>5</td><td>0.01989294</td><td>Model28</td></tr>\n",
       "\t<tr><td>35</td><td>accuracy</td><td>binary</td><td>0.7150725</td><td>5</td><td>0.02233347</td><td>Model18</td></tr>\n",
       "\t<tr><td>37</td><td>accuracy</td><td>binary</td><td>0.7150725</td><td>5</td><td>0.01759966</td><td>Model19</td></tr>\n",
       "</tbody>\n",
       "</table>\n"
      ],
      "text/latex": [
       "A tibble: 6 × 7\n",
       "\\begin{tabular}{lllllll}\n",
       " neighbors & .metric & .estimator & mean & n & std\\_err & .config\\\\\n",
       " <dbl> & <chr> & <chr> & <dbl> & <int> & <dbl> & <chr>\\\\\n",
       "\\hline\n",
       "\t 39 & accuracy & binary & 0.7194203 & 5 & 0.01826726 & Model20\\\\\n",
       "\t 45 & accuracy & binary & 0.7194203 & 5 & 0.01385337 & Model23\\\\\n",
       "\t 51 & accuracy & binary & 0.7151691 & 5 & 0.01989294 & Model26\\\\\n",
       "\t 55 & accuracy & binary & 0.7151691 & 5 & 0.01989294 & Model28\\\\\n",
       "\t 35 & accuracy & binary & 0.7150725 & 5 & 0.02233347 & Model18\\\\\n",
       "\t 37 & accuracy & binary & 0.7150725 & 5 & 0.01759966 & Model19\\\\\n",
       "\\end{tabular}\n"
      ],
      "text/markdown": [
       "\n",
       "A tibble: 6 × 7\n",
       "\n",
       "| neighbors &lt;dbl&gt; | .metric &lt;chr&gt; | .estimator &lt;chr&gt; | mean &lt;dbl&gt; | n &lt;int&gt; | std_err &lt;dbl&gt; | .config &lt;chr&gt; |\n",
       "|---|---|---|---|---|---|---|\n",
       "| 39 | accuracy | binary | 0.7194203 | 5 | 0.01826726 | Model20 |\n",
       "| 45 | accuracy | binary | 0.7194203 | 5 | 0.01385337 | Model23 |\n",
       "| 51 | accuracy | binary | 0.7151691 | 5 | 0.01989294 | Model26 |\n",
       "| 55 | accuracy | binary | 0.7151691 | 5 | 0.01989294 | Model28 |\n",
       "| 35 | accuracy | binary | 0.7150725 | 5 | 0.02233347 | Model18 |\n",
       "| 37 | accuracy | binary | 0.7150725 | 5 | 0.01759966 | Model19 |\n",
       "\n"
      ],
      "text/plain": [
       "  neighbors .metric  .estimator mean      n std_err    .config\n",
       "1 39        accuracy binary     0.7194203 5 0.01826726 Model20\n",
       "2 45        accuracy binary     0.7194203 5 0.01385337 Model23\n",
       "3 51        accuracy binary     0.7151691 5 0.01989294 Model26\n",
       "4 55        accuracy binary     0.7151691 5 0.01989294 Model28\n",
       "5 35        accuracy binary     0.7150725 5 0.02233347 Model18\n",
       "6 37        accuracy binary     0.7150725 5 0.01759966 Model19"
      ]
     },
     "metadata": {},
     "output_type": "display_data"
    }
   ],
   "source": [
    "accuracies <- cv_heart_results %>%\n",
    "    filter(.metric == \"accuracy\") %>%\n",
    "    arrange(desc(mean))\n",
    "\n",
    "head(accuracies)"
   ]
  },
  {
   "cell_type": "markdown",
   "metadata": {},
   "source": [
    "Now we can see that the best K value is either 39 or 45, but we also want a K value that still returns a high accuracy if the value shifts slightly. To determine the best K value we will plot this dataframe so that we can easily visualize the best options."
   ]
  },
  {
   "cell_type": "code",
   "execution_count": 17,
   "metadata": {},
   "outputs": [
    {
     "data": {
      "image/png": "[encoded data removed]",
      "text/plain": [
       "plot without title"
      ]
     },
     "metadata": {
      "image/png": {
       "height": 420,
       "width": 600
      }
     },
     "output_type": "display_data"
    }
   ],
   "source": [
    "accuracy_vs_k <- ggplot(accuracies, aes(x = neighbors, y = mean)) +\n",
    "  geom_point() +\n",
    "  geom_line() +\n",
    "  labs(x = \"Neighbors\", y = \"Accuracy Estimate\") + \n",
    "  theme(text = element_text(size = 12))\n",
    "\n",
    "accuracy_vs_k"
   ]
  },
  {
   "cell_type": "markdown",
   "metadata": {},
   "source": [
    "From the above graph, it appears that any K value between 35 and 55 gives us a high accuracy with some relative stability. We will choose K=37 as our optimal parameter value because:\n",
    "* 1) It is not too high a value that would make computation excedingly long\n",
    "* 2) It returns one of the highest accuracies\n",
    "* 3) It is relatively stable on either side if the K value is changed slightly"
   ]
  },
  {
   "cell_type": "markdown",
   "metadata": {},
   "source": [
    "Now that we have a our optimal parameter, we must re-train our classifier with this parameter. To do this, we must create a new specialization that dictates the optmal parameter and we must use the fit function in our workflow."
   ]
  },
  {
   "cell_type": "code",
   "execution_count": 18,
   "metadata": {},
   "outputs": [
    {
     "data": {
      "text/plain": [
       "K-Nearest Neighbor Model Specification (classification)\n",
       "\n",
       "Main Arguments:\n",
       "  neighbors = 37\n",
       "  weight_func = rectangular\n",
       "\n",
       "Computational engine: kknn \n"
      ]
     },
     "metadata": {},
     "output_type": "display_data"
    },
    {
     "data": {
      "text/plain": [
       "══ Workflow [trained] ══════════════════════════════════════════════════════════\n",
       "\u001b[3mPreprocessor:\u001b[23m Recipe\n",
       "\u001b[3mModel:\u001b[23m nearest_neighbor()\n",
       "\n",
       "── Preprocessor ────────────────────────────────────────────────────────────────\n",
       "2 Recipe Steps\n",
       "\n",
       "● step_scale()\n",
       "● step_center()\n",
       "\n",
       "── Model ───────────────────────────────────────────────────────────────────────\n",
       "\n",
       "Call:\n",
       "kknn::train.kknn(formula = ..y ~ ., data = data, ks = ~37, kernel = ~\"rectangular\")\n",
       "\n",
       "Type of response variable: nominal\n",
       "Minimal misclassification: 0.2894737\n",
       "Best kernel: rectangular\n",
       "Best k: 37"
      ]
     },
     "metadata": {},
     "output_type": "display_data"
    }
   ],
   "source": [
    "heart_spec <- nearest_neighbor(weight_func = \"rectangular\", neighbors = 37) %>%\n",
    "    set_engine(\"kknn\") %>%\n",
    "    set_mode(\"classification\")\n",
    "heart_spec\n",
    "\n",
    "heart_fit <- workflow() %>%\n",
    "    add_recipe(heart_recipe) %>%\n",
    "    add_model(heart_spec) %>%\n",
    "    fit(heart_train)\n",
    "heart_fit"
   ]
  },
  {
   "cell_type": "markdown",
   "metadata": {},
   "source": [
    "Now we can fit our testing data to our training classifier to see what classes our testing data would be assigned. We do this by using the predict function. Once we have these class predictions, we must bind the predictions to the original testing data. This will allow us to calculate the accuracy of our classifier."
   ]
  },
  {
   "cell_type": "code",
   "execution_count": 19,
   "metadata": {},
   "outputs": [
    {
     "data": {
      "text/html": [
       "<table>\n",
       "<caption>A tibble: 1 × 3</caption>\n",
       "<thead>\n",
       "\t<tr><th scope=col>.metric</th><th scope=col>.estimator</th><th scope=col>.estimate</th></tr>\n",
       "\t<tr><th scope=col>&lt;chr&gt;</th><th scope=col>&lt;chr&gt;</th><th scope=col>&lt;dbl&gt;</th></tr>\n",
       "</thead>\n",
       "<tbody>\n",
       "\t<tr><td>accuracy</td><td>binary</td><td>0.7333333</td></tr>\n",
       "</tbody>\n",
       "</table>\n"
      ],
      "text/latex": [
       "A tibble: 1 × 3\n",
       "\\begin{tabular}{lll}\n",
       " .metric & .estimator & .estimate\\\\\n",
       " <chr> & <chr> & <dbl>\\\\\n",
       "\\hline\n",
       "\t accuracy & binary & 0.7333333\\\\\n",
       "\\end{tabular}\n"
      ],
      "text/markdown": [
       "\n",
       "A tibble: 1 × 3\n",
       "\n",
       "| .metric &lt;chr&gt; | .estimator &lt;chr&gt; | .estimate &lt;dbl&gt; |\n",
       "|---|---|---|\n",
       "| accuracy | binary | 0.7333333 |\n",
       "\n"
      ],
      "text/plain": [
       "  .metric  .estimator .estimate\n",
       "1 accuracy binary     0.7333333"
      ]
     },
     "metadata": {},
     "output_type": "display_data"
    }
   ],
   "source": [
    "prediction <- predict(heart_fit, heart_test) %>%\n",
    "    bind_cols(heart_test) %>%\n",
    "    metrics(truth = disease_status, estimate = .pred_class) %>%\n",
    "    filter(.metric == \"accuracy\")\n",
    "prediction"
   ]
  },
  {
   "cell_type": "markdown",
   "metadata": {},
   "source": [
    "We have found the accuracy of our classifier to be about 73%!  \n",
    "***"
   ]
  },
  {
   "cell_type": "markdown",
   "metadata": {},
   "source": [
    "### D) Discussion:"
   ]
  },
  {
   "cell_type": "markdown",
   "metadata": {},
   "source": [
    "Over the course of this analysis we found that:  \n",
    "1) During our predictor selection age, resting blood pressure, cholesterol, max heartrate, and oldpeak are all found to increase accuracy.   \n",
    "2) Using cross-validation we tuned our parameter value and found a K value of 37 to be the most accurate/ optimal.  \n",
    "3) We fit our training data with the K-nn algorithm with our optimal K value to produce our classifier.  \n",
    "4) When we predicted classes of our testing data, we found our classifier to be approximately 73% accurate.\n"
   ]
  },
  {
   "cell_type": "markdown",
   "metadata": {},
   "source": [
    "We found these results to be very interesting. Firstly, we did not expect to have so many predictors that increased the accuracy of our classifier during our forward selection. K-nn classification has a weakness of potentially not working well with many predictors, and therefore, will punish the use of irrelevant predictors. This must mean that the available predictors provide a meaningful increase in accuracy. In addition, we were pleasantly surprised with the accuracy of our classifier on the testing data. Since the majority classifier is approximately 60%, using our classifier would provide significant improvement."
   ]
  },
  {
   "cell_type": "markdown",
   "metadata": {},
   "source": [
    "Unfortunately, we do not think that the accuracy of our model is robust enough to cause significant changes/ impacts to how hospitals treat new admissions with chest pain. Even though this classifier is better than the majority classifier, the penalty for an incorrect diagnosis could be disasterous to a patient with heart disease. However, depending on how this tool is used, it could offer physicians a hint about a new patient's possible prognosis and allow them the ability to modify their treatments accordingly."
   ]
  },
  {
   "cell_type": "markdown",
   "metadata": {},
   "source": [
    "We believe that the potential of our classifier will spark the interest for future studies. While our predictors are not perfectly accurate, perhaps a slightly different subset of predictors will be sufficient to revolutionize hospital admissions screening and patients outcomes. We believe that future studies should be done to answer these questions.  \n",
    "***"
   ]
  },
  {
   "cell_type": "markdown",
   "metadata": {},
   "source": [
    "### D) Significance:\n",
    "        \n",
    "We believe that our analysis and visualizations will be able to provide a decent estimation for whether or not someone coming into the hospital in Cleveland for heart issues is likely to have advanced heart disease. By comparing new hospital admissions to our analysis, doctors could have an early indication of their disease status. This could lead doctors to make more informed decisions regarding patient care and improve treatments and prognosis. If this analysis proves to be accurate, it would likely lead to the examination of other possible predictors for heart disease, and other diseases. It has the potential to significantly improve patient care in Cleveland."
   ]
  },
  {
   "cell_type": "markdown",
   "metadata": {},
   "source": [
    "### E) Appendix\n",
    "\n",
    "\n",
    "#### References:\n",
    "\n",
    "Ornish, D., Brown, B.E., Billings, J.H., Scherwitz, L.W., Armstrong, W.T., Ports, T.A., McLanahan, S.M., Kirkeeide, R.L, Gould, K.l. and Brand, R.J. (1990). Can lifestyle changes reverse coronary heart disease?: The Lifestyle Heart Trial. The Lancet, 336(8708), 129-133. https://doi.org/10.1016/0140-6736(90)91656-U.\n",
    "\n",
    "#### Complete attribute documentation:\n",
    "\n",
    "* X1 age: age in years\n",
    "* X2 sex: sex (1 = male; 0 = female)\n",
    "* X3 chest_pain_type:\n",
    "-- Value 1: typical angina\n",
    "-- Value 2: atypical angina\n",
    "-- Value 3: non-anginal pain\n",
    "-- Value 4: asymptomatic\n",
    "* X4 resting_bp: resting blood pressure (in mm Hg on admission to the hospital)\n",
    "* X5 cholesterol: serum cholesterol in mg/dl\n",
    "* X6 fasting_bs: (fasting blood sugar > 120 mg/dl) (1 = true; 0 = false)\n",
    "* X7 resting_ecg: resting electrocardiographic results\n",
    "-- Value 0: normal\n",
    "-- Value 1: having ST-T wave abnormality (T wave inversions and/or ST elevation or depression of > 0.05 mV)\n",
    "-- Value 2: showing probable or definite left ventricular hypertrophy by Estes' criteria\n",
    "* X8 heartrate_max: maximum heart rate achieved\n",
    "* X9 exang: exercise induced angina (1 = yes; 0 = no)\n",
    "* X10 oldpeak = ST depression induced by exercise relative to rest\n",
    "* X11 slope: the slope of the peak exercise ST segment\n",
    "-- Value 1: upsloping\n",
    "-- Value 2: flat\n",
    "-- Value 3: downsloping\n",
    "* X12 ca: number of major vessels (0-3) colored by flourosopy\n",
    "* X13 thal: 3 = normal; 6 = fixed defect; 7 = reversable defect\n",
    "* X14 disease_status: diagnosis of heart disease (angiographic disease status)\n",
    "-- Value 0: < 50% diameter narrowing\n",
    "-- Value 1: > 50% diameter narrowing"
   ]
  },
  {
   "cell_type": "code",
   "execution_count": null,
   "metadata": {},
   "outputs": [],
   "source": []
  }
 ],
 "metadata": {
  "kernelspec": {
   "display_name": "R",
   "language": "R",
   "name": "ir"
  },
  "language_info": {
   "codemirror_mode": "r",
   "file_extension": ".r",
   "mimetype": "text/x-r-source",
   "name": "R",
   "pygments_lexer": "r",
   "version": "4.0.0"
  }
 },
 "nbformat": 4,
 "nbformat_minor": 4
}
